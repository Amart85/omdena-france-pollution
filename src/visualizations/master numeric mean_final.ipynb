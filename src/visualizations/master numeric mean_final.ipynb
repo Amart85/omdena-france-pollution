{
 "cells": [
  {
   "cell_type": "code",
   "execution_count": null,
   "metadata": {},
   "outputs": [],
   "source": [
    "# For Visualisation\n",
    "import matplotlib.pyplot as plt\n",
    "import seaborn as sns\n",
    "import numpy as np\n",
    "import plotly.express as px\n",
    "from plotly.subplots import make_subplots\n",
    "import plotly.graph_objects as go\n",
    "\n",
    "%matplotlib inline\n",
    "import pandas as pd\n",
    "\n",
    "\n",
    "import warnings\n",
    "warnings.filterwarnings('ignore')"
   ]
  },
  {
   "cell_type": "code",
   "execution_count": null,
   "metadata": {},
   "outputs": [],
   "source": [
    "master_numeric = pd.read_csv('master_numeric_mean.csv')"
   ]
  },
  {
   "cell_type": "code",
   "execution_count": null,
   "metadata": {},
   "outputs": [],
   "source": [
    "master_numeric[\"('mean', 'so2')\"] = master_numeric[\"('mean', 'so2')\"]*100"
   ]
  },
  {
   "cell_type": "code",
   "execution_count": null,
   "metadata": {},
   "outputs": [],
   "source": [
    "master_numeric.sort_values(by=['date'],inplace=True)"
   ]
  },
  {
   "cell_type": "code",
   "execution_count": null,
   "metadata": {},
   "outputs": [],
   "source": [
    "master_numeric.drop([\"('mean', 'humidity')\",\"('mean', 'temperature')\"],axis=1,inplace=True)"
   ]
  },
  {
   "cell_type": "raw",
   "metadata": {},
   "source": [
    "# master_numeric[(master_numeric.index < master_numeric[master_numeric.lockdown == 'lockdown_1'].index[0]) & \n",
    "#               (master_numeric.lockdown == 'No lockdown')]['date'].iloc[-1]\n",
    "\n",
    "# master_numeric[(master_numeric.index > master_numeric[master_numeric.lockdown == 'lockdown_1'].index[-1]) & \n",
    "#                (master_numeric.index < master_numeric[master_numeric.lockdown == 'lockdown_2'].index[0]) & \n",
    "#                (master_numeric.lockdown == 'No lockdown')]['date'].iloc[-1]\n",
    "\n",
    "# master_numeric[(master_numeric.index > master_numeric[master_numeric.lockdown == 'lockdown_2'].index[-1]) & \n",
    "#                (master_numeric.index < master_numeric[master_numeric.lockdown == 'lockdown_3'].index[0]) &\n",
    "#               (master_numeric.lockdown == 'No lockdown')]['date'].iloc[-1]\n",
    "\n",
    "master_numeric[(master_numeric.index > master_numeric[master_numeric.lockdown == 'lockdown_3'].index[-1]) &\n",
    "              (master_numeric.lockdown == 'No lockdown')]['date'].iloc[-1]"
   ]
  },
  {
   "cell_type": "code",
   "execution_count": null,
   "metadata": {},
   "outputs": [],
   "source": [
    "B_lockdown1 = master_numeric['date'].between('2020-02-15','2020-03-17')\n",
    "Lockdown1 = master_numeric['date'].between('2020-03-17','2020-05-10')\n",
    "\n",
    "B_lockdown2 = master_numeric['date'].between('2020-05-10','2020-10-17')\n",
    "Lockdown2 = master_numeric['date'].between('2020-10-17','2020-12-14')\n",
    "\n",
    "B_lockdown3 = master_numeric['date'].between('2020-12-14','2021-02-26')\n",
    "Lockdown3 = master_numeric['date'].between('2021-02-26','2021-05-02')\n",
    "\n",
    "A_lockdown3 = master_numeric['date'].between('2021-05-02','2021-07-27')\n",
    "\n",
    "master_numeric['lockdown'] = np.select([B_lockdown1, Lockdown1, B_lockdown2, Lockdown2, B_lockdown3, Lockdown3, A_lockdown3], \n",
    "                                       ['before_lockdown1','lockdown_1','before_lockdown2','lockdown_2','before_lockdown3','lockdown_3','after_lockdown3'], \n",
    "                                       default='No lockdown')"
   ]
  },
  {
   "cell_type": "code",
   "execution_count": null,
   "metadata": {},
   "outputs": [],
   "source": [
    "master_numeric.columns"
   ]
  },
  {
   "cell_type": "code",
   "execution_count": null,
   "metadata": {},
   "outputs": [],
   "source": [
    "master_numeric.columns  = ['date', 'region', 'lockdown',\n",
    "       'retail_and_recreation',\n",
    "       'grocery_and_pharmacy',\n",
    "       'residential', 'driving', 'walking',\n",
    "       'transit', 'geometry','no2', 'o3', 'pm10','pm25', 'pressure', 'so2'\n",
    "                          ]"
   ]
  },
  {
   "cell_type": "code",
   "execution_count": null,
   "metadata": {},
   "outputs": [],
   "source": [
    "master_numeric.region.unique()"
   ]
  },
  {
   "cell_type": "markdown",
   "metadata": {},
   "source": [
    "### functions"
   ]
  },
  {
   "cell_type": "code",
   "execution_count": null,
   "metadata": {},
   "outputs": [],
   "source": [
    "def stacked_chart(dataset,color_no2,color_o3,color_pm10,color_pm25,color_so2):\n",
    "\n",
    "    fig = go.Figure()\n",
    "\n",
    "    fig.add_trace(go.Scatter(\n",
    "        x=dataset.date, y=dataset.driving,\n",
    "        hoverinfo='x+y',\n",
    "        mode='lines',\n",
    "        name='driving',opacity=0.5,\n",
    "        line=dict(width=0.5, color='rgb(0, 100, 0)'),\n",
    "        stackgroup='one'))\n",
    "    fig.add_trace(go.Scatter(\n",
    "        x=dataset.date, y=(dataset.grocery_and_pharmacy)+100,\n",
    "        hoverinfo='x+y',\n",
    "        mode='lines',\n",
    "        line=dict(width=0.5, color='rgb(255,0,255)'),\n",
    "        stackgroup='one',opacity=0.5,\n",
    "        name='grocery and pharmacy'))\n",
    "\n",
    "    fig.add_trace(go.Scatter(\n",
    "        x=dataset.date, y=(dataset.retail_and_recreation)+100,\n",
    "        hoverinfo='x+y',\n",
    "        mode='lines',\n",
    "        line=dict(width=0.5, color='rgb(47,79,79)'),\n",
    "        stackgroup='one',opacity=0.5,\n",
    "        name='retail and recreation'))\n",
    "\n",
    "    fig.add_trace(go.Scatter(\n",
    "        x=dataset.date, y=(dataset.residential)+100,\n",
    "        hoverinfo='x+y',\n",
    "        mode='lines',\n",
    "        line=dict(width=0.5, color='rgb(75,0,130)'),\n",
    "        stackgroup='one',opacity=0.5,\n",
    "        name='residential'))\n",
    "\n",
    "    fig.add_trace(go.Scatter(\n",
    "        x=dataset.date, y=(dataset[\"so2\"]*100),mode='markers',\n",
    "        marker=dict(color=color_so2),\n",
    "        hoverinfo='x+y',\n",
    "    #     line=dict(width=0.5, color='rgb(256, 50, 100)'),\n",
    "    #     stackgroup='one',\n",
    "        name='so2'))\n",
    "\n",
    "    fig.add_trace(go.Scatter(\n",
    "        x=dataset.date, y=(dataset[\"no2\"]*100),mode='markers',\n",
    "        marker=dict(color=color_no2),\n",
    "        hoverinfo='x+y',\n",
    "    #     line=dict(width=0.5, color='rgb(256, 50, 100)'),\n",
    "    #     stackgroup='one',\n",
    "        name='no2'))\n",
    "\n",
    "    fig.add_trace(go.Scatter(\n",
    "        x=dataset.date, y=(dataset[\"o3\"]*100),mode='markers',\n",
    "        marker=dict(color=color_o3),\n",
    "        hoverinfo='x+y',\n",
    "    #     line=dict(width=0.5, color='rgb(256, 50, 100)'),\n",
    "    #     stackgroup='one',\n",
    "        name='o3'))\n",
    "\n",
    "    fig.add_trace(go.Scatter(\n",
    "        x=dataset.date, y=(dataset[\"pm10\"]*100),mode='markers',\n",
    "        marker=dict(color=color_pm10),\n",
    "        hoverinfo='x+y',\n",
    "    #     line=dict(width=0.5, color='rgb(256, 50, 100)'),\n",
    "    #     stackgroup='one',\n",
    "        name='pm10'))\n",
    "\n",
    "    fig.add_trace(go.Scatter(\n",
    "        x=dataset.date, y=(dataset[\"pm25\"]*100),mode='markers',\n",
    "        marker=dict(color=color_pm25),\n",
    "        hoverinfo='x+y',\n",
    "    #     line=dict(width=0.5, color='rgb(256, 50, 100)'),\n",
    "    #     stackgroup='one',\n",
    "        name='pm25'))\n",
    "\n",
    "    \n",
    "    fig.add_vrect(x0=dataset[dataset.lockdown== 'lockdown_1']['date'].iloc[0],\n",
    "                  x1=dataset[dataset.lockdown== 'lockdown_1']['date'].iloc[-1],annotation_text=\"lockdown 1\")\n",
    "    fig.add_vrect(x0=dataset[dataset.lockdown== 'lockdown_2']['date'].iloc[0],\n",
    "                  x1=dataset[dataset.lockdown== 'lockdown_2']['date'].iloc[-1],annotation_text=\"lockdown 2\")\n",
    "    fig.add_vrect(x0=dataset[dataset.lockdown== 'lockdown_3']['date'].iloc[0],\n",
    "                  x1=dataset[dataset.lockdown== 'lockdown_3']['date'].iloc[-1],annotation_text=\"lockdown 3\")\n",
    "\n",
    "\n",
    "    # fig = px.area(data_frame=marseille,x='date',y='driving')\n",
    "    # fig.add_trace(px.area(data_frame=marseille,x='date',y=\"(\\'mean\\', \\'so2\\')\"))\n",
    "    # fig.update_layout(yaxis_range=(0, 1000))\n",
    "    fig.update_xaxes(rangeslider_visible=True)\n",
    "    fig.show()"
   ]
  },
  {
   "cell_type": "code",
   "execution_count": null,
   "metadata": {},
   "outputs": [],
   "source": [
    "def linear_to_quality_catagory(dataset,col,very_low,low,medium,high,very_high):\n",
    "    \n",
    "    air_pollutant = []\n",
    "    \n",
    "    for j in range(len(dataset[col])):\n",
    "\n",
    "        if dataset[col].values[j] < very_low:\n",
    "            dataset[col].iloc[j] = 1\n",
    "            air_pollutant.append('green')\n",
    "        \n",
    "        elif very_low < dataset[col].values[j] < low:\n",
    "            dataset[col].iloc[j] = 2\n",
    "            air_pollutant.append('yellow')\n",
    "        \n",
    "        elif low < dataset[col].values[j] < medium:\n",
    "            dataset[col].iloc[j] = 3\n",
    "            air_pollutant.append('orange')\n",
    "        \n",
    "        elif medium < dataset[col].values[j] < high:\n",
    "            dataset[col].iloc[j] = 4\n",
    "            air_pollutant.append('red')\n",
    "        \n",
    "        elif high < dataset[col].values[j] < very_high:\n",
    "            dataset[col].iloc[j] = 5\n",
    "            air_pollutant.append('brown')\n",
    "        \n",
    "        elif very_high<=dataset[col].values[j]:\n",
    "            dataset[col].iloc[j] = 6\n",
    "            air_pollutant.append('black')\n",
    "        else:\n",
    "            dataset[col].iloc[j] = 0\n",
    "            air_pollutant.append('gray')\n",
    "\n",
    "    return dataset[col],air_pollutant"
   ]
  },
  {
   "cell_type": "code",
   "execution_count": null,
   "metadata": {},
   "outputs": [],
   "source": [
    "def air_pollutant_catagory_color(dataset):\n",
    "    dataset[\"no2\"],color_no2 = linear_to_quality_catagory(dataset,\"no2\",10,20,35,50,100)\n",
    "    dataset[\"so2')\"],color_so2 = linear_to_quality_catagory(dataset,\"so2\",25,50,120,350,500)\n",
    "    dataset[\"pm10\"],color_pm10 = linear_to_quality_catagory(dataset,\"pm10\",10,20,35,50,100)\n",
    "    dataset[\"pm25\"],color_pm25 = linear_to_quality_catagory(dataset,\"pm25\",5,10,20,25,60)\n",
    "    dataset[\"o3\"],color_o3 = linear_to_quality_catagory(dataset,\"o3\",33,65,120,180,240)\n",
    "    \n",
    "    return dataset,color_no2,color_o3,color_pm10,color_pm25,color_so2"
   ]
  },
  {
   "cell_type": "code",
   "execution_count": null,
   "metadata": {},
   "outputs": [],
   "source": [
    "def gauge_mobility_lockdowns(dataset,column1,lockdown,x1,x2,y1,y2):\n",
    "    fig_g.add_trace(go.Indicator(\n",
    "        mode = \"gauge+number\",\n",
    "        delta = {'reference': dataset[column1].mean()},\n",
    "        value = dataset[dataset.lockdown== lockdown][column1].mean(),\n",
    "        title = {'text': lockdown,'font' : {'size' : 13}},\n",
    "        domain = {'x': [x1, x2], 'y': [y1, y2]},\n",
    "        gauge = {\n",
    "        'axis': {'range': [None, dataset[column1].quantile(1.0)], 'tickwidth': 1, 'tickcolor': \"gray\"},\n",
    "        'bar': {'color': \"black\"},\n",
    "        'bgcolor': \"white\",\n",
    "        'borderwidth': 0.01,\n",
    "        'bordercolor': \"gray\",\n",
    "        'steps': [\n",
    "            {'range': [0, \n",
    "                       dataset[column1].quantile(0.25)], 'color': 'orange'},\n",
    "            {'range': [dataset[column1].quantile(0.25), \n",
    "                       dataset[column1].quantile(0.50)], 'color': 'yellow'},\n",
    "            {'range': [dataset[column1].quantile(0.50),\n",
    "                       dataset[column1].quantile(0.75)], 'color': 'red'},\n",
    "            {'range': [dataset[column1].quantile(0.75),\n",
    "                      dataset[column1].quantile(1.0)], 'color': 'gray'}]\n",
    "        }\n",
    "            ))\n",
    "    return fig_g\n",
    "\n"
   ]
  },
  {
   "cell_type": "code",
   "execution_count": null,
   "metadata": {},
   "outputs": [],
   "source": [
    "def gauge_air_pollutant_lockdowns(dataset,column2,lockdown,x1,x2,y1,y2):\n",
    "    fig_g.add_trace(go.Indicator(\n",
    "        mode = \"gauge+number\",\n",
    "        delta = {'reference': dataset[column2].mean()},\n",
    "        value = dataset[dataset.lockdown== lockdown][column2].mean(),\n",
    "        title = {'text': lockdown,'font' : {'size' : 13}},\n",
    "        domain = {'x': [x1, x2], 'y': [y1, y2]},\n",
    "        gauge = {\n",
    "        'axis': {'range': [None, dataset[column2].quantile(1.0)], 'tickwidth': 1, 'tickcolor': \"gray\"},\n",
    "        'bar': {'color': \"black\"},\n",
    "        'bgcolor': \"white\",\n",
    "        'borderwidth': 0.1,\n",
    "        'bordercolor': \"gray\",\n",
    "        'steps': [\n",
    "            {'range': [0, \n",
    "                       1], 'color': 'ghostwhite'},\n",
    "            {'range': [1, \n",
    "                       2], 'color': 'lavender'},\n",
    "            {'range': [2,\n",
    "                       3], 'color': 'cornflowerblue'},\n",
    "            {'range': [3,\n",
    "                      4], 'color': 'royalblue'},\n",
    "            {'range': [4,\n",
    "                       5], 'color': 'blue'},\n",
    "            {'range': [5,\n",
    "                       6], 'color': 'navy'}]\n",
    "        }\n",
    "            ))\n",
    "    return fig_g\n",
    "\n"
   ]
  },
  {
   "cell_type": "code",
   "execution_count": null,
   "metadata": {},
   "outputs": [],
   "source": [
    "def gauge_compare(dataset,column1,column2):\n",
    "    \n",
    "#################### before lockdown1 ############################\n",
    "    fig_b = gauge_mobility_lockdowns(dataset,column1,'before_lockdown1',0,0.2,0.9,1)\n",
    "    fig_b = gauge_air_pollutant_lockdowns(dataset,column2,'before_lockdown1',0.2,0.4,0.9,1)\n",
    "\n",
    "#################### lockdown 1 ############################\n",
    "\n",
    "    fig_b = gauge_mobility_lockdowns(dataset,column1,'lockdown_1',0,0.2,0.65,0.75)\n",
    "    fig_b = gauge_air_pollutant_lockdowns(dataset,column2,'lockdown_1',0.2,0.4,0.65,0.75)\n",
    "\n",
    "#################### before lockdown2 ############################\n",
    "\n",
    "    fig_b = gauge_mobility_lockdowns(dataset,column1,'before_lockdown2',0.6,0.8,0.7,0.8)\n",
    "    fig_b = gauge_air_pollutant_lockdowns(dataset,column2,'before_lockdown2',0.8,1,0.7,0.8)\n",
    "\n",
    "#################### lockdown 2 ############################\n",
    "    fig_b = gauge_mobility_lockdowns(dataset,column1,'lockdown_2',0.6,0.8,0.4,0.5)\n",
    "    fig_b = gauge_air_pollutant_lockdowns(dataset,column2,'lockdown_2',0.8,1,0.4,0.5)\n",
    "\n",
    "# ####################before lockdown3 ############################\n",
    "\n",
    "    fig_b = gauge_mobility_lockdowns(dataset,column1,'before_lockdown3',0.1,0.3,0.3,0.4)\n",
    "    fig_b = gauge_air_pollutant_lockdowns(dataset,column2,'before_lockdown3',0.3,0.5,0.3,0.4)\n",
    "\n",
    "# #################### lockdown 3 ############################\n",
    "\n",
    "    fig_b = gauge_mobility_lockdowns(dataset,column1,'lockdown_3',0.1,0.3,0,0.1)\n",
    "    fig_b = gauge_air_pollutant_lockdowns(dataset,column2,'lockdown_3',0.3,0.5,0,0.1)\n",
    "\n",
    "# #################### after lockdown 3 ############################\n",
    "\n",
    "    fig_b = gauge_mobility_lockdowns(dataset,column1,'after_lockdown3',0.5,0.7,0,0.1)\n",
    "    fig_b = gauge_air_pollutant_lockdowns(dataset,column2,'after_lockdown3',0.7,0.9,0,0.1)\n",
    "\n",
    "    fig_b.update_layout(title=column1+' vs '+column2)\n",
    "    fig_b.show()"
   ]
  },
  {
   "cell_type": "code",
   "execution_count": null,
   "metadata": {},
   "outputs": [],
   "source": [
    "def bulleten_mobility_lockdowns(dataset,column1,lockdown,x1,x2,y1,y2):\n",
    "    fig_b.add_trace(go.Indicator(\n",
    "        mode = \"number+gauge+delta\",\n",
    "        delta = {'reference': dataset[dataset.lockdown== lockdown][column1].mean()},\n",
    "        value = dataset[dataset.lockdown== lockdown][column1].mean(),\n",
    "#         title = {'text': column1},\n",
    "        domain = {'x': [x1, x2], 'y': [y1, y2]},\n",
    "        gauge = {\n",
    "        'shape': \"bullet\",\n",
    "        'axis': {'range': [None, dataset[column1].quantile(1.0)], 'tickwidth': 0.5, 'tickcolor': \"cyan\"},\n",
    "        'threshold': {\n",
    "            'line': {'color': \"black\", 'width': 2},\n",
    "            'thickness': 0.75,\n",
    "            'value': dataset[column1].mean()},\n",
    "        'steps': [\n",
    "            {'range': [0, \n",
    "                       marseille[column1].quantile(0.25)], 'color': 'ghostwhite'},\n",
    "            {'range': [dataset[column1].quantile(0.25), \n",
    "                       dataset[column1].quantile(0.50)], 'color': 'yellow'},\n",
    "            {'range': [dataset[column1].quantile(0.50),\n",
    "                       dataset[column1].quantile(0.75)], 'color': 'gold'},\n",
    "            {'range': [dataset[column1].quantile(0.75),\n",
    "                      dataset[column1].quantile(1.0)], 'color': 'olive'}],\n",
    "            'bar': {'color': \"black\"}\n",
    "        }\n",
    "            ))\n",
    "    return fig_b\n",
    "\n"
   ]
  },
  {
   "cell_type": "code",
   "execution_count": null,
   "metadata": {},
   "outputs": [],
   "source": [
    "def bulleten_air_pollutant_lockdowns(dataset,column2,lockdown,x1,x2,y1,y2):\n",
    "    fig_b.add_trace(go.Indicator(\n",
    "        mode = \"number+gauge+delta\",\n",
    "        delta = {'reference': 3},\n",
    "        value = dataset[dataset.lockdown== lockdown][column2].mean(),\n",
    "        title = {'text': '- '+lockdown+' -             '},\n",
    "        domain = {'x': [x1, x2], 'y': [y1, y2]},\n",
    "        gauge = {\n",
    "        'shape': \"bullet\",\n",
    "        'axis': {'range': [None, dataset[column2].quantile(1.0)], 'tickwidth': 0.5, 'tickcolor': \"cyan\"},\n",
    "        'threshold': {\n",
    "            'line': {'color': \"black\", 'width': 2},\n",
    "            'thickness': 0.75,\n",
    "            'value': 3},\n",
    "        'steps': [\n",
    "            {'range': [0, \n",
    "                       1], 'color': 'ghostwhite'},\n",
    "            {'range': [1, \n",
    "                       2], 'color': 'lavender'},\n",
    "            {'range': [2,\n",
    "                       3], 'color': 'cornflowerblue'},\n",
    "            {'range': [3,\n",
    "                      4], 'color': 'royalblue'},\n",
    "            {'range': [4,\n",
    "                       5], 'color': 'blue'},\n",
    "            {'range': [5,\n",
    "                       6], 'color': 'navy'}],\n",
    "            'bar': {'color': \"black\"}\n",
    "        }\n",
    "            ))\n",
    "    return fig_b\n",
    "\n"
   ]
  },
  {
   "cell_type": "code",
   "execution_count": null,
   "metadata": {},
   "outputs": [],
   "source": [
    "def bulleten_compare(dataset,column1,column2):\n",
    "    \n",
    "    #################### before lockdown1 ############################\n",
    "    fig_b = bulleten_mobility_lockdowns(dataset,column1,'before_lockdown1',0,0.3,0.9,1)\n",
    "    fig_b = bulleten_air_pollutant_lockdowns(dataset,column2,'before_lockdown1',0.7,1,0.9,1)\n",
    "\n",
    "    #################### lockdown 1 ############################\n",
    "\n",
    "    fig_b = bulleten_mobility_lockdowns(dataset,column1,'lockdown_1',0,0.3,0.7,0.775)\n",
    "    fig_b = bulleten_air_pollutant_lockdowns(dataset,column2,'lockdown_1',0.7,1,0.7,0.775)\n",
    "\n",
    "    #################### before lockdown2 ############################\n",
    "\n",
    "    fig_b = bulleten_mobility_lockdowns(dataset,column1,'before_lockdown2',0,0.3,0.6,0.675)\n",
    "    fig_b = bulleten_air_pollutant_lockdowns(dataset,column2,'before_lockdown2',0.7,1,0.6,0.675)\n",
    "\n",
    "    #################### lockdown 2 ############################\n",
    "    fig_b = bulleten_mobility_lockdowns(dataset,column1,'lockdown_2',0,0.3,0.4,0.475)\n",
    "    fig_b = bulleten_air_pollutant_lockdowns(dataset,column2,'lockdown_2',0.7,1,0.4,0.475)\n",
    "\n",
    "    ####################before lockdown3 ############################\n",
    "\n",
    "    fig_b = bulleten_mobility_lockdowns(dataset,column1,'before_lockdown3',0,0.3,0.3,0.375)\n",
    "    fig_b = bulleten_air_pollutant_lockdowns(dataset,column2,'before_lockdown3',0.7,1,0.3,0.375)\n",
    "\n",
    "    #################### lockdown 3 ############################\n",
    "\n",
    "    fig_b = bulleten_mobility_lockdowns(dataset,column1,'lockdown_3',0,0.3,0.1,0.175)\n",
    "    fig_b = bulleten_air_pollutant_lockdowns(dataset,column2,'lockdown_3',0.7,1,0.1,0.175)\n",
    "\n",
    "    #################### after lockdown 3 ############################\n",
    "\n",
    "    fig_b = bulleten_mobility_lockdowns(dataset,column1,'after_lockdown3',0,0.3,0,0.075)\n",
    "    fig_b = bulleten_air_pollutant_lockdowns(dataset,column2,'after_lockdown3',0.7,1,0,0.075)\n",
    "\n",
    "    \n",
    "    fig_b.show()"
   ]
  },
  {
   "cell_type": "code",
   "execution_count": null,
   "metadata": {},
   "outputs": [],
   "source": []
  },
  {
   "cell_type": "markdown",
   "metadata": {},
   "source": [
    "## cities"
   ]
  },
  {
   "cell_type": "markdown",
   "metadata": {},
   "source": [
    "** **\n",
    "**Marseille**"
   ]
  },
  {
   "cell_type": "code",
   "execution_count": null,
   "metadata": {},
   "outputs": [],
   "source": [
    "marseille = master_numeric[master_numeric.region == 'Marseille']"
   ]
  },
  {
   "cell_type": "code",
   "execution_count": null,
   "metadata": {
    "scrolled": true
   },
   "outputs": [],
   "source": [
    "# marseille.set_index(['date'],inplace=True)\n",
    "marseille.head()"
   ]
  },
  {
   "cell_type": "code",
   "execution_count": null,
   "metadata": {},
   "outputs": [],
   "source": [
    "color_lockdown = []\n",
    "for i in marseille.lockdown:\n",
    "    if i == 'No lockdown':\n",
    "        color_lockdown.append('tomato')\n",
    "    elif i == 'lockdown_1':\n",
    "        color_lockdown.append('blue')\n",
    "    elif i == 'lockdown_2':\n",
    "        color_lockdown.append('lime')\n",
    "    elif i == 'lockdown_3':\n",
    "        color_lockdown.append('cyan')"
   ]
  },
  {
   "cell_type": "markdown",
   "metadata": {},
   "source": [
    "\n",
    "air pollutant = excellent,fine,moderate,poor,very poor\n",
    "\n",
    "o3 = 33,65,120,180,240\n",
    "\n",
    "pm25 = 5,10,20,25,60\n",
    "\n",
    "pm10 = 10,20,35,50,100\n",
    "\n",
    "no2 = 10,20,35,50,100\n",
    "\n",
    "so2 = 25,50,120,350,500"
   ]
  },
  {
   "cell_type": "code",
   "execution_count": null,
   "metadata": {},
   "outputs": [],
   "source": [
    "marseille,color_no2,color_o3,color_pm10,color_pm25,color_so2 = air_pollutant_catagory_color(marseille)"
   ]
  },
  {
   "cell_type": "code",
   "execution_count": null,
   "metadata": {},
   "outputs": [],
   "source": [
    "marseille.columns"
   ]
  },
  {
   "cell_type": "code",
   "execution_count": null,
   "metadata": {},
   "outputs": [],
   "source": [
    "stacked_chart(marseille,color_no2,color_o3,color_pm10,color_pm25,color_so2)"
   ]
  },
  {
   "cell_type": "code",
   "execution_count": null,
   "metadata": {},
   "outputs": [],
   "source": [
    "fig_g = go.Figure()\n",
    "gauge_compare(marseille,'driving',\"so2\")"
   ]
  },
  {
   "cell_type": "code",
   "execution_count": null,
   "metadata": {},
   "outputs": [],
   "source": [
    "fig_b = go.Figure()\n",
    "bulleten_compare(marseille,'driving',\"so2\")"
   ]
  },
  {
   "cell_type": "code",
   "execution_count": null,
   "metadata": {},
   "outputs": [],
   "source": []
  },
  {
   "cell_type": "code",
   "execution_count": null,
   "metadata": {},
   "outputs": [],
   "source": []
  },
  {
   "cell_type": "code",
   "execution_count": null,
   "metadata": {},
   "outputs": [],
   "source": []
  },
  {
   "cell_type": "markdown",
   "metadata": {},
   "source": [
    "** **\n",
    "**Nice**"
   ]
  },
  {
   "cell_type": "code",
   "execution_count": null,
   "metadata": {},
   "outputs": [],
   "source": [
    "nice = master_numeric[master_numeric.region == 'Nice']"
   ]
  },
  {
   "cell_type": "code",
   "execution_count": null,
   "metadata": {},
   "outputs": [],
   "source": [
    "# nice.set_index(['date'],inplace=True)\n",
    "nice.head()"
   ]
  },
  {
   "cell_type": "code",
   "execution_count": null,
   "metadata": {},
   "outputs": [],
   "source": [
    "nice,color_no2,color_o3,color_pm10,color_pm25,color_so2 = air_pollutant_catagory_color(nice)"
   ]
  },
  {
   "cell_type": "code",
   "execution_count": null,
   "metadata": {},
   "outputs": [],
   "source": [
    "nice.columns"
   ]
  },
  {
   "cell_type": "code",
   "execution_count": null,
   "metadata": {},
   "outputs": [],
   "source": [
    "stacked_chart(nice,color_no2,color_o3,color_pm10,color_pm25,color_so2)"
   ]
  },
  {
   "cell_type": "code",
   "execution_count": null,
   "metadata": {},
   "outputs": [],
   "source": [
    "fig_g = go.Figure()\n",
    "gauge_compare(nice,'walking',\"pm10\")"
   ]
  },
  {
   "cell_type": "code",
   "execution_count": null,
   "metadata": {},
   "outputs": [],
   "source": [
    "fig_b = go.Figure()\n",
    "bulleten_compare(nice,'driving',\"no2\")"
   ]
  },
  {
   "cell_type": "code",
   "execution_count": null,
   "metadata": {},
   "outputs": [],
   "source": []
  },
  {
   "cell_type": "code",
   "execution_count": null,
   "metadata": {},
   "outputs": [],
   "source": []
  },
  {
   "cell_type": "code",
   "execution_count": null,
   "metadata": {},
   "outputs": [],
   "source": []
  },
  {
   "cell_type": "markdown",
   "metadata": {},
   "source": [
    "** **\n",
    "**Lyon**"
   ]
  },
  {
   "cell_type": "code",
   "execution_count": null,
   "metadata": {},
   "outputs": [],
   "source": [
    "lyon = master_numeric[master_numeric.region == 'Lyon']"
   ]
  },
  {
   "cell_type": "code",
   "execution_count": null,
   "metadata": {},
   "outputs": [],
   "source": [
    "lyon.set_index(['date'],inplace=True)\n",
    "lyon.head()"
   ]
  },
  {
   "cell_type": "code",
   "execution_count": null,
   "metadata": {},
   "outputs": [],
   "source": []
  },
  {
   "cell_type": "code",
   "execution_count": null,
   "metadata": {},
   "outputs": [],
   "source": []
  },
  {
   "cell_type": "code",
   "execution_count": null,
   "metadata": {},
   "outputs": [],
   "source": []
  },
  {
   "cell_type": "code",
   "execution_count": null,
   "metadata": {},
   "outputs": [],
   "source": []
  },
  {
   "cell_type": "code",
   "execution_count": null,
   "metadata": {},
   "outputs": [],
   "source": []
  }
 ],
 "metadata": {
  "kernelspec": {
   "display_name": "Python 3",
   "language": "python",
   "name": "python3"
  },
  "language_info": {
   "codemirror_mode": {
    "name": "ipython",
    "version": 3
   },
   "file_extension": ".py",
   "mimetype": "text/x-python",
   "name": "python",
   "nbconvert_exporter": "python",
   "pygments_lexer": "ipython3",
   "version": "3.7.1"
  },
  "latex_envs": {
   "LaTeX_envs_menu_present": true,
   "autoclose": false,
   "autocomplete": true,
   "bibliofile": "biblio.bib",
   "cite_by": "apalike",
   "current_citInitial": 1,
   "eqLabelWithNumbers": true,
   "eqNumInitial": 1,
   "hotkeys": {
    "equation": "Ctrl-E",
    "itemize": "Ctrl-I"
   },
   "labels_anchors": false,
   "latex_user_defs": false,
   "report_style_numbering": false,
   "user_envs_cfg": false
  },
  "toc": {
   "base_numbering": 1,
   "nav_menu": {},
   "number_sections": false,
   "sideBar": false,
   "skip_h1_title": false,
   "title_cell": "Table of Contents",
   "title_sidebar": "Contents",
   "toc_cell": false,
   "toc_position": {},
   "toc_section_display": false,
   "toc_window_display": false
  }
 },
 "nbformat": 4,
 "nbformat_minor": 2
}
