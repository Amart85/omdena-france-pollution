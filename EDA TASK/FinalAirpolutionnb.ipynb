{
 "cells": [
  {
   "cell_type": "code",
   "execution_count": null,
   "metadata": {},
   "outputs": [],
   "source": [
    "pip install plotly"
   ]
  },
  {
   "cell_type": "code",
   "execution_count": null,
   "metadata": {},
   "outputs": [],
   "source": [
    "import pandas as pd \n",
    "import matplotlib.pyplot as plt \n",
    "import seaborn as sns \n",
    "import numpy as np\n",
    "from functools import reduce\n",
    "import plotly.express as px\n",
    "import plotly.offline as pyo\n",
    "import plotly.graph_objs as go"
   ]
  },
  {
   "cell_type": "code",
   "execution_count": null,
   "metadata": {},
   "outputs": [],
   "source": [
    "df_fr = pd.read_csv('/Users/matteodavid/Downloads/france_air_quality_data_merged.csv')"
   ]
  },
  {
   "cell_type": "markdown",
   "metadata": {},
   "source": [
    "### Little description of the Dataset."
   ]
  },
  {
   "cell_type": "code",
   "execution_count": null,
   "metadata": {},
   "outputs": [],
   "source": [
    "df_fr.info()"
   ]
  },
  {
   "cell_type": "code",
   "execution_count": null,
   "metadata": {},
   "outputs": [],
   "source": [
    "df_fr.isnull().any()"
   ]
  },
  {
   "cell_type": "code",
   "execution_count": null,
   "metadata": {},
   "outputs": [],
   "source": [
    "df_fr.describe()"
   ]
  },
  {
   "cell_type": "code",
   "execution_count": null,
   "metadata": {},
   "outputs": [],
   "source": [
    "df_fr.head()"
   ]
  },
  {
   "cell_type": "markdown",
   "metadata": {},
   "source": [
    "### Creating individual dataframe for the cities I will be working on, which are Tours, Lyon and Marseille."
   ]
  },
  {
   "cell_type": "code",
   "execution_count": null,
   "metadata": {},
   "outputs": [],
   "source": [
    "#Tours\n",
    "df_tours = df_fr[df_fr['City'] == 'Tours']\n",
    "df_tours.head()"
   ]
  },
  {
   "cell_type": "code",
   "execution_count": null,
   "metadata": {},
   "outputs": [],
   "source": [
    "#Lyon\n",
    "df_lyon = df_fr[df_fr['City'] == 'Lyon']\n",
    "df_lyon.head()"
   ]
  },
  {
   "cell_type": "code",
   "execution_count": null,
   "metadata": {},
   "outputs": [],
   "source": [
    "#Marseille \n",
    "df_marseille = df_fr[df_fr['City'] == 'Marseille']\n",
    "df_marseille.head()"
   ]
  },
  {
   "cell_type": "markdown",
   "metadata": {},
   "source": [
    "# Exploratory analysis on the city of Tours."
   ]
  },
  {
   "cell_type": "code",
   "execution_count": null,
   "metadata": {},
   "outputs": [],
   "source": [
    "df_tours.head()"
   ]
  },
  {
   "cell_type": "code",
   "execution_count": null,
   "metadata": {},
   "outputs": [],
   "source": [
    "df_tours.describe()"
   ]
  },
  {
   "cell_type": "code",
   "execution_count": null,
   "metadata": {},
   "outputs": [],
   "source": [
    "#List of different species.\n",
    "df_tours['Specie'].unique()"
   ]
  },
  {
   "cell_type": "markdown",
   "metadata": {},
   "source": [
    "## Evolution of the min, max and variance values accross time for different Species. "
   ]
  },
  {
   "cell_type": "markdown",
   "metadata": {},
   "source": [
    "### Before Covid: July 2019 - December 2019| During Covid: January 2020 - July 2021."
   ]
  },
  {
   "cell_type": "markdown",
   "metadata": {},
   "source": [
    "#### PM10"
   ]
  },
  {
   "cell_type": "code",
   "execution_count": null,
   "metadata": {},
   "outputs": [],
   "source": [
    "#DataFrame for the city of Tour before Covid.\n",
    "mask = (df_tours['Date'] >= '2019-07-01') & (df_tours['Date'] <= '2019-12-28')\n",
    "df_tours_bc = df_tours.loc[mask] #dataframe for the city of Tours before Covid.\n",
    "df_tours_bc.tail(5)"
   ]
  },
  {
   "cell_type": "code",
   "execution_count": null,
   "metadata": {},
   "outputs": [],
   "source": [
    "df_tours_bc_pm10 = df_tours_bc[df_tours_bc['Specie'] == 'pm10']\n",
    "df_tours_bc_pm10 = df_tours_bc_pm10.reset_index()\n",
    "df_tours_bc_pm10 #dataframe for the city of Tours before Covid with regards to the PM10 level."
   ]
  },
  {
   "cell_type": "code",
   "execution_count": null,
   "metadata": {},
   "outputs": [],
   "source": [
    "#DataFrame during the Covid period for the city of Tours.\n",
    "mask1 = (df_tours['Date'] > '2019-12-28') & (df_tours['Date'] <= '2021-07-25')\n",
    "df_tours_dc = df_tours.loc[mask1] #dataframe for the city of Tours during Covid.\n",
    "df_tours_dc.head(5)"
   ]
  },
  {
   "cell_type": "code",
   "execution_count": null,
   "metadata": {},
   "outputs": [],
   "source": [
    "df_tours_dc.reset_index()"
   ]
  },
  {
   "cell_type": "code",
   "execution_count": null,
   "metadata": {},
   "outputs": [],
   "source": [
    "df_tours_dc_pm10 = df_tours_dc[df_tours_dc['Specie'] == 'pm10']\n",
    "df_tours_dc_pm10 = df_tours_dc_pm10.reset_index()\n",
    "df_tours_dc_pm10 #dataframe for the city of Tours during Covid with regards to the PM10 level."
   ]
  },
  {
   "cell_type": "code",
   "execution_count": null,
   "metadata": {},
   "outputs": [],
   "source": [
    "#Final graph showing the evolution of the min level of PM10 before Covid.\n",
    "plt.figure(figsize= (30,8))\n",
    "plt.plot(df_tours_bc_pm10['min'])\n",
    "plt.xticks(rotation='vertical')\n",
    "plt.title('Evolution of the min PM10 level for the city of Tours before Covid')\n",
    "plt.xlabel('Days starting from July until December 2019')\n",
    "plt.ylabel('PM10 min level')\n",
    "plt.show()\n",
    "\n",
    "#Final graph showing the evolution of the min level of PM10 during Covid.\n",
    "plt.figure(figsize=(30,8))\n",
    "plt.plot(df_tours_dc_pm10['min'])\n",
    "plt.xticks(rotation='vertical')\n",
    "plt.title('Evolution of the min PM10 level for the city of Tours during Covid')\n",
    "plt.xlabel('Days starting from January 2020 until July 2021')\n",
    "plt.ylabel('PM10 min level')\n",
    "plt.show()\n",
    "\n",
    "#Final graph showing the evolution of the max level of PM10 before Covid.\n",
    "plt.figure(figsize=(30,8))\n",
    "plt.plot(df_tours_bc_pm10['max'])\n",
    "plt.xticks(rotation='vertical')\n",
    "plt.title('Evolution of the max PM10 level for the city of Tours before Covid')\n",
    "plt.xlabel('Days starting from July until December 2019')\n",
    "plt.ylabel('PM10 max level')\n",
    "plt.show()\n",
    "\n",
    "#Final graph showing the evolution of the max level of PM10 during Covid.\n",
    "plt.figure(figsize=(30,8))\n",
    "plt.plot(df_tours_dc_pm10['max'])\n",
    "plt.xticks(rotation='vertical')\n",
    "plt.title('Evolution of the max PM10 level for the city of Tours during Covid')\n",
    "plt.xlabel('Days starting from January 2020 until July 2021')\n",
    "plt.ylabel('PM10 max level')\n",
    "plt.show()\n",
    "\n",
    "#Final graph showing the evolution of the variance level of PM10 before Covid.\n",
    "plt.figure(figsize=(30,8))\n",
    "plt.plot(df_tours_bc_pm10['variance'])\n",
    "plt.xticks(rotation='vertical')\n",
    "plt.title('Evolution of the PM10 variance level for the city of Tours before Covid')\n",
    "plt.xlabel('Days starting from July until December 2019')\n",
    "plt.ylabel('PM10 variance level')\n",
    "plt.show()\n",
    "\n",
    "#Final graph showing the evolution of the variance level of PM10 during Covid.\n",
    "plt.figure(figsize=(30,8))\n",
    "plt.plot(df_tours_dc_pm10['variance'])\n",
    "plt.xticks(rotation='vertical')\n",
    "plt.title('Evolution of the PM10 variance level for the city of Tours during Covid')\n",
    "plt.xlabel('Days starting from January 2020 until July 2021')\n",
    "plt.ylabel('PM10 variance level')\n",
    "plt.show()"
   ]
  },
  {
   "cell_type": "markdown",
   "metadata": {},
   "source": [
    "#### Co"
   ]
  },
  {
   "cell_type": "code",
   "execution_count": null,
   "metadata": {},
   "outputs": [],
   "source": [
    "df_tours_bc_co = df_tours_bc[df_tours_bc['Specie'] == 'co']\n",
    "df_tours_bc_co = df_tours_bc_co.reset_index()\n",
    "df_tours_bc_co #dataframe for the city of Tours before Covid with regards to the Co level."
   ]
  },
  {
   "cell_type": "code",
   "execution_count": null,
   "metadata": {},
   "outputs": [],
   "source": [
    "df_tours_dc_co = df_tours_dc[df_tours_dc['Specie'] == 'co']\n",
    "df_tours_dc_co = df_tours_dc_co.reset_index()\n",
    "df_tours_dc_co #dataframe for the city of Tours during Covid with regards to the Co level."
   ]
  },
  {
   "cell_type": "code",
   "execution_count": null,
   "metadata": {},
   "outputs": [],
   "source": [
    "#Final graph showing the evolution of the min level of Co before Covid.\n",
    "plt.figure(figsize=(12,8))\n",
    "plt.plot(df_tours_bc_co['min'], color = 'red')\n",
    "plt.xticks(rotation='vertical')\n",
    "plt.title('Evolution of the min Co level for the city of Tours before Covid')\n",
    "plt.xlabel('Days starting from July until December 2019')\n",
    "plt.ylabel('Co min level')\n",
    "plt.show()\n",
    "\n",
    "#Final graph showing the evolution of the min level of Co during Covid.\n",
    "plt.figure(figsize=(12,8))\n",
    "plt.plot(df_tours_dc_co['min'],color = 'red')\n",
    "plt.xticks(rotation='vertical')\n",
    "plt.title('Evolution of the min Co level for the city of Tours during Covid')\n",
    "plt.xlabel('Days starting from January 2020 until July 2021')\n",
    "plt.ylabel('Co min level')\n",
    "plt.show()\n",
    "\n",
    "#Final graph showing the evolution of the max level of Co before Covid.\n",
    "plt.figure(figsize=(12,8))\n",
    "plt.plot(df_tours_bc_co['max'], color = 'red')\n",
    "plt.xticks(rotation='vertical')\n",
    "plt.title('Evolution of the max Co level for the city of Tours before Covid')\n",
    "plt.xlabel('Days starting from July until December 2019')\n",
    "plt.ylabel('Co max level')\n",
    "plt.show()\n",
    "\n",
    "#Final graph showing the evolution of the max level of Co during Covid.\n",
    "plt.figure(figsize=(12,8))\n",
    "plt.plot(df_tours_dc_co['max'],color = 'red')\n",
    "plt.xticks(rotation='vertical')\n",
    "plt.title('Evolution of the max Co level for the city of Tours during Covid')\n",
    "plt.xlabel('Days starting from January 2020 until July 2021')\n",
    "plt.ylabel('Co max level')\n",
    "plt.show()\n",
    "\n",
    "#Final graph showing the evolution of the variance level of Co before Covid.\n",
    "plt.figure(figsize=(12,8))\n",
    "plt.plot(df_tours_bc_co['variance'], color = 'red')\n",
    "plt.xticks(rotation='vertical')\n",
    "plt.title('Evolution of the Co variance level for the city of Tours before Covid')\n",
    "plt.xlabel('Days starting from July until December 2019')\n",
    "plt.ylabel('Co variance level')\n",
    "plt.show()\n",
    "\n",
    "#Final graph showing the evolution of the variance level of Co during Covid.\n",
    "plt.figure(figsize=(12,8))\n",
    "plt.plot(df_tours_dc_co['variance'],color = 'red')\n",
    "plt.xticks(rotation='vertical')\n",
    "plt.title('Evolution of the max Co variance level for the city of Tours during Covid')\n",
    "plt.xlabel('Days starting from January 2020 until July 2021')\n",
    "plt.ylabel('Co variance level')\n",
    "plt.show()"
   ]
  },
  {
   "cell_type": "markdown",
   "metadata": {},
   "source": [
    "#### o3"
   ]
  },
  {
   "cell_type": "code",
   "execution_count": null,
   "metadata": {},
   "outputs": [],
   "source": [
    "df_tours_bc_o3 = df_tours_bc[df_tours_bc['Specie'] == 'o3']\n",
    "df_tours_bc_o3 = df_tours_bc_o3.reset_index()\n",
    "df_tours_bc_o3 #dataframe for the city of Tours before Covid with regards to the o3 level."
   ]
  },
  {
   "cell_type": "code",
   "execution_count": null,
   "metadata": {},
   "outputs": [],
   "source": [
    "df_tours_dc_o3 = df_tours_dc[df_tours_dc['Specie'] == 'o3']\n",
    "df_tours_dc_o3 = df_tours_dc_o3.reset_index()\n",
    "df_tours_dc_o3 #dataframe for the city of Tours during Covid with regards to the o3 level."
   ]
  },
  {
   "cell_type": "code",
   "execution_count": null,
   "metadata": {},
   "outputs": [],
   "source": [
    "#Final graph showing the evolution of the min level of o3 before Covid.\n",
    "plt.figure(figsize=(30,8))\n",
    "plt.plot(df_tours_bc_o3['min'], color = 'green')\n",
    "plt.xticks(rotation='vertical')\n",
    "plt.title('Evolution of the min o3 level for the city of Tours before Covid')\n",
    "plt.xlabel('Days starting from July until December 2019')\n",
    "plt.ylabel('o3 min level')\n",
    "plt.show()\n",
    "\n",
    "#Final graph showing the evolution of the min level of o3 during Covid.\n",
    "plt.figure(figsize= (30,8))\n",
    "plt.plot(df_tours_dc_o3['min'],color = 'green')\n",
    "plt.xticks(rotation='vertical')\n",
    "plt.title('Evolution of the min o3 level for the city of Tours during Covid')\n",
    "plt.xlabel('Days starting from January 2020 until July 2021')\n",
    "plt.ylabel('o3 min level')\n",
    "plt.show()\n",
    "\n",
    "#Final graph showing the evolution of the max level of o3 before Covid.\n",
    "plt.figure(figsize=(30,8))\n",
    "plt.plot(df_tours_bc_o3['max'], color = 'green')\n",
    "plt.xticks(rotation='vertical')\n",
    "plt.title('Evolution of the max o3 level for the city of Tours before Covid')\n",
    "plt.xlabel('Days starting from July until December 2019')\n",
    "plt.ylabel('o3 max level')\n",
    "plt.show()\n",
    "\n",
    "#Final graph showing the evolution of the min level of o3 during Covid.\n",
    "plt.figure(figsize= (30,8))\n",
    "plt.plot(df_tours_dc_o3['max'],color = 'green')\n",
    "plt.xticks(rotation='vertical')\n",
    "plt.title('Evolution of the max o3 level for the city of Tours during Covid')\n",
    "plt.xlabel('Days starting from January 2020 until July 2021')\n",
    "plt.ylabel('o3 max level')\n",
    "plt.show()\n",
    "\n",
    "#Final graph showing the evolution of the variance level of o3 before Covid.\n",
    "plt.figure(figsize=(30,8))\n",
    "plt.plot(df_tours_bc_o3['variance'], color = 'green')\n",
    "plt.xticks(rotation='vertical')\n",
    "plt.title('Evolution of the o3 variance level for the city of Tours before Covid')\n",
    "plt.xlabel('Days starting from July until December 2019')\n",
    "plt.ylabel('o3 variance level')\n",
    "plt.show()\n",
    "\n",
    "#Final graph showing the evolution of the variance level of o3 during Covid.\n",
    "plt.figure(figsize= (30,8))\n",
    "plt.plot(df_tours_dc_o3['variance'],color = 'green')\n",
    "plt.xticks(rotation='vertical')\n",
    "plt.title('Evolution of the o3 variance level for the city of Tours during Covid')\n",
    "plt.xlabel('Days starting from January 2020 until July 2021')\n",
    "plt.ylabel('o3 variance level')\n",
    "plt.show()"
   ]
  },
  {
   "cell_type": "markdown",
   "metadata": {},
   "source": [
    "#### PM25"
   ]
  },
  {
   "cell_type": "code",
   "execution_count": null,
   "metadata": {},
   "outputs": [],
   "source": [
    "df_tours_bc_pm25 = df_tours_bc[df_tours_bc['Specie'] == 'pm25']\n",
    "df_tours_bc_pm25 = df_tours_bc_pm25.reset_index()\n",
    "df_tours_bc_pm25 #dataframe for the city of Tours before Covid with regards to the pm25 level."
   ]
  },
  {
   "cell_type": "code",
   "execution_count": null,
   "metadata": {},
   "outputs": [],
   "source": [
    "df_tours_dc_pm25 = df_tours_dc[df_tours_dc['Specie'] == 'pm25']\n",
    "df_tours_dc_pm25 = df_tours_dc_pm25.reset_index()\n",
    "df_tours_dc_pm25 #dataframe for the city of Tours during Covid with regards to the pm25 level."
   ]
  },
  {
   "cell_type": "code",
   "execution_count": null,
   "metadata": {},
   "outputs": [],
   "source": [
    "#Final graph showing the evolution of the min level of pm25 before Covid.\n",
    "plt.figure(figsize=(30,8))\n",
    "plt.plot(df_tours_bc_pm25['min'], color = 'purple')\n",
    "plt.xticks(rotation='vertical')\n",
    "plt.title('Evolution of the min pm25 level for the city of Tours before Covid')\n",
    "plt.xlabel('Days starting from July until December 2019')\n",
    "plt.ylabel('pm25 min level')\n",
    "plt.show()\n",
    "\n",
    "#Final graph showing the evolution of the min level of pm25 during Covid.\n",
    "plt.figure(figsize= (30,8))\n",
    "plt.plot(df_tours_dc_pm25['min'],color = 'purple')\n",
    "plt.xticks(rotation='vertical')\n",
    "plt.title('Evolution of the min pm25 level for the city of Tours during Covid')\n",
    "plt.xlabel('Days starting from January 2020 until July 2021')\n",
    "plt.ylabel('pm25 min level')\n",
    "plt.show()\n",
    "\n",
    "#Final graph showing the evolution of the max level of pm25 before Covid.\n",
    "plt.figure(figsize=(30,8))\n",
    "plt.plot(df_tours_bc_pm25['max'], color = 'purple')\n",
    "plt.xticks(rotation='vertical')\n",
    "plt.title('Evolution of the max pm25 level for the city of Tours before Covid')\n",
    "plt.xlabel('Days starting from July until December 2019')\n",
    "plt.ylabel('pm25 max level')\n",
    "plt.show()\n",
    "\n",
    "#Final graph showing the evolution of the max level of pm25 during Covid.\n",
    "plt.figure(figsize= (30,8))\n",
    "plt.plot(df_tours_dc_pm25['max'],color = 'purple')\n",
    "plt.xticks(rotation='vertical')\n",
    "plt.title('Evolution of the max pm25 level for the city of Tours during Covid')\n",
    "plt.xlabel('Days starting from January 2020 until July 2021')\n",
    "plt.ylabel('pm25 max level')\n",
    "plt.show()\n",
    "\n",
    "#Final graph showing the evolution of the variance's level of pm25 before Covid.\n",
    "plt.figure(figsize=(30,8))\n",
    "plt.plot(df_tours_bc_pm25['variance'], color = 'purple')\n",
    "plt.xticks(rotation='vertical')\n",
    "plt.title('Evolution of the pm25 variance level for the city of Tours before Covid')\n",
    "plt.xlabel('Days starting from July until December 2019')\n",
    "plt.ylabel('pm25 variance level')\n",
    "plt.show()\n",
    "\n",
    "#Final graph showing the evolution of the variance's level of pm25 during Covid.\n",
    "plt.figure(figsize= (30,8))\n",
    "plt.plot(df_tours_dc_pm25['variance'],color = 'purple')\n",
    "plt.xticks(rotation='vertical')\n",
    "plt.title('Evolution of the max pm25 variance level for the city of Tours during Covid')\n",
    "plt.xlabel('Days starting from January 2020 until July 2021')\n",
    "plt.ylabel('pm25 variance level')\n",
    "plt.show()"
   ]
  },
  {
   "cell_type": "markdown",
   "metadata": {},
   "source": [
    "#### No2"
   ]
  },
  {
   "cell_type": "code",
   "execution_count": null,
   "metadata": {},
   "outputs": [],
   "source": [
    "df_tours_bc_no2 = df_tours_bc[df_tours_bc['Specie'] == 'no2']\n",
    "df_tours_bc_no2 = df_tours_bc_no2.reset_index()\n",
    "df_tours_bc_no2 #dataframe for the city of Tours before Covid with regards to the no2 level."
   ]
  },
  {
   "cell_type": "code",
   "execution_count": null,
   "metadata": {},
   "outputs": [],
   "source": [
    "df_tours_dc_no2 = df_tours_dc[df_tours_dc['Specie'] == 'no2']\n",
    "df_tours_dc_no2 = df_tours_dc_no2.reset_index()\n",
    "df_tours_dc_no2 #dataframe for the city of Tours during Covid with regards to the no2 level."
   ]
  },
  {
   "cell_type": "code",
   "execution_count": null,
   "metadata": {},
   "outputs": [],
   "source": [
    "#Final graph showing the evolution of the min level of no2 before Covid.\n",
    "plt.figure(figsize=(30,8))\n",
    "plt.plot(df_tours_bc_no2['min'], color = 'orange')\n",
    "plt.xticks(rotation='vertical')\n",
    "plt.title('Evolution of the min no2 level for the city of Tours before Covid')\n",
    "plt.xlabel('Days starting from July until December 2019')\n",
    "plt.ylabel('no2 min level')\n",
    "plt.show()\n",
    "\n",
    "#Final graph showing the evolution of the min level of no2 during Covid.\n",
    "plt.figure(figsize= (30,8))\n",
    "plt.plot(df_tours_dc_no2['min'],color = 'orange')\n",
    "plt.xticks(rotation='vertical')\n",
    "plt.title('Evolution of the min no2 level for the city of Tours during Covid')\n",
    "plt.xlabel('Days starting from January 2020 until July 2021')\n",
    "plt.ylabel('no2 min level')\n",
    "plt.show()\n",
    "\n",
    "#Final graph showing the evolution of the max level of no2 before Covid.\n",
    "plt.figure(figsize=(30,8))\n",
    "plt.plot(df_tours_bc_no2['max'], color = 'orange')\n",
    "plt.xticks(rotation='vertical')\n",
    "plt.title('Evolution of the max no2 level for the city of Tours before Covid')\n",
    "plt.xlabel('Days starting from July until December 2019')\n",
    "plt.ylabel('no2 max level')\n",
    "plt.show()\n",
    "\n",
    "#Final graph showing the evolution of the max level of no2 during Covid.\n",
    "plt.figure(figsize= (30,8))\n",
    "plt.plot(df_tours_dc_no2['max'],color = 'orange')\n",
    "plt.xticks(rotation='vertical')\n",
    "plt.title('Evolution of the max no2 level for the city of Tours during Covid')\n",
    "plt.xlabel('Days starting from January 2020 until July 2021')\n",
    "plt.ylabel('no2 max level')\n",
    "plt.show()\n",
    "\n",
    "#Final graph showing the evolution of the variance level of no2 before Covid.\n",
    "plt.figure(figsize=(30,8))\n",
    "plt.plot(df_tours_bc_no2['variance'], color = 'orange')\n",
    "plt.xticks(rotation='vertical')\n",
    "plt.title('Evolution of the no2 level\\'s variance for the city of Tours before Covid')\n",
    "plt.xlabel('Days starting from July until December 2019')\n",
    "plt.ylabel('no2 variance level')\n",
    "plt.show()\n",
    "\n",
    "#Final graph showing the evolution of the variance level of no2 during Covid.\n",
    "plt.figure(figsize= (30,8))\n",
    "plt.plot(df_tours_dc_no2['variance'],color = 'orange')\n",
    "plt.xticks(rotation='vertical')\n",
    "plt.title('Evolution of the no2 level\\'s variance for the city of Tours during Covid')\n",
    "plt.xlabel('Days starting from January 2020 until July 2021')\n",
    "plt.ylabel('no2 variance level')\n",
    "plt.show()"
   ]
  },
  {
   "cell_type": "markdown",
   "metadata": {},
   "source": [
    "#### Temperature"
   ]
  },
  {
   "cell_type": "code",
   "execution_count": null,
   "metadata": {},
   "outputs": [],
   "source": [
    "df_tours_bc_temp = df_tours_bc[df_tours_bc['Specie'] == 'temperature']\n",
    "df_tours_bc_temp = df_tours_bc_temp.reset_index()\n",
    "df_tours_bc_temp #dataframe for the city of Tours before Covid with regards to the temperature level."
   ]
  },
  {
   "cell_type": "code",
   "execution_count": null,
   "metadata": {},
   "outputs": [],
   "source": [
    "df_tours_dc_temp = df_tours_dc[df_tours_dc['Specie'] == 'temperature']\n",
    "df_tours_dc_temp = df_tours_dc_temp.reset_index()\n",
    "df_tours_dc_temp #dataframe for the city of Tours during Covid with regards to the temperature level."
   ]
  },
  {
   "cell_type": "code",
   "execution_count": null,
   "metadata": {},
   "outputs": [],
   "source": [
    "#Final graph showing the evolution of the min level of the temperature before Covid.\n",
    "plt.figure(figsize=(30,8))\n",
    "plt.plot(df_tours_bc_temp['min'], color = 'grey')\n",
    "plt.xticks(rotation='vertical')\n",
    "plt.title('Evolution of the min temperature level for the city of Tours before Covid')\n",
    "plt.xlabel('Days starting from July until December 2019')\n",
    "plt.ylabel('Temperature min level')\n",
    "plt.show()\n",
    "\n",
    "#Final graph showing the evolution of the min level of the temperature during Covid.\n",
    "plt.figure(figsize= (30,8))\n",
    "plt.plot(df_tours_dc_temp['min'],color = 'grey')\n",
    "plt.xticks(rotation='vertical')\n",
    "plt.title('Evolution of the min temperature level for the city of Tours during Covid')\n",
    "plt.xlabel('Days starting from January 2020 until July 2021')\n",
    "plt.ylabel('Temperature min level')\n",
    "plt.show()\n",
    "\n",
    "#Final graph showing the evolution of the max level of the temperature before Covid.\n",
    "plt.figure(figsize=(30,8))\n",
    "plt.plot(df_tours_bc_temp['max'], color = 'grey')\n",
    "plt.xticks(rotation='vertical')\n",
    "plt.title('Evolution of the max temperature level for the city of Tours before Covid')\n",
    "plt.xlabel('Days starting from July until December 2019')\n",
    "plt.ylabel('Temperature max level')\n",
    "plt.show()\n",
    "\n",
    "#Final graph showing the evolution of the max level of the temperature during Covid.\n",
    "plt.figure(figsize= (30,8))\n",
    "plt.plot(df_tours_dc_temp['max'],color = 'grey')\n",
    "plt.xticks(rotation='vertical')\n",
    "plt.title('Evolution of the max temperature level for the city of Tours during Covid')\n",
    "plt.xlabel('Days starting from January 2020 until July 2021')\n",
    "plt.ylabel('Temperature max level')\n",
    "plt.show()\n",
    "\n",
    "\n",
    "#Final graph showing the evolution of the variance level of the temperature before Covid.\n",
    "plt.figure(figsize=(30,8))\n",
    "plt.plot(df_tours_bc_temp['variance'], color = 'grey')\n",
    "plt.xticks(rotation='vertical')\n",
    "plt.title('Evolution of the temperature level\\'s variance for the city of Tours before Covid')\n",
    "plt.xlabel('Days starting from July until December 2019')\n",
    "plt.ylabel('Temperature variance level')\n",
    "plt.show()\n",
    "\n",
    "#Final graph showing the evolution of the variance level of the temperature during Covid.\n",
    "plt.figure(figsize= (30,8))\n",
    "plt.plot(df_tours_dc_temp['variance'],color = 'grey')\n",
    "plt.xticks(rotation='vertical')\n",
    "plt.title('Evolution of the temperature level\\'s variance for the city of Tours during Covid')\n",
    "plt.xlabel('Days starting from January 2020 until July 2021')\n",
    "plt.ylabel('Temperature variance level')\n",
    "plt.show()"
   ]
  },
  {
   "cell_type": "markdown",
   "metadata": {},
   "source": [
    "#### Humidity"
   ]
  },
  {
   "cell_type": "code",
   "execution_count": null,
   "metadata": {},
   "outputs": [],
   "source": [
    "df_tours_bc_hum = df_tours_bc[df_tours_bc['Specie'] == 'humidity']\n",
    "df_tours_bc_hum = df_tours_bc_hum.reset_index()\n",
    "df_tours_bc_hum #dataframe for the city of Tours before Covid with regards to the humidity level."
   ]
  },
  {
   "cell_type": "code",
   "execution_count": null,
   "metadata": {},
   "outputs": [],
   "source": [
    "df_tours_dc_hum = df_tours_dc[df_tours_dc['Specie'] == 'humidity']\n",
    "df_tours_dc_hum = df_tours_dc_hum.reset_index()\n",
    "df_tours_dc_hum #dataframe for the city of Tours during Covid with regards to the humidity level."
   ]
  },
  {
   "cell_type": "code",
   "execution_count": null,
   "metadata": {},
   "outputs": [],
   "source": [
    "#Final graph showing the evolution of the min level of the humidity before Covid.\n",
    "plt.figure(figsize=(30,8))\n",
    "plt.plot(df_tours_bc_hum['min'], color = 'black')\n",
    "plt.xticks(rotation='vertical')\n",
    "plt.title('Evolution of the min humidity level for the city of Tours before Covid')\n",
    "plt.xlabel('Days starting from July until December 2019')\n",
    "plt.ylabel('Humidity min level')\n",
    "plt.show()\n",
    "\n",
    "#Final graph showing the evolution of the min level of the humidity during Covid.\n",
    "plt.figure(figsize= (30,8))\n",
    "plt.plot(df_tours_dc_hum['min'],color = 'black')\n",
    "plt.xticks(rotation='vertical')\n",
    "plt.title('Evolution of the min humidity level for the city of Tours during Covid')\n",
    "plt.xlabel('Days starting from January 2020 until July 2021')\n",
    "plt.ylabel('Humidity min level')\n",
    "plt.show()\n",
    "\n",
    "#Final graph showing the evolution of the max level of the humidity before Covid.\n",
    "plt.figure(figsize=(30,8))\n",
    "plt.plot(df_tours_bc_hum['max'], color = 'black')\n",
    "plt.xticks(rotation='vertical')\n",
    "plt.title('Evolution of the max humidity level for the city of Tours before Covid')\n",
    "plt.xlabel('Days starting from July until December 2019')\n",
    "plt.ylabel('Humidity max level')\n",
    "plt.show()\n",
    "\n",
    "#Final graph showing the evolution of the max level of the humidity during Covid.\n",
    "plt.figure(figsize= (30,8))\n",
    "plt.plot(df_tours_dc_hum['max'],color = 'black')\n",
    "plt.xticks(rotation='vertical')\n",
    "plt.title('Evolution of the max humidity level for the city of Tours during Covid')\n",
    "plt.xlabel('Days starting from January 2020 until July 2021')\n",
    "plt.ylabel('Humidity max level')\n",
    "plt.show()\n",
    "\n",
    "#Final graph showing the evolution of the variance level of the humidity before Covid.\n",
    "plt.figure(figsize=(30,8))\n",
    "plt.plot(df_tours_bc_hum['variance'], color = 'black')\n",
    "plt.xticks(rotation='vertical')\n",
    "plt.title('Evolution of the humidity level\\'s variance for the city of Tours before Covid')\n",
    "plt.xlabel('Days starting from July until December 2019')\n",
    "plt.ylabel('Humidity variance level')\n",
    "plt.show()\n",
    "\n",
    "#Final graph showing the evolution of the variance level of the humidity during Covid.\n",
    "plt.figure(figsize= (30,8))\n",
    "plt.plot(df_tours_dc_hum['variance'],color = 'black')\n",
    "plt.xticks(rotation='vertical')\n",
    "plt.title('Evolution of the humidity level\\'s variance for the city of Tours during Covid')\n",
    "plt.xlabel('Days starting from January 2020 until July 2021')\n",
    "plt.ylabel('Humidity variance level')\n",
    "plt.show()"
   ]
  },
  {
   "cell_type": "markdown",
   "metadata": {},
   "source": [
    "#### Dew"
   ]
  },
  {
   "cell_type": "code",
   "execution_count": null,
   "metadata": {},
   "outputs": [],
   "source": [
    "df_tours_bc_dew = df_tours_bc[df_tours_bc['Specie'] == 'dew']\n",
    "df_tours_bc_dew = df_tours_bc_dew.reset_index()\n",
    "df_tours_bc_dew #dataframe for the city of Tours before Covid with regards to the dew level."
   ]
  },
  {
   "cell_type": "code",
   "execution_count": null,
   "metadata": {},
   "outputs": [],
   "source": [
    "df_tours_dc_dew = df_tours_dc[df_tours_dc['Specie'] == 'dew']\n",
    "df_tours_dc_dew = df_tours_dc_dew.reset_index()\n",
    "df_tours_dc_dew #dataframe for the city of Tours during Covid with regards to the dew level."
   ]
  },
  {
   "cell_type": "code",
   "execution_count": null,
   "metadata": {},
   "outputs": [],
   "source": [
    "#Final graph showing the evolution of the min level of the Dew before Covid.\n",
    "plt.figure(figsize=(30,8))\n",
    "plt.plot(df_tours_bc_dew['min'], color = 'brown')\n",
    "plt.xticks(rotation='vertical')\n",
    "plt.title('Evolution of the min Dew level for the city of Tours before Covid')\n",
    "plt.xlabel('Days starting from July until December 2019')\n",
    "plt.ylabel('Dew min level')\n",
    "plt.show()\n",
    "\n",
    "#Final graph showing the evolution of the min level of the Dew during Covid.\n",
    "plt.figure(figsize= (30,8))\n",
    "plt.plot(df_tours_dc_dew['min'],color = 'brown')\n",
    "plt.xticks(rotation='vertical')\n",
    "plt.title('Evolution of the min Dew level for the city of Tours during Covid')\n",
    "plt.xlabel('Days starting from January 2020 until July 2021')\n",
    "plt.ylabel('Dew min level')\n",
    "plt.show()\n",
    "\n",
    "#Final graph showing the evolution of the max level of the Dew before Covid.\n",
    "plt.figure(figsize=(30,8))\n",
    "plt.plot(df_tours_bc_dew['max'], color = 'brown')\n",
    "plt.xticks(rotation='vertical')\n",
    "plt.title('Evolution of the max Dew level for the city of Tours before Covid')\n",
    "plt.xlabel('Days starting from July until December 2019')\n",
    "plt.ylabel('Dew max level')\n",
    "plt.show()\n",
    "\n",
    "#Final graph showing the evolution of the max level of the Dew during Covid.\n",
    "plt.figure(figsize= (30,8))\n",
    "plt.plot(df_tours_dc_dew['max'],color = 'brown')\n",
    "plt.xticks(rotation='vertical')\n",
    "plt.title('Evolution of the max Dew level for the city of Tours during Covid')\n",
    "plt.xlabel('Days starting from January 2020 until July 2021')\n",
    "plt.ylabel('Dew max level')\n",
    "plt.show()\n",
    "\n",
    "#Final graph showing the evolution of the variance level of the Dew before Covid.\n",
    "plt.figure(figsize= (30,8))\n",
    "plt.plot(df_tours_bc_dew['variance'], color = 'brown')\n",
    "plt.xticks(rotation='vertical')\n",
    "plt.title('Evolution of the dew level\\'s for the city of Tours before Covid')\n",
    "plt.xlabel('Days starting from July until December 2019')\n",
    "plt.ylabel('Dew variance level')\n",
    "plt.show()\n",
    "\n",
    "#Final graph showing the evolution of the variance level of the Dew during Covid.\n",
    "plt.figure(figsize= (30,8))\n",
    "plt.plot(df_tours_dc_dew['variance'],color = 'brown')\n",
    "plt.xticks(rotation='vertical')\n",
    "plt.title('Evolution of the Dew level\\'s for the city of Tours during Covid')\n",
    "plt.xlabel('Days starting from January 2020 until July 2021')\n",
    "plt.ylabel('Dew variance level')\n",
    "plt.show()"
   ]
  },
  {
   "cell_type": "markdown",
   "metadata": {},
   "source": [
    "#### Pressure"
   ]
  },
  {
   "cell_type": "code",
   "execution_count": null,
   "metadata": {},
   "outputs": [],
   "source": [
    "df_tours_bc_ps = df_tours_bc[df_tours_bc['Specie'] == 'pressure']\n",
    "df_tours_bc_ps = df_tours_bc_ps.reset_index()\n",
    "df_tours_bc_ps #dataframe for the city of Tours before Covid with regards to the pressure level."
   ]
  },
  {
   "cell_type": "code",
   "execution_count": null,
   "metadata": {},
   "outputs": [],
   "source": [
    "df_tours_dc_ps = df_tours_dc[df_tours_dc['Specie'] == 'pressure']\n",
    "df_tours_dc_ps = df_tours_dc_ps.reset_index()\n",
    "df_tours_dc_ps #dataframe for the city of Tours during Covid with regards to the pressure level."
   ]
  },
  {
   "cell_type": "code",
   "execution_count": null,
   "metadata": {},
   "outputs": [],
   "source": [
    "#Final graph showing the evolution of the min level of the pressure before Covid.\n",
    "plt.figure(figsize=(30,8))\n",
    "plt.plot(df_tours_bc_ps['min'], color = 'pink')\n",
    "plt.xticks(rotation='vertical')\n",
    "plt.title('Evolution of the min pressure level for the city of Tours before Covid')\n",
    "plt.xlabel('Days starting from July until December 2019')\n",
    "plt.ylabel('Pressure min level')\n",
    "plt.show()\n",
    "\n",
    "#Final graph showing the evolution of the min level of the pressure during Covid.\n",
    "plt.figure(figsize= (30,8))\n",
    "plt.plot(df_tours_dc_ps['min'],color = 'pink')\n",
    "plt.xticks(rotation='vertical')\n",
    "plt.title('Evolution of the min pressure level for the city of Tours during Covid')\n",
    "plt.xlabel('Days starting from January 2020 until July 2021')\n",
    "plt.ylabel('Pressure min level')\n",
    "plt.show()\n",
    "\n",
    "#Final graph showing the evolution of the max level of the pressure before Covid.\n",
    "plt.figure(figsize=(30,8))\n",
    "plt.plot(df_tours_bc_ps['max'], color = 'pink')\n",
    "plt.xticks(rotation='vertical')\n",
    "plt.title('Evolution of the max pressure level for the city of Tours before Covid')\n",
    "plt.xlabel('Days starting from July until December 2019')\n",
    "plt.ylabel('Pressure max level')\n",
    "plt.show()\n",
    "\n",
    "#Final graph showing the evolution of the max level of the pressure during Covid.\n",
    "plt.figure(figsize= (30,8))\n",
    "plt.plot(df_tours_dc_ps['max'],color = 'pink')\n",
    "plt.xticks(rotation='vertical')\n",
    "plt.title('Evolution of the max pressure level for the city of Tours during Covid')\n",
    "plt.xlabel('Days starting from January 2020 until July 2021')\n",
    "plt.ylabel('Pressure max level')\n",
    "plt.show()\n",
    "\n",
    "#Final graph showing the evolution of the variance level of the pressure before Covid.\n",
    "plt.figure(figsize = (30,8))\n",
    "plt.plot(df_tours_bc_ps['variance'], color = 'pink')\n",
    "plt.xticks(rotation='vertical')\n",
    "plt.title('Evolution of the pressure level\\'s for the city of Tours before Covid')\n",
    "plt.xlabel('Days starting from July until December 2019')\n",
    "plt.ylabel('Pressure variance level')\n",
    "plt.show()\n",
    "\n",
    "#Final graph showing the evolution of the variance level of the pressure during Covid.\n",
    "plt.figure(figsize= (30,8))\n",
    "plt.plot(df_tours_dc_ps['variance'],color = 'pink')\n",
    "plt.xticks(rotation='vertical')\n",
    "plt.title('Evolution of the pressure level\\'s for the city of Tours during Covid')\n",
    "plt.xlabel('Days starting from January 2020 until July 2021')\n",
    "plt.ylabel('Pressure variance level')\n",
    "plt.show()"
   ]
  },
  {
   "cell_type": "markdown",
   "metadata": {},
   "source": [
    "## Relationship between different species affecting air quality."
   ]
  },
  {
   "cell_type": "code",
   "execution_count": null,
   "metadata": {},
   "outputs": [],
   "source": [
    "df_tours.head()"
   ]
  },
  {
   "cell_type": "markdown",
   "metadata": {},
   "source": [
    "### Relationship between the maximum values of the different Specie."
   ]
  },
  {
   "cell_type": "code",
   "execution_count": null,
   "metadata": {},
   "outputs": [],
   "source": [
    "#No2 Max\n",
    "cond_=(df_tours['Specie']==\"no2\")\n",
    "data2= df_tours.loc[cond_,:]\n",
    "no2_max = pd.DataFrame(data2[['Date','max']])\n",
    "no2_max.head()"
   ]
  },
  {
   "cell_type": "code",
   "execution_count": null,
   "metadata": {},
   "outputs": [],
   "source": [
    "#Co max\n",
    "cond_1 =(df_tours['Specie']==\"co\")\n",
    "data3 = df_tours.loc[cond_1,:]\n",
    "co_max = pd.DataFrame(data3[['Date','max']])\n",
    "co_max.head()"
   ]
  },
  {
   "cell_type": "code",
   "execution_count": null,
   "metadata": {},
   "outputs": [],
   "source": [
    "df_cd = pd.merge(no2_max, co_max, how='inner', left_on = 'Date', right_on = 'Date')\n",
    "df_cd = df_cd.rename(columns={'max_x': 'no2_max', 'max_y': 'co_max'})\n",
    "df_cd.head()"
   ]
  },
  {
   "cell_type": "code",
   "execution_count": null,
   "metadata": {},
   "outputs": [],
   "source": [
    "#o3 max\n",
    "cond_2 =(df_tours['Specie']== 'o3')\n",
    "data4= df_tours.loc[cond_2,:]\n",
    "o3_max = pd.DataFrame(data4[['Date','max']])\n",
    "o3_max.head()"
   ]
  },
  {
   "cell_type": "code",
   "execution_count": null,
   "metadata": {},
   "outputs": [],
   "source": [
    "df_cd1 = pd.merge(df_cd,o3_max, how = 'inner', left_on = 'Date', right_on = 'Date')\n",
    "df_cd1 = df_cd1.rename(columns={'max': 'o3_max'})\n",
    "df_cd1.head()"
   ]
  },
  {
   "cell_type": "code",
   "execution_count": null,
   "metadata": {},
   "outputs": [],
   "source": [
    "#pressure max \n",
    "cond_3 =(df_tours['Specie']==\"pressure\")\n",
    "data5 = df_tours.loc[cond_3,:]\n",
    "pressure_max = pd.DataFrame(data5[['Date','max']])\n",
    "pressure_max.head()"
   ]
  },
  {
   "cell_type": "code",
   "execution_count": null,
   "metadata": {},
   "outputs": [],
   "source": [
    "df_cd2 = pd.merge(df_cd1, pressure_max, how = 'inner', left_on = 'Date', right_on = 'Date')\n",
    "df_cd2 = df_cd2.rename(columns={'max': 'pressure_max'})\n",
    "df_cd2.head()"
   ]
  },
  {
   "cell_type": "code",
   "execution_count": null,
   "metadata": {},
   "outputs": [],
   "source": [
    "#humidity max\n",
    "cond_4 =(df_tours['Specie']==\"humidity\")\n",
    "data6 = df_tours.loc[cond_4,:]\n",
    "hu_max = pd.DataFrame(data6[['Date','max']])\n",
    "hu_max.head()"
   ]
  },
  {
   "cell_type": "code",
   "execution_count": null,
   "metadata": {},
   "outputs": [],
   "source": [
    "df_cd3 = pd.merge(df_cd2, hu_max, how = 'inner', left_on = 'Date', right_on = 'Date')\n",
    "df_cd3 = df_cd3.rename(columns={'max': 'humidity_max'})\n",
    "df_cd3.head()"
   ]
  },
  {
   "cell_type": "code",
   "execution_count": null,
   "metadata": {},
   "outputs": [],
   "source": [
    "#pm25 max \n",
    "cond_5 =(df_tours['Specie']==\"pm25\")\n",
    "data7 = df_tours.loc[cond_5,:]\n",
    "pm25_max = pd.DataFrame(data7[['Date','max']])\n",
    "pm25_max.head()"
   ]
  },
  {
   "cell_type": "code",
   "execution_count": null,
   "metadata": {},
   "outputs": [],
   "source": [
    "df_cd4 = pd.merge(df_cd3, pm25_max, how = 'inner', left_on = 'Date', right_on = 'Date')\n",
    "df_cd4 = df_cd4.rename(columns={'max': 'pm25_max'})\n",
    "df_cd4.head()"
   ]
  },
  {
   "cell_type": "code",
   "execution_count": null,
   "metadata": {},
   "outputs": [],
   "source": [
    "#Dew max\n",
    "cond_6 =(df_tours['Specie'] == \"dew\")\n",
    "data8 = df_tours.loc[cond_6,:]\n",
    "dew_max = pd.DataFrame(data8[['Date','max']])\n",
    "dew_max.head()"
   ]
  },
  {
   "cell_type": "code",
   "execution_count": null,
   "metadata": {},
   "outputs": [],
   "source": [
    "df_cd5 = pd.merge(df_cd4, dew_max, how = 'inner', left_on = 'Date', right_on = 'Date')\n",
    "df_cd5 = df_cd5.rename(columns={'max': 'dew_max'})\n",
    "df_cd5.head()"
   ]
  },
  {
   "cell_type": "code",
   "execution_count": null,
   "metadata": {},
   "outputs": [],
   "source": [
    "#Temperature max\n",
    "cond_7 =(df_tours['Specie']==\"temperature\")\n",
    "data9 = df_tours.loc[cond_7,:]\n",
    "tp_max = pd.DataFrame(data9[['Date','max']])\n",
    "tp_max.head()"
   ]
  },
  {
   "cell_type": "code",
   "execution_count": null,
   "metadata": {},
   "outputs": [],
   "source": [
    "df_cd6 = pd.merge(df_cd5,tp_max, how = 'inner', left_on = 'Date', right_on = 'Date')\n",
    "df_cd6 = df_cd6.rename(columns={'max': 'temperature_max'})\n",
    "df_cd6.head()"
   ]
  },
  {
   "cell_type": "code",
   "execution_count": null,
   "metadata": {},
   "outputs": [],
   "source": [
    "#Wind-Speed\n",
    "cond_8 =(df_tours['Specie']==\"wind speed\")\n",
    "data10 = df_tours.loc[cond_8,:]\n",
    "ws_max = pd.DataFrame(data10[['Date','max']])\n",
    "ws_max.head()"
   ]
  },
  {
   "cell_type": "code",
   "execution_count": null,
   "metadata": {},
   "outputs": [],
   "source": [
    "df_cd7 = pd.merge(df_cd6, ws_max, how = 'inner', left_on = 'Date', right_on = 'Date')\n",
    "df_cd7 = df_cd7.rename(columns={'max': 'wind_speed_max'})\n",
    "df_cd7.head()"
   ]
  },
  {
   "cell_type": "code",
   "execution_count": null,
   "metadata": {},
   "outputs": [],
   "source": [
    "#Wind-gust\n",
    "cond_9 =(df_tours['Specie']== \"wind gust\")\n",
    "data11 = df_tours.loc[cond_9,:]\n",
    "wg_max = pd.DataFrame(data11[['Date','max']])\n",
    "wg_max.head()"
   ]
  },
  {
   "cell_type": "code",
   "execution_count": null,
   "metadata": {},
   "outputs": [],
   "source": [
    "df_cd8 = pd.merge(df_cd7, wg_max, how = 'inner', left_on = 'Date', right_on = 'Date')\n",
    "df_cd8 = df_cd8.rename(columns={'max': 'wind_gust_max'})\n",
    "df_specie_max = df_cd8 #Final DataFrame\n",
    "df_specie_max.head()"
   ]
  },
  {
   "cell_type": "code",
   "execution_count": null,
   "metadata": {},
   "outputs": [],
   "source": [
    "#correlation matrix\n",
    "correlation_matrix = df_specie_max.corr()\n",
    "correlation_matrix"
   ]
  },
  {
   "cell_type": "code",
   "execution_count": null,
   "metadata": {},
   "outputs": [],
   "source": [
    "#Heatmap\n",
    "sns.heatmap(correlation_matrix, annot = True)\n",
    "plt.title(\"Correlation Matrix between the factors affecting air quality concerning their max value\")\n",
    "plt.xlabel(\"Factors affecting air quality\")\n",
    "plt.ylabel(\"Factors affecting air quality\")\n",
    "plt.show()"
   ]
  },
  {
   "cell_type": "markdown",
   "metadata": {},
   "source": [
    "### Relationship between the minimum values of the different Specie."
   ]
  },
  {
   "cell_type": "code",
   "execution_count": null,
   "metadata": {},
   "outputs": [],
   "source": [
    "#No2 Min\n",
    "co_ =(df_tours['Specie']==\"no2\")\n",
    "dat1 = df_tours.loc[co_,:]\n",
    "no2_min = pd.DataFrame(dat1[['Date','min']])\n",
    "no2_min.head()"
   ]
  },
  {
   "cell_type": "code",
   "execution_count": null,
   "metadata": {},
   "outputs": [],
   "source": [
    "#Co min\n",
    "co_1 =(df_tours['Specie']==\"co\")\n",
    "dat2  = df_tours.loc[co_1,:]\n",
    "co_min = pd.DataFrame(dat2[['Date','min']])\n",
    "co_min.head()"
   ]
  },
  {
   "cell_type": "code",
   "execution_count": null,
   "metadata": {},
   "outputs": [],
   "source": [
    "df_mg = pd.merge(no2_min, co_min, how='inner', left_on = 'Date', right_on = 'Date')\n",
    "df_mg = df_mg.rename(columns={'min_x': 'no2_min', 'min_y': 'co_min'})\n",
    "df_mg.head()"
   ]
  },
  {
   "cell_type": "code",
   "execution_count": null,
   "metadata": {},
   "outputs": [],
   "source": [
    "#o3 max\n",
    "co_2 =(df_tours['Specie']== 'o3')\n",
    "dat3 = df_tours.loc[co_2,:]\n",
    "o3_min = pd.DataFrame(dat3[['Date','min']])\n",
    "o3_min.head()"
   ]
  },
  {
   "cell_type": "code",
   "execution_count": null,
   "metadata": {},
   "outputs": [],
   "source": [
    "df_mg1 = pd.merge(df_mg,o3_min, how = 'inner', left_on = 'Date', right_on = 'Date')\n",
    "df_mg1 = df_mg1.rename(columns={'min': 'o3_min'})\n",
    "df_mg1.head()"
   ]
  },
  {
   "cell_type": "code",
   "execution_count": null,
   "metadata": {},
   "outputs": [],
   "source": [
    "#pressure min \n",
    "co_3 =(df_tours['Specie']==\"pressure\")\n",
    "dat4 = df_tours.loc[co_3,:]\n",
    "pressure_min = pd.DataFrame(dat4[['Date','min']])\n",
    "pressure_min.head()"
   ]
  },
  {
   "cell_type": "code",
   "execution_count": null,
   "metadata": {},
   "outputs": [],
   "source": [
    "df_mg2 = pd.merge(df_mg1, pressure_min, how = 'inner', left_on = 'Date', right_on = 'Date')\n",
    "df_mg2 = df_mg2.rename(columns={'min': 'pressure_min'})\n",
    "df_mg2.head()"
   ]
  },
  {
   "cell_type": "code",
   "execution_count": null,
   "metadata": {},
   "outputs": [],
   "source": [
    "#humidity min\n",
    "co_4 =(df_tours['Specie']==\"humidity\")\n",
    "dat5 = df_tours.loc[co_4,:]\n",
    "hu_min = pd.DataFrame(dat5[['Date','min']])\n",
    "hu_min.head()"
   ]
  },
  {
   "cell_type": "code",
   "execution_count": null,
   "metadata": {},
   "outputs": [],
   "source": [
    "df_mg3 = pd.merge(df_mg2, hu_min, how = 'inner', left_on = 'Date', right_on = 'Date')\n",
    "df_mg3 = df_mg3.rename(columns={'min': 'humidity_min'})\n",
    "df_mg3.head()"
   ]
  },
  {
   "cell_type": "code",
   "execution_count": null,
   "metadata": {},
   "outputs": [],
   "source": [
    "#pm25 min \n",
    "co_5 =(df_tours['Specie']==\"pm25\")\n",
    "dat6 = df_tours.loc[co_5,:]\n",
    "pm25_min = pd.DataFrame(dat6[['Date','min']])\n",
    "pm25_min.head()"
   ]
  },
  {
   "cell_type": "code",
   "execution_count": null,
   "metadata": {},
   "outputs": [],
   "source": [
    "df_mg4 = pd.merge(df_mg3, pm25_min, how = 'inner', left_on = 'Date', right_on = 'Date')\n",
    "df_mg4 = df_mg4.rename(columns={'min': 'pm25_min'})\n",
    "df_mg4.head()"
   ]
  },
  {
   "cell_type": "code",
   "execution_count": null,
   "metadata": {},
   "outputs": [],
   "source": [
    "#Dew min\n",
    "co_6 =(df_tours['Specie'] == \"dew\")\n",
    "dat7 = df_tours.loc[co_6,:]\n",
    "dew_min = pd.DataFrame(dat7[['Date','min']])\n",
    "dew_min.head()"
   ]
  },
  {
   "cell_type": "code",
   "execution_count": null,
   "metadata": {},
   "outputs": [],
   "source": [
    "df_mg5 = pd.merge(df_mg4, dew_min, how = 'inner', left_on = 'Date', right_on = 'Date')\n",
    "df_mg5 = df_mg5.rename(columns={'min': 'dew_min'})\n",
    "df_mg5.head()"
   ]
  },
  {
   "cell_type": "code",
   "execution_count": null,
   "metadata": {},
   "outputs": [],
   "source": [
    "#Temperature min\n",
    "co_7 =(df_tours['Specie']==\"temperature\")\n",
    "dat8 = df_tours.loc[co_7,:]\n",
    "tp_min = pd.DataFrame(dat8[['Date','min']])\n",
    "tp_min.head()"
   ]
  },
  {
   "cell_type": "code",
   "execution_count": null,
   "metadata": {},
   "outputs": [],
   "source": [
    "df_mg6 = pd.merge(df_mg5,tp_min, how = 'inner', left_on = 'Date', right_on = 'Date')\n",
    "df_mg6 = df_mg6.rename(columns={'min': 'temperature_min'})\n",
    "df_mg6.head()"
   ]
  },
  {
   "cell_type": "code",
   "execution_count": null,
   "metadata": {},
   "outputs": [],
   "source": [
    "#Wind-Speed min\n",
    "co_8 =(df_tours['Specie']==\"wind speed\")\n",
    "dat9 = df_tours.loc[co_8,:]\n",
    "ws_min = pd.DataFrame(dat9[['Date','min']])\n",
    "ws_min.head()"
   ]
  },
  {
   "cell_type": "code",
   "execution_count": null,
   "metadata": {},
   "outputs": [],
   "source": [
    "df_mg7 = pd.merge(df_mg6, ws_min, how = 'inner', left_on = 'Date', right_on = 'Date')\n",
    "df_mg7 = df_mg7.rename(columns={'min': 'wind_speed_min'})\n",
    "df_mg7.head()"
   ]
  },
  {
   "cell_type": "code",
   "execution_count": null,
   "metadata": {},
   "outputs": [],
   "source": [
    "#Wind-gust min\n",
    "co_9 =(df_tours['Specie']== \"wind gust\")\n",
    "dat10 = df_tours.loc[co_9,:]\n",
    "wg_min = pd.DataFrame(dat10[['Date','min']])\n",
    "wg_min.head()"
   ]
  },
  {
   "cell_type": "code",
   "execution_count": null,
   "metadata": {},
   "outputs": [],
   "source": [
    "df_mg8 = pd.merge(df_mg7, wg_min, how = 'inner', left_on = 'Date', right_on = 'Date')\n",
    "df_mg8 = df_mg8.rename(columns={'min': 'wind_gust_min'})\n",
    "df_specie_min = df_mg8 #Final DataFrame\n",
    "df_specie_min.head()"
   ]
  },
  {
   "cell_type": "code",
   "execution_count": null,
   "metadata": {},
   "outputs": [],
   "source": [
    "#correlation matrix\n",
    "correlation_matrix1 = df_specie_min.corr()\n",
    "correlation_matrix1"
   ]
  },
  {
   "cell_type": "code",
   "execution_count": null,
   "metadata": {},
   "outputs": [],
   "source": [
    "#Heatmap\n",
    "sns.heatmap(correlation_matrix1, annot = True)\n",
    "plt.title(\"Correlation Matrix between the factors affecting air quality concerning their min value\")\n",
    "plt.xlabel(\"Factors affecting air quality\")\n",
    "plt.ylabel(\"Factors affecting air quality\")\n",
    "plt.show()"
   ]
  },
  {
   "cell_type": "markdown",
   "metadata": {},
   "source": [
    "## Plots between Species."
   ]
  },
  {
   "cell_type": "code",
   "execution_count": null,
   "metadata": {},
   "outputs": [],
   "source": [
    "#pm10\n",
    "df_tours_pm10_bc = df_tours_bc[df_tours_bc['Specie'] == 'pm10'].sort_values(by='Date', ascending = True)\n",
    "df_tours_pm10_bc.head()"
   ]
  },
  {
   "cell_type": "code",
   "execution_count": null,
   "metadata": {},
   "outputs": [],
   "source": [
    "#o3\n",
    "df_tours_o3_bc = df_tours_bc[df_tours_bc['Specie'] == 'o3'].sort_values(by='Date', ascending = True)\n",
    "df_tours_o3_bc.head()"
   ]
  },
  {
   "cell_type": "code",
   "execution_count": null,
   "metadata": {},
   "outputs": [],
   "source": [
    "#no2\n",
    "df_tours_no2_bc = df_tours_bc[df_tours_bc['Specie'] == 'no2'].sort_values(by='Date', ascending = True)\n",
    "df_tours_no2_bc.head()"
   ]
  },
  {
   "cell_type": "code",
   "execution_count": null,
   "metadata": {},
   "outputs": [],
   "source": [
    "#co\n",
    "df_tours_co_bc = df_tours_bc[df_tours_bc['Specie'] == 'co'].sort_values(by='Date', ascending = True)\n",
    "df_tours_co_bc.head()"
   ]
  },
  {
   "cell_type": "code",
   "execution_count": null,
   "metadata": {},
   "outputs": [],
   "source": [
    "#pm25 over time \n",
    "df_tours_pm25_bc = df_tours_bc[df_tours_bc['Specie'] == 'pm25'].sort_values(by='Date', ascending = True)\n",
    "df_tours_pm25_bc.head()"
   ]
  },
  {
   "cell_type": "code",
   "execution_count": null,
   "metadata": {},
   "outputs": [],
   "source": [
    "#temperature\n",
    "df_tours_temp_bc = df_tours_bc[df_tours_bc['Specie'] == 'temperature'].sort_values(by='Date', ascending = True)\n",
    "df_tours_temp_bc.head()"
   ]
  },
  {
   "cell_type": "code",
   "execution_count": null,
   "metadata": {},
   "outputs": [],
   "source": [
    "#humidity\n",
    "df_tours_hum_bc = df_tours_bc[df_tours_bc['Specie'] == 'humidity'].sort_values(by='Date', ascending = True)\n",
    "df_tours_hum_bc.head()"
   ]
  },
  {
   "cell_type": "code",
   "execution_count": null,
   "metadata": {},
   "outputs": [],
   "source": [
    "#wind_speed\n",
    "df_tours_ws_bc = df_tours_bc[df_tours_bc['Specie'] == 'wind speed'].sort_values(by='Date', ascending = True)\n",
    "df_tours_ws_bc.head()"
   ]
  },
  {
   "cell_type": "code",
   "execution_count": null,
   "metadata": {},
   "outputs": [],
   "source": [
    "#dew \n",
    "df_tours_dew_bc = df_tours_bc[df_tours_bc['Specie'] == 'dew'].sort_values(by='Date', ascending = True)\n",
    "df_tours_dew_bc.head()"
   ]
  },
  {
   "cell_type": "code",
   "execution_count": null,
   "metadata": {},
   "outputs": [],
   "source": [
    "#wind-gust\n",
    "df_tours_wg_bc = df_tours_bc[df_tours_bc['Specie'] == 'wind gust'].sort_values(by='Date', ascending = True)\n",
    "df_tours_wg_bc.head()"
   ]
  },
  {
   "cell_type": "code",
   "execution_count": null,
   "metadata": {},
   "outputs": [],
   "source": [
    "#pm10\n",
    "df_tours_pm10_dc = df_tours_dc[df_tours_dc['Specie'] == 'pm10'].sort_values(by='Date', ascending = True)\n",
    "df_tours_pm10_dc.head()"
   ]
  },
  {
   "cell_type": "code",
   "execution_count": null,
   "metadata": {},
   "outputs": [],
   "source": [
    "#o3\n",
    "df_tours_o3_dc = df_tours_dc[df_tours_dc['Specie'] == 'o3'].sort_values(by='Date', ascending = True)\n",
    "df_tours_o3_dc.head()"
   ]
  },
  {
   "cell_type": "code",
   "execution_count": null,
   "metadata": {},
   "outputs": [],
   "source": [
    "#pm25\n",
    "df_tours_pm25_dc = df_tours_dc[df_tours_dc['Specie'] == 'pm25'].sort_values(by='Date', ascending = True)\n",
    "df_tours_pm25_dc.head()"
   ]
  },
  {
   "cell_type": "code",
   "execution_count": null,
   "metadata": {},
   "outputs": [],
   "source": [
    "#no2\n",
    "df_tours_no2_dc = df_tours_dc[df_tours_dc['Specie'] == 'no2'].sort_values(by='Date', ascending = True)\n",
    "df_tours_no2_dc.head()"
   ]
  },
  {
   "cell_type": "code",
   "execution_count": null,
   "metadata": {},
   "outputs": [],
   "source": [
    "#wind gust\n",
    "df_tours_wg_dc = df_tours_dc[df_tours_dc['Specie'] == 'wind gust'].sort_values(by='Date', ascending = True)\n",
    "df_tours_wg_dc.head()"
   ]
  },
  {
   "cell_type": "code",
   "execution_count": null,
   "metadata": {},
   "outputs": [],
   "source": [
    "#wind speed \n",
    "df_tours_ws_dc = df_tours_dc[df_tours_dc['Specie'] == 'wind speed'].sort_values(by='Date', ascending = True)\n",
    "df_tours_ws_dc.head()"
   ]
  },
  {
   "cell_type": "code",
   "execution_count": null,
   "metadata": {},
   "outputs": [],
   "source": [
    "#dew\n",
    "df_tours_dew_dc = df_tours_dc[df_tours_dc['Specie'] == 'dew'].sort_values(by='Date', ascending = True)\n",
    "df_tours_dew_dc.head()"
   ]
  },
  {
   "cell_type": "code",
   "execution_count": null,
   "metadata": {},
   "outputs": [],
   "source": [
    "#pressure\n",
    "df_tours_ps_dc = df_tours_dc[df_tours_dc['Specie'] == 'pressure'].sort_values(by='Date', ascending = True)\n",
    "df_tours_ps_dc.head()"
   ]
  },
  {
   "cell_type": "code",
   "execution_count": null,
   "metadata": {},
   "outputs": [],
   "source": [
    "#humidity \n",
    "df_tours_hum_dc = df_tours_dc[df_tours_dc['Specie'] == 'humidity'].sort_values(by='Date', ascending = True)\n",
    "df_tours_hum_dc.head()"
   ]
  },
  {
   "cell_type": "code",
   "execution_count": null,
   "metadata": {},
   "outputs": [],
   "source": [
    "#temperature\n",
    "df_tours_temp_dc = df_tours_dc[df_tours_dc['Specie'] == 'temperature'].sort_values(by='Date', ascending = True)\n",
    "df_tours_temp_dc.head()"
   ]
  },
  {
   "cell_type": "markdown",
   "metadata": {},
   "source": [
    "### Correlation between the maximum value of each specie before and during COVID."
   ]
  },
  {
   "cell_type": "code",
   "execution_count": null,
   "metadata": {},
   "outputs": [],
   "source": [
    "#Relationship between the maximum values of the species PM25, No2, Pm10 before and during COVID.\n",
    "\n",
    "\n",
    "#correlation with temperature\n",
    "fig = plt.figure(figsize=(250, 30))\n",
    "  \n",
    "\n",
    "#correlation with pm25\n",
    "plt.subplot(1,2,1)\n",
    "plt.plot(df_tours_pm25_bc['Date'], df_tours_pm25_bc['max'], label = 'pm25 before covid')\n",
    "plt.xticks(rotation='vertical')\n",
    "\n",
    "\n",
    "#correlation with no2 \n",
    "plt.subplot(1,2,1)\n",
    "plt.plot(df_tours_no2_bc['Date'], df_tours_no2_bc['max'], label = 'no2 before covid')\n",
    "plt.xticks(rotation='vertical')    \n",
    "\n",
    "\n",
    "\n",
    "\n",
    "#correlation with pm10\n",
    "plt.subplot(1,2,1)\n",
    "plt.plot(df_tours_pm10_bc['Date'], df_tours_pm10_bc['max'], label = 'pm10 before covid')\n",
    "plt.xticks(rotation='vertical')\n",
    "\n",
    "\n",
    "\n",
    "\n",
    "#correlation with pm25\n",
    "plt.subplot(1,2,1)\n",
    "plt.plot(df_tours_pm25_dc['Date'], df_tours_pm25_dc['max'], label = 'pm25 during covid')\n",
    "plt.xticks(rotation='vertical')\n",
    "\n",
    "\n",
    "#correlation with no2 \n",
    "plt.subplot(1,2,1)\n",
    "plt.plot(df_tours_no2_dc['Date'], df_tours_no2_dc['max'], label = 'no2 during covid')\n",
    "plt.xticks(rotation='vertical')\n",
    "\n",
    "#correlation with pm10\n",
    "plt.subplot(1,2,1)\n",
    "plt.plot(df_tours_pm10_dc['Date'], df_tours_pm10_dc['max'], label = 'pm10 during covid')\n",
    "plt.xticks(rotation='vertical')\n",
    "\n",
    "\n",
    "\n",
    "plt.xlabel('Period before and during COVID')\n",
    "plt.ylabel('Maximum level')\n",
    "plt.legend(loc=2, prop={'size': 8})\n",
    "plt.title('Correlation between the maximum values of the species pm25, no2 and pm10 before and during covid in Tours')"
   ]
  },
  {
   "cell_type": "code",
   "execution_count": null,
   "metadata": {},
   "outputs": [],
   "source": [
    "#Relationship between the maximum values of the species temperature and dew before and during Covid.\n",
    "\n",
    "fig = plt.figure(figsize=(250, 30))\n",
    "\n",
    "#correlation with temperature\n",
    "plt.subplot(1,2,1)\n",
    "plt.plot(df_tours_temp_bc['Date'], df_tours_temp_bc['max'], label = 'temperature before covid')\n",
    "plt.xticks(rotation='vertical')       \n",
    "\n",
    "\n",
    "#correlation with dew\n",
    "plt.subplot(1,2,1)\n",
    "plt.plot(df_tours_dew_bc['Date'], df_tours_dew_bc['max'], label = 'dew before covid')\n",
    "plt.xticks(rotation='vertical')\n",
    "\n",
    "\n",
    "#correlation with temperature\n",
    "plt.subplot(1,2,1)\n",
    "plt.plot(df_tours_temp_dc['Date'], df_tours_temp_dc['max'], label = 'temperature during covid')\n",
    "plt.xticks(rotation='vertical')\n",
    "           \n",
    "\n",
    "#correlation with dew\n",
    "plt.subplot(1,2,1)\n",
    "plt.plot(df_tours_dew_dc['Date'], df_tours_dew_dc['max'], label = 'dew during covid')\n",
    "plt.xticks(rotation='vertical')\n",
    "\n",
    "plt.xlabel('Period before and during COVID')\n",
    "plt.ylabel('Maximum level')\n",
    "plt.legend(loc=2, prop={'size': 8})\n",
    "plt.title('Correlation between the maximum values of the species temperature and dew before and during covid in Tours')"
   ]
  },
  {
   "cell_type": "code",
   "execution_count": null,
   "metadata": {},
   "outputs": [],
   "source": [
    "#Relationship between the maximum values of wind-speed and wind-gust during and before  covid.\n",
    "\n",
    "fig = plt.figure(figsize=(250, 30))\n",
    "\n",
    "#correlation with wind-gust\n",
    "plt.subplot(1,2,1)\n",
    "plt.plot(df_tours_wg_bc['Date'], df_tours_wg_bc['max'], label = 'wind-gust before covid')\n",
    "plt.xticks(rotation='vertical')       \n",
    "\n",
    "\n",
    "#correlation with wind-speed.\n",
    "plt.subplot(1,2,1)\n",
    "plt.plot(df_tours_ws_bc['Date'], df_tours_ws_bc['max'], label = 'wind-speed before covid')\n",
    "plt.xticks(rotation='vertical')\n",
    "\n",
    "\n",
    "\n",
    "#correlation with wind speed\n",
    "plt.subplot(1,2,1)\n",
    "plt.plot(df_tours_ws_dc['Date'], df_tours_ws_dc['max'], label = 'wind-speed during covid')\n",
    "plt.xticks(rotation='vertical')\n",
    "\n",
    "#correlation with wind-gust\n",
    "plt.subplot(1,2,1)\n",
    "plt.plot(df_tours_wg_dc['Date'], df_tours_wg_dc['max'], label = 'wind gust during covid')\n",
    "plt.xticks(rotation='vertical')\n",
    "\n",
    "plt.xlabel('Period before and during COVID')\n",
    "plt.ylabel('Maximum level')\n",
    "plt.legend(loc=2, prop={'size': 8})\n",
    "plt.title('Correlation between the maximum values of the species wind-speed and wind-gust before andduring covid in Tours')"
   ]
  },
  {
   "cell_type": "markdown",
   "metadata": {},
   "source": [
    "### Correlation between the minimum value of each specie before and during COVID."
   ]
  },
  {
   "cell_type": "code",
   "execution_count": null,
   "metadata": {},
   "outputs": [],
   "source": [
    "#correlation with temperature\n",
    "fig = plt.figure(figsize=(250, 20))\n",
    "\n",
    "\n",
    "#correlation with pm25\n",
    "plt.subplot(1,2,1)\n",
    "plt.plot(df_tours_pm25_bc['Date'], df_tours_pm25_bc['min'], label = 'pm25 before covid')\n",
    "plt.xticks(rotation='vertical')\n",
    "\n",
    "\n",
    "#correlation with no2 \n",
    "plt.subplot(1,2,1)\n",
    "plt.plot(df_tours_no2_bc['Date'], df_tours_no2_bc['min'], label = 'no2 before covid')\n",
    "plt.xticks(rotation='vertical')\n",
    "\n",
    "#correlation with pm10\n",
    "plt.subplot(1,2,1)\n",
    "plt.plot(df_tours_pm10_bc['Date'], df_tours_pm10_bc['min'], label = 'pm10 before covid')\n",
    "plt.xticks(rotation='vertical')\n",
    "\n",
    "\n",
    "#correlation with pm25\n",
    "plt.subplot(1,2,1)\n",
    "plt.plot(df_tours_pm25_dc['Date'], df_tours_pm25_dc['min'], label = 'pm25 during covid')\n",
    "plt.xticks(rotation='vertical')\n",
    "\n",
    "\n",
    "#correlation with no2 \n",
    "plt.subplot(1,2,1)\n",
    "plt.plot(df_tours_no2_dc['Date'], df_tours_no2_dc['min'], label = 'no2 during covid')\n",
    "plt.xticks(rotation='vertical')\n",
    "\n",
    "\n",
    "#correlation with pm10\n",
    "plt.subplot(1,2,1)\n",
    "plt.plot(df_tours_pm10_dc['Date'], df_tours_pm10_dc['min'], label = 'pm10 during covid')\n",
    "plt.xticks(rotation='vertical')\n",
    "\n",
    "\n",
    "plt.xlabel('Period before and during COVID')\n",
    "plt.ylabel('Minimum level')\n",
    "plt.legend(loc=2, prop={'size': 8})\n",
    "plt.title('Correlation between the min values of the species pm25, no2 and pm10 before and during covid in Tours')"
   ]
  },
  {
   "cell_type": "markdown",
   "metadata": {},
   "source": [
    "Here pm25-pm10 are still correlated. However, we can observe that the min level of No2 was not very correlated as it used to with PM25-PM10."
   ]
  },
  {
   "cell_type": "code",
   "execution_count": null,
   "metadata": {},
   "outputs": [],
   "source": [
    "#correlation with temperature\n",
    "fig = plt.figure(figsize=(250, 20))\n",
    "plt.subplot(1,2,1)\n",
    "plt.plot(df_tours_temp_bc['Date'], df_tours_temp_bc['min'], label = 'temperature before covid')\n",
    "plt.xticks(rotation='vertical')\n",
    "           \n",
    "\n",
    "#correlation with dew\n",
    "plt.subplot(1,2,1)\n",
    "plt.plot(df_tours_dew_bc['Date'], df_tours_dew_bc['min'], label = 'dew before covid')\n",
    "plt.xticks(rotation='vertical')\n",
    "\n",
    "plt.subplot(1,2,1)\n",
    "plt.plot(df_tours_temp_dc['Date'], df_tours_temp_dc['min'], label = 'temperature during covid')\n",
    "plt.xticks(rotation='vertical')\n",
    "           \n",
    "\n",
    "#correlation with dew\n",
    "plt.subplot(1,2,1)\n",
    "plt.plot(df_tours_dew_dc['Date'], df_tours_dew_dc['min'], label = 'dew during covid')\n",
    "plt.xticks(rotation='vertical')\n",
    "\n",
    "\n",
    "plt.xlabel('Period before and during COVID')\n",
    "plt.ylabel('Minimum level')\n",
    "plt.legend(loc=2, prop={'size': 8})\n",
    "plt.title('Correlation between the min values of the species temperature and dew before and during covid in Tours')"
   ]
  },
  {
   "cell_type": "code",
   "execution_count": null,
   "metadata": {},
   "outputs": [],
   "source": [
    "#correlation with temperature\n",
    "fig = plt.figure(figsize=(250, 20))\n",
    "\n",
    "\n",
    "#correlation with wind speed\n",
    "plt.subplot(1,2,1)\n",
    "plt.plot(df_tours_ws_bc['Date'], df_tours_ws_bc['min'], label = 'wind-speed before covid')\n",
    "plt.xticks(rotation='vertical')\n",
    "\n",
    "#correlation with wind-gust\n",
    "plt.subplot(1,2,1)\n",
    "plt.plot(df_tours_wg_bc['Date'], df_tours_wg_bc['min'], label = 'wind-gust before covid')\n",
    "plt.xticks(rotation='vertical')\n",
    "\n",
    "#correlation with wind speed\n",
    "plt.subplot(1,2,1)\n",
    "plt.plot(df_tours_ws_dc['Date'], df_tours_ws_dc['min'], label = 'wind-speed during covid')\n",
    "plt.xticks(rotation='vertical')\n",
    "\n",
    "#correlation with wind-gust\n",
    "plt.subplot(1,2,1)\n",
    "plt.plot(df_tours_wg_dc['Date'], df_tours_wg_dc['min'], label = 'wind-gust durign covid')\n",
    "plt.xticks(rotation='vertical')\n",
    "\n",
    "plt.xlabel('Period before and during COVID')\n",
    "plt.ylabel('Minimum level')\n",
    "plt.legend(loc=2, prop={'size': 8})\n",
    "plt.title('Correlation between the min values of the species wind-speed and wind-gust before and during covid in Tours')"
   ]
  },
  {
   "cell_type": "markdown",
   "metadata": {},
   "source": [
    "# Exploratory analysis on the city of Lyon."
   ]
  },
  {
   "cell_type": "code",
   "execution_count": null,
   "metadata": {},
   "outputs": [],
   "source": [
    "#Lyon\n",
    "df_lyon.head()"
   ]
  },
  {
   "cell_type": "markdown",
   "metadata": {},
   "source": [
    "## Evolution of the min, max and variance values accross time for different Species. "
   ]
  },
  {
   "cell_type": "markdown",
   "metadata": {},
   "source": [
    "### Before Covid: July 2019 - December 2019| During Covid: January 2020 - July 2021."
   ]
  },
  {
   "cell_type": "markdown",
   "metadata": {},
   "source": [
    "#### PM10"
   ]
  },
  {
   "cell_type": "code",
   "execution_count": null,
   "metadata": {},
   "outputs": [],
   "source": [
    "#DataFrame for the city of Lyon before Covid.\n",
    "mask = (df_lyon['Date'] >= '2019-07-01') & (df_lyon['Date'] <= '2019-12-28')\n",
    "df_lyon_bc = df_lyon.loc[mask] #dataframe for the city of Lyon before Covid.\n",
    "df_lyon_bc.tail(5)"
   ]
  },
  {
   "cell_type": "code",
   "execution_count": null,
   "metadata": {},
   "outputs": [],
   "source": [
    "df_lyon_bc_pm10 = df_lyon_bc[df_lyon_bc['Specie'] == 'pm10']\n",
    "df_lyon_bc_pm10 = df_lyon_bc_pm10.reset_index()\n",
    "df_lyon_bc_pm10 #dataframe for the city of Lyon before Covid with regards to the PM10 level."
   ]
  },
  {
   "cell_type": "code",
   "execution_count": null,
   "metadata": {},
   "outputs": [],
   "source": [
    "#DataFrame during the Covid period for the city of Lyon.\n",
    "mask1 = (df_lyon['Date'] > '2019-12-28') & (df_lyon['Date'] <= '2021-07-25')\n",
    "df_lyon_dc = df_lyon.loc[mask1] #dataframe for the city of Lyon during Covid.\n",
    "df_lyon_dc.head(5)"
   ]
  },
  {
   "cell_type": "code",
   "execution_count": null,
   "metadata": {},
   "outputs": [],
   "source": [
    "df_lyon_dc.reset_index()"
   ]
  },
  {
   "cell_type": "code",
   "execution_count": null,
   "metadata": {},
   "outputs": [],
   "source": [
    "df_lyon_dc_pm10 = df_lyon_dc[df_lyon_dc['Specie'] == 'pm10']\n",
    "df_lyon_dc_pm10 = df_lyon_dc_pm10.reset_index()\n",
    "df_lyon_dc_pm10 #dataframe for the city of Lyon during Covid with regards to the PM10 level."
   ]
  },
  {
   "cell_type": "code",
   "execution_count": null,
   "metadata": {},
   "outputs": [],
   "source": [
    "#Final graph showing the evolution of the min level of PM10 before Covid.\n",
    "plt.figure(figsize=(30,8))\n",
    "plt.plot(df_lyon_bc_pm10['min'])\n",
    "plt.xticks(rotation='vertical')\n",
    "plt.title('Evolution of the min PM10 level for the city of Lyon before Covid')\n",
    "plt.xlabel('Days starting from July until December 2019')\n",
    "plt.ylabel('PM10 min level')\n",
    "plt.show()\n",
    "\n",
    "#Final graph showing the evolution of the min level of PM10 during Covid.\n",
    "plt.figure(figsize=(30,8))\n",
    "plt.plot(df_lyon_dc_pm10['min'])\n",
    "plt.xticks(rotation='vertical')\n",
    "plt.title('Evolution of the min PM10 level for the city of Lyon during Covid')\n",
    "plt.xlabel('Days starting from January 2020 until July 2021')\n",
    "plt.ylabel('PM10 min level')\n",
    "plt.show()\n",
    "\n",
    "#Final graph showing the evolution of the max level of PM10 before Covid.\n",
    "plt.figure(figsize =(30,8))\n",
    "plt.plot(df_lyon_bc_pm10['max'])\n",
    "plt.xticks(rotation='vertical')\n",
    "plt.title('Evolution of the max PM10 level for the city of Lyon before Covid')\n",
    "plt.xlabel('Days starting from July until December 2019')\n",
    "plt.ylabel('PM10 max level')\n",
    "plt.show()\n",
    "\n",
    "#Final graph showing the evolution of the max level of PM10 during Covid.\n",
    "plt.figure(figsize=(30,8))\n",
    "plt.plot(df_lyon_dc_pm10['max'])\n",
    "plt.xticks(rotation='vertical')\n",
    "plt.title('Evolution of the max PM10 level for the city of Lyon during Covid')\n",
    "plt.xlabel('Days starting from January 2020 until July 2021')\n",
    "plt.ylabel('PM10 max level')\n",
    "plt.show()\n",
    "\n",
    "#Final graph showing the evolution of the variance level of PM10 before Covid.\n",
    "plt.figure(figsize=(30,8))\n",
    "plt.plot(df_lyon_bc_pm10['variance'])\n",
    "plt.xticks(rotation='vertical')\n",
    "plt.title('Evolution of the PM10 level\\'s for the city of Lyon before Covid')\n",
    "plt.xlabel('Days starting from July until December 2019')\n",
    "plt.ylabel('PM10 variance level')\n",
    "plt.show()\n",
    "\n",
    "#Final graph showing the evolution of the variance level of PM10 during Covid.\n",
    "plt.figure(figsize=(30,8))\n",
    "plt.plot(df_lyon_dc_pm10['variance'])\n",
    "plt.xticks(rotation='vertical')\n",
    "plt.title('Evolution of the PM10 level\\'s variance for the city of Lyon during Covid')\n",
    "plt.xlabel('Days starting from January 2020 until July 2021')\n",
    "plt.ylabel('PM10 variance level')\n",
    "plt.show()"
   ]
  },
  {
   "cell_type": "markdown",
   "metadata": {},
   "source": [
    "#### o3"
   ]
  },
  {
   "cell_type": "code",
   "execution_count": null,
   "metadata": {},
   "outputs": [],
   "source": [
    "df_lyon_bc_o3 = df_lyon_bc[df_lyon_bc['Specie'] == 'o3']\n",
    "df_lyon_bc_o3 = df_lyon_bc_o3.reset_index()\n",
    "df_lyon_bc_o3 #dataframe for the city of Lyon before Covid with regards to the o3 level."
   ]
  },
  {
   "cell_type": "code",
   "execution_count": null,
   "metadata": {},
   "outputs": [],
   "source": [
    "df_lyon_dc_o3 = df_lyon_dc[df_lyon_dc['Specie'] == 'o3']\n",
    "df_lyon_dc_o3 = df_lyon_dc_o3.reset_index()\n",
    "df_lyon_dc_o3 #dataframe for the city of Lyon during Covid with regards to the o3 level."
   ]
  },
  {
   "cell_type": "code",
   "execution_count": null,
   "metadata": {},
   "outputs": [],
   "source": [
    "#Final graph showing the evolution of the min level of o3 before Covid.\n",
    "plt.figure(figsize=(30,8))\n",
    "plt.plot(df_lyon_bc_o3['min'], color = 'green')\n",
    "plt.xticks(rotation='vertical')\n",
    "plt.title('Evolution of the min o3 level for the city of Lyon before Covid')\n",
    "plt.xlabel('Days starting from July until December 2019')\n",
    "plt.ylabel('o3 min level')\n",
    "plt.show()\n",
    "\n",
    "#Final graph showing the evolution of the min level of o3 during Covid.\n",
    "plt.figure(figsize= (30,8))\n",
    "plt.plot(df_lyon_dc_o3['min'],color = 'green')\n",
    "plt.xticks(rotation='vertical')\n",
    "plt.title('Evolution of the min o3 level for the city of Lyon during Covid')\n",
    "plt.xlabel('Days starting from January 2020 until July 2021')\n",
    "plt.ylabel('o3 min level')\n",
    "plt.show()\n",
    "\n",
    "#Final graph showing the evolution of the max level of o3 before Covid.\n",
    "plt.figure(figsize=(30,8))\n",
    "plt.plot(df_lyon_bc_o3['max'], color = 'green')\n",
    "plt.xticks(rotation='vertical')\n",
    "plt.title('Evolution of the max o3 level for the city of Lyon before Covid')\n",
    "plt.xlabel('Days starting from July until December 2019')\n",
    "plt.ylabel('o3 max level')\n",
    "plt.show()\n",
    "\n",
    "#Final graph showing the evolution of the min level of o3 during Covid.\n",
    "plt.figure(figsize= (30,8))\n",
    "plt.plot(df_lyon_dc_o3['max'],color = 'green')\n",
    "plt.xticks(rotation='vertical')\n",
    "plt.title('Evolution of the max o3 level for the city of Lyon during Covid')\n",
    "plt.xlabel('Days starting from January 2020 until July 2021')\n",
    "plt.ylabel('o3 max level')\n",
    "plt.show()\n",
    "\n",
    "#Final graph showing the evolution of the variance level of o3 before Covid.\n",
    "plt.figure(figsize=(30,8))\n",
    "plt.plot(df_lyon_bc_o3['variance'], color = 'green')\n",
    "plt.xticks(rotation='vertical')\n",
    "plt.title('Evolution of the o3 level\\'s variance for the city of Lyon before Covid')\n",
    "plt.xlabel('Days starting from July until December 2019')\n",
    "plt.ylabel('o3 variance level')\n",
    "plt.show()\n",
    "\n",
    "#Final graph showing the evolution of the variance level of o3 during Covid.\n",
    "plt.figure(figsize= (30,8))\n",
    "plt.plot(df_lyon_dc_o3['variance'],color = 'green')\n",
    "plt.xticks(rotation='vertical')\n",
    "plt.title('Evolution of the o3 level\\'s variance for the city of Lyon during Covid')\n",
    "plt.xlabel('Days starting from January 2020 until July 2021')\n",
    "plt.ylabel('o3 variance level')\n",
    "plt.show()"
   ]
  },
  {
   "cell_type": "markdown",
   "metadata": {},
   "source": [
    "#### PM25"
   ]
  },
  {
   "cell_type": "code",
   "execution_count": null,
   "metadata": {},
   "outputs": [],
   "source": [
    "df_lyon_bc_pm25 = df_lyon_bc[df_lyon_bc['Specie'] == 'pm25']\n",
    "df_lyon_bc_pm25 = df_lyon_bc_pm25.reset_index()\n",
    "df_lyon_bc_pm25 #dataframe for the city of Lyon before Covid with regards to the pm25 level."
   ]
  },
  {
   "cell_type": "code",
   "execution_count": null,
   "metadata": {},
   "outputs": [],
   "source": [
    "df_lyon_dc_pm25 = df_lyon_dc[df_lyon_dc['Specie'] == 'pm25']\n",
    "df_lyon_dc_pm25 = df_lyon_dc_pm25.reset_index()\n",
    "df_lyon_dc_pm25 #dataframe for the city of Lyon during Covid with regards to the pm25 level."
   ]
  },
  {
   "cell_type": "code",
   "execution_count": null,
   "metadata": {},
   "outputs": [],
   "source": [
    "#Final graph showing the evolution of the min level of pm25 before Covid.\n",
    "plt.figure(figsize=(30,8))\n",
    "plt.plot(df_lyon_bc_pm25['min'], color = 'purple')\n",
    "plt.xticks(rotation='vertical')\n",
    "plt.title('Evolution of the min pm25 level for the city of Lyon before Covid')\n",
    "plt.xlabel('Days starting from July until December 2019')\n",
    "plt.ylabel('pm25 min level')\n",
    "plt.show()\n",
    "\n",
    "#Final graph showing the evolution of the min level of pm25 during Covid.\n",
    "plt.figure(figsize= (30,8))\n",
    "plt.plot(df_lyon_dc_pm25['min'],color = 'purple')\n",
    "plt.xticks(rotation='vertical')\n",
    "plt.title('Evolution of the min pm25 level for the city of Lyon during Covid')\n",
    "plt.xlabel('Days starting from January 2020 until July 2021')\n",
    "plt.ylabel('pm25 min level')\n",
    "plt.show()\n",
    "\n",
    "#Final graph showing the evolution of the max level of pm25 before Covid.\n",
    "plt.figure(figsize=(30,8))\n",
    "plt.plot(df_lyon_bc_pm25['max'], color = 'purple')\n",
    "plt.xticks(rotation='vertical')\n",
    "plt.title('Evolution of the max pm25 level for the city of Lyon before Covid')\n",
    "plt.xlabel('Days starting from July until December 2019')\n",
    "plt.ylabel('pm25 max level')\n",
    "plt.show()\n",
    "\n",
    "#Final graph showing the evolution of the max level of pm25 during Covid.\n",
    "plt.figure(figsize= (30,8))\n",
    "plt.plot(df_lyon_dc_pm25['max'],color = 'purple')\n",
    "plt.xticks(rotation='vertical')\n",
    "plt.title('Evolution of the max pm25 level for the city of Lyon during Covid')\n",
    "plt.xlabel('Days starting from January 2020 until July 2021')\n",
    "plt.ylabel('pm25 max level')\n",
    "plt.show()\n",
    "\n",
    "#Final graph showing the evolution of the variance's level of pm25 before Covid.\n",
    "plt.figure(figsize=(30,8))\n",
    "plt.plot(df_lyon_bc_pm25['variance'], color = 'purple')\n",
    "plt.xticks(rotation='vertical')\n",
    "plt.title('Evolution of the pm25 level\\'s variance for the city of Lyon before Covid')\n",
    "plt.xlabel('Days starting from July until December 2019')\n",
    "plt.ylabel('pm25 variance level')\n",
    "plt.show()\n",
    "\n",
    "#Final graph showing the evolution of the variance's level of pm25 during Covid.\n",
    "plt.figure(figsize= (30,8))\n",
    "plt.plot(df_lyon_dc_pm25['variance'],color = 'purple')\n",
    "plt.xticks(rotation='vertical')\n",
    "plt.title('Evolution of the max pm25 level\\'s variance for the city of Lyon during Covid')\n",
    "plt.xlabel('Days starting from January 2020 until July 2021')\n",
    "plt.ylabel('pm25 variance level')\n",
    "plt.show()"
   ]
  },
  {
   "cell_type": "markdown",
   "metadata": {},
   "source": [
    "#### No2"
   ]
  },
  {
   "cell_type": "code",
   "execution_count": null,
   "metadata": {},
   "outputs": [],
   "source": [
    "df_lyon_bc_no2 = df_lyon_bc[df_lyon_bc['Specie'] == 'no2']\n",
    "df_lyon_bc_no2 = df_lyon_bc_no2.reset_index()\n",
    "df_lyon_bc_no2 #dataframe for the city of Lyon before Covid with regards to the no2 level."
   ]
  },
  {
   "cell_type": "code",
   "execution_count": null,
   "metadata": {},
   "outputs": [],
   "source": [
    "df_lyon_dc_no2 = df_lyon_dc[df_lyon_dc['Specie'] == 'no2']\n",
    "df_lyon_dc_no2 = df_lyon_dc_no2.reset_index()\n",
    "df_lyon_dc_no2 #dataframe for the city of Lyon during Covid with regards to the no2 level."
   ]
  },
  {
   "cell_type": "code",
   "execution_count": null,
   "metadata": {},
   "outputs": [],
   "source": [
    "#Final graph showing the evolution of the min level of no2 before Covid.\n",
    "plt.figure(figsize=(30,8))\n",
    "plt.plot(df_lyon_bc_no2['min'], color = 'orange')\n",
    "plt.xticks(rotation='vertical')\n",
    "plt.title('Evolution of the min no2 level for the city of Lyon before Covid')\n",
    "plt.xlabel('Days starting from July until December 2019')\n",
    "plt.ylabel('no2 min level')\n",
    "plt.show()\n",
    "\n",
    "#Final graph showing the evolution of the min level of no2 during Covid.\n",
    "plt.figure(figsize= (30,8))\n",
    "plt.plot(df_lyon_dc_no2['min'],color = 'orange')\n",
    "plt.xticks(rotation='vertical')\n",
    "plt.title('Evolution of the min no2 level for the city of Lyon during Covid')\n",
    "plt.xlabel('Days starting from January 2020 until July 2021')\n",
    "plt.ylabel('no2 min level')\n",
    "plt.show()\n",
    "\n",
    "#Final graph showing the evolution of the max level of no2 before Covid.\n",
    "plt.figure(figsize=(30,8))\n",
    "plt.plot(df_lyon_bc_no2['max'], color = 'orange')\n",
    "plt.xticks(rotation='vertical')\n",
    "plt.title('Evolution of the max no2 level for the city of Lyon before Covid')\n",
    "plt.xlabel('Days starting from July until December 2019')\n",
    "plt.ylabel('no2 max level')\n",
    "plt.show()\n",
    "\n",
    "#Final graph showing the evolution of the max level of no2 during Covid.\n",
    "plt.figure(figsize= (30,8))\n",
    "plt.plot(df_lyon_dc_no2['max'],color = 'orange')\n",
    "plt.xticks(rotation='vertical')\n",
    "plt.title('Evolution of the max no2 level for the city of Lyon during Covid')\n",
    "plt.xlabel('Days starting from January 2020 until July 2021')\n",
    "plt.ylabel('no2 max level')\n",
    "plt.show()\n",
    "\n",
    "#Final graph showing the evolution of the variance level of no2 before Covid.\n",
    "plt.figure(figsize=(30,8))\n",
    "plt.plot(df_lyon_bc_no2['variance'], color = 'orange')\n",
    "plt.xticks(rotation='vertical')\n",
    "plt.title('Evolution of the no2 level\\'s variance for the city of Lyon before Covid')\n",
    "plt.xlabel('Days starting from July until December 2019')\n",
    "plt.ylabel('no2 variance level')\n",
    "plt.show()\n",
    "\n",
    "#Final graph showing the evolution of the variance level of no2 during Covid.\n",
    "plt.figure(figsize= (30,8))\n",
    "plt.plot(df_lyon_dc_no2['variance'],color = 'orange')\n",
    "plt.xticks(rotation='vertical')\n",
    "plt.title('Evolution of the no2 level\\'s variance for the city of Lyon during Covid')\n",
    "plt.xlabel('Days starting from January 2020 until July 2021')\n",
    "plt.ylabel('no2 variance level')\n",
    "plt.show()"
   ]
  },
  {
   "cell_type": "markdown",
   "metadata": {},
   "source": [
    "#### Temperature"
   ]
  },
  {
   "cell_type": "code",
   "execution_count": null,
   "metadata": {},
   "outputs": [],
   "source": [
    "df_lyon_bc_temp = df_lyon_bc[df_lyon_bc['Specie'] == 'temperature']\n",
    "df_lyon_bc_temp = df_lyon_bc_temp.reset_index()\n",
    "df_lyon_bc_temp #dataframe for the city of Lyon before Covid with regards to the temperature level."
   ]
  },
  {
   "cell_type": "code",
   "execution_count": null,
   "metadata": {},
   "outputs": [],
   "source": [
    "df_lyon_dc_temp = df_lyon_dc[df_lyon_dc['Specie'] == 'temperature']\n",
    "df_lyon_dc_temp = df_lyon_dc_temp.reset_index()\n",
    "df_lyon_dc_temp #dataframe for the city of Lyon during Covid with regards to the temperature level."
   ]
  },
  {
   "cell_type": "code",
   "execution_count": null,
   "metadata": {},
   "outputs": [],
   "source": [
    "#Final graph showing the evolution of the min level of the temperature before Covid.\n",
    "plt.figure(figsize=(30,8))\n",
    "plt.plot(df_lyon_bc_temp['min'], color = 'grey')\n",
    "plt.xticks(rotation='vertical')\n",
    "plt.title('Evolution of the min temperature level for the city of Lyon before Covid')\n",
    "plt.xlabel('Days starting from July until December 2019')\n",
    "plt.ylabel('Temperature min level')\n",
    "plt.show()\n",
    "\n",
    "#Final graph showing the evolution of the min level of the temperature during Covid.\n",
    "plt.figure(figsize= (30,8))\n",
    "plt.plot(df_lyon_dc_temp['min'],color = 'grey')\n",
    "plt.xticks(rotation='vertical')\n",
    "plt.title('Evolution of the min temperature level for the city of Lyon during Covid')\n",
    "plt.xlabel('Days starting from January 2020 until July 2021')\n",
    "plt.ylabel('Temperature min level')\n",
    "plt.show()\n",
    "\n",
    "#Final graph showing the evolution of the max level of the temperature before Covid.\n",
    "plt.figure(figsize=(30,8))\n",
    "plt.plot(df_lyon_bc_temp['max'], color = 'grey')\n",
    "plt.xticks(rotation='vertical')\n",
    "plt.title('Evolution of the max temperature level for the city of Lyon before Covid')\n",
    "plt.xlabel('Days starting from July until December 2019')\n",
    "plt.ylabel('Temperature max level')\n",
    "plt.show()\n",
    "\n",
    "#Final graph showing the evolution of the max level of the temperature during Covid.\n",
    "plt.figure(figsize= (30,8))\n",
    "plt.plot(df_lyon_dc_temp['max'],color = 'grey')\n",
    "plt.xticks(rotation='vertical')\n",
    "plt.title('Evolution of the max temperature level for the city of Lyon during Covid')\n",
    "plt.xlabel('Days starting from January 2020 until July 2021')\n",
    "plt.ylabel('Temperature max level')\n",
    "plt.show()\n",
    "\n",
    "\n",
    "#Final graph showing the evolution of the variance level of the temperature before Covid.\n",
    "plt.figure(figsize=(30,8))\n",
    "plt.plot(df_lyon_bc_temp['variance'], color = 'grey')\n",
    "plt.xticks(rotation='vertical')\n",
    "plt.title('Evolution of the temperature level\\'s variance for the city of Lyon before Covid')\n",
    "plt.xlabel('Days starting from July until December 2019')\n",
    "plt.ylabel('Temperature variance level')\n",
    "plt.show()\n",
    "\n",
    "#Final graph showing the evolution of the variance level of the temperature during Covid.\n",
    "plt.figure(figsize= (30,8))\n",
    "plt.plot(df_lyon_dc_temp['variance'],color = 'grey')\n",
    "plt.xticks(rotation='vertical')\n",
    "plt.title('Evolution of the temperature level\\'s variance for the city of Lyon during Covid')\n",
    "plt.xlabel('Days starting from January 2020 until July 2021')\n",
    "plt.ylabel('Temperature variance level')\n",
    "plt.show()"
   ]
  },
  {
   "cell_type": "markdown",
   "metadata": {},
   "source": [
    "#### Humidity"
   ]
  },
  {
   "cell_type": "code",
   "execution_count": null,
   "metadata": {},
   "outputs": [],
   "source": [
    "df_lyon_bc_hum = df_lyon_bc[df_lyon_bc['Specie'] == 'humidity']\n",
    "df_lyon_bc_hum = df_lyon_bc_hum.reset_index()\n",
    "df_lyon_bc_hum #dataframe for the city of Lyon before Covid with regards to the humidity level."
   ]
  },
  {
   "cell_type": "code",
   "execution_count": null,
   "metadata": {},
   "outputs": [],
   "source": [
    "df_lyon_dc_hum = df_lyon_dc[df_lyon_dc['Specie'] == 'humidity']\n",
    "df_lyon_dc_hum = df_lyon_dc_hum.reset_index()\n",
    "df_lyon_dc_hum #dataframe for the city of Lyon during Covid with regards to the humidity level."
   ]
  },
  {
   "cell_type": "code",
   "execution_count": null,
   "metadata": {},
   "outputs": [],
   "source": [
    "#Final graph showing the evolution of the min level of the humidity before Covid.\n",
    "plt.figure(figsize=(30,8))\n",
    "plt.plot(df_lyon_bc_hum['min'], color = 'black')\n",
    "plt.xticks(rotation='vertical')\n",
    "plt.title('Evolution of the min humidity level for the city of Lyon before Covid')\n",
    "plt.xlabel('Days starting from July until December 2019')\n",
    "plt.ylabel('Humidity min level')\n",
    "plt.show()\n",
    "\n",
    "#Final graph showing the evolution of the min level of the humidity during Covid.\n",
    "plt.figure(figsize= (30,8))\n",
    "plt.plot(df_lyon_dc_hum['min'],color = 'black')\n",
    "plt.xticks(rotation='vertical')\n",
    "plt.title('Evolution of the min humidity level for the city of Lyon during Covid')\n",
    "plt.xlabel('Days starting from January 2020 until July 2021')\n",
    "plt.ylabel('Humidity min level')\n",
    "plt.show()\n",
    "\n",
    "#Final graph showing the evolution of the max level of the humidity before Covid.\n",
    "plt.figure(figsize=(30,8))\n",
    "plt.plot(df_lyon_bc_hum['max'], color = 'black')\n",
    "plt.xticks(rotation='vertical')\n",
    "plt.title('Evolution of the max humidity level for the city of Lyon before Covid')\n",
    "plt.xlabel('Days starting from July until December 2019')\n",
    "plt.ylabel('Humidity max level')\n",
    "plt.show()\n",
    "\n",
    "#Final graph showing the evolution of the max level of the humidity during Covid.\n",
    "plt.figure(figsize= (30,8))\n",
    "plt.plot(df_lyon_dc_hum['max'],color = 'black')\n",
    "plt.xticks(rotation='vertical')\n",
    "plt.title('Evolution of the max humidity level for the city of Lyon during Covid')\n",
    "plt.xlabel('Days starting from January 2020 until July 2021')\n",
    "plt.ylabel('Humidity max level')\n",
    "plt.show()\n",
    "\n",
    "#Final graph showing the evolution of the variance level of the humidity before Covid.\n",
    "plt.figure(figsize=(30,8))\n",
    "plt.plot(df_lyon_bc_hum['variance'], color = 'black')\n",
    "plt.xticks(rotation='vertical')\n",
    "plt.title('Evolution of the humidity level\\'s variance for the city of Lyon before Covid')\n",
    "plt.xlabel('Days starting from July until December 2019')\n",
    "plt.ylabel('Humidity variance level')\n",
    "plt.show()\n",
    "\n",
    "#Final graph showing the evolution of the variance level of the humidity during Covid.\n",
    "plt.figure(figsize= (30,8))\n",
    "plt.plot(df_lyon_dc_hum['variance'],color = 'black')\n",
    "plt.xticks(rotation='vertical')\n",
    "plt.title('Evolution of the humidity level\\'s variance for the city of Lyon during Covid')\n",
    "plt.xlabel('Days starting from January 2020 until July 2021')\n",
    "plt.ylabel('Humidity variance level')\n",
    "plt.show()"
   ]
  },
  {
   "cell_type": "markdown",
   "metadata": {},
   "source": [
    "#### Dew"
   ]
  },
  {
   "cell_type": "code",
   "execution_count": null,
   "metadata": {},
   "outputs": [],
   "source": [
    "df_lyon_bc_dew = df_lyon_bc[df_lyon_bc['Specie'] == 'dew']\n",
    "df_lyon_bc_dew = df_lyon_bc_dew.reset_index()\n",
    "df_lyon_bc_dew #dataframe for the city of Lyon before Covid with regards to the dew level."
   ]
  },
  {
   "cell_type": "code",
   "execution_count": null,
   "metadata": {},
   "outputs": [],
   "source": [
    "df_lyon_dc_dew = df_lyon_dc[df_lyon_dc['Specie'] == 'dew']\n",
    "df_lyon_dc_dew = df_lyon_dc_dew.reset_index()\n",
    "df_lyon_dc_dew #dataframe for the city of Lyon during Covid with regards to the dew level."
   ]
  },
  {
   "cell_type": "code",
   "execution_count": null,
   "metadata": {},
   "outputs": [],
   "source": [
    "#Final graph showing the evolution of the min level of the Dew before Covid.\n",
    "plt.figure(figsize=(30,8))\n",
    "plt.plot(df_lyon_bc_dew['min'], color = 'brown')\n",
    "plt.xticks(rotation='vertical')\n",
    "plt.title('Evolution of the min Dew level for the city of Lyon before Covid')\n",
    "plt.xlabel('Days starting from July until December 2019')\n",
    "plt.ylabel('Dew min level')\n",
    "plt.show()\n",
    "\n",
    "#Final graph showing the evolution of the min level of the Dew during Covid.\n",
    "plt.figure(figsize= (30,8))\n",
    "plt.plot(df_lyon_dc_dew['min'],color = 'brown')\n",
    "plt.xticks(rotation='vertical')\n",
    "plt.title('Evolution of the min Dew level for the city of Lyon during Covid')\n",
    "plt.xlabel('Days starting from January 2020 until July 2021')\n",
    "plt.ylabel('Dew min level')\n",
    "plt.show()\n",
    "\n",
    "#Final graph showing the evolution of the max level of the Dew before Covid.\n",
    "plt.figure(figsize=(30,8))\n",
    "plt.plot(df_lyon_bc_dew['max'], color = 'brown')\n",
    "plt.xticks(rotation='vertical')\n",
    "plt.title('Evolution of the max Dew level for the city of Lyon before Covid')\n",
    "plt.xlabel('Days starting from July until December 2019')\n",
    "plt.ylabel('Dew max level')\n",
    "plt.show()\n",
    "\n",
    "#Final graph showing the evolution of the max level of the Dew during Covid.\n",
    "plt.figure(figsize= (30,8))\n",
    "plt.plot(df_lyon_dc_dew['max'],color = 'brown')\n",
    "plt.xticks(rotation='vertical')\n",
    "plt.title('Evolution of the max Dew level for the city of Lyon during Covid')\n",
    "plt.xlabel('Days starting from January 2020 until July 2021')\n",
    "plt.ylabel('Dew max level')\n",
    "plt.show()\n",
    "\n",
    "#Final graph showing the evolution of the variance level of the Dew before Covid.\n",
    "plt.figure(figsize=(30,8))\n",
    "plt.plot(df_lyon_bc_dew['variance'], color = 'brown')\n",
    "plt.xticks(rotation='vertical')\n",
    "plt.title('Evolution of the dew level\\'s for the city of Lyon before Covid')\n",
    "plt.xlabel('Days starting from July until December 2019')\n",
    "plt.ylabel('Dew variance level')\n",
    "plt.show()\n",
    "\n",
    "#Final graph showing the evolution of the variance level of the Dew during Covid.\n",
    "plt.figure(figsize= (30,8))\n",
    "plt.plot(df_lyon_dc_dew['variance'],color = 'brown')\n",
    "plt.xticks(rotation='vertical')\n",
    "plt.title('Evolution of the Dew level\\'s for the city of Lyon during Covid')\n",
    "plt.xlabel('Days starting from January 2020 until July 2021')\n",
    "plt.ylabel('Dew variance level')\n",
    "plt.show()"
   ]
  },
  {
   "cell_type": "markdown",
   "metadata": {},
   "source": [
    "#### Pressure"
   ]
  },
  {
   "cell_type": "code",
   "execution_count": null,
   "metadata": {},
   "outputs": [],
   "source": [
    "df_lyon_bc_ps = df_lyon_bc[df_lyon_bc['Specie'] == 'pressure']\n",
    "df_lyon_bc_ps = df_lyon_bc_ps.reset_index()\n",
    "df_lyon_bc_ps #dataframe for the city of Lyon before Covid with regards to the pressure level."
   ]
  },
  {
   "cell_type": "code",
   "execution_count": null,
   "metadata": {},
   "outputs": [],
   "source": [
    "df_lyon_dc_ps = df_lyon_dc[df_lyon_dc['Specie'] == 'pressure']\n",
    "df_lyon_dc_ps = df_lyon_dc_ps.reset_index()\n",
    "df_lyon_dc_ps #dataframe for the city of Lyon during Covid with regards to the pressure level."
   ]
  },
  {
   "cell_type": "code",
   "execution_count": null,
   "metadata": {},
   "outputs": [],
   "source": [
    "#Final graph showing the evolution of the min level of the pressure before Covid.\n",
    "plt.figure(figsize=(30,8))\n",
    "plt.plot(df_lyon_bc_ps['min'], color = 'pink')\n",
    "plt.xticks(rotation='vertical')\n",
    "plt.title('Evolution of the min pressure level for the city of Lyon before Covid')\n",
    "plt.xlabel('Days starting from July until December 2019')\n",
    "plt.ylabel('Pressure min level')\n",
    "plt.show()\n",
    "\n",
    "#Final graph showing the evolution of the min level of the pressure during Covid.\n",
    "plt.figure(figsize= (30,8))\n",
    "plt.plot(df_lyon_dc_ps['min'],color = 'pink')\n",
    "plt.xticks(rotation='vertical')\n",
    "plt.title('Evolution of the min pressure level for the city of Lyon during Covid')\n",
    "plt.xlabel('Days starting from January 2020 until July 2021')\n",
    "plt.ylabel('Pressure min level')\n",
    "plt.show()\n",
    "\n",
    "#Final graph showing the evolution of the max level of the pressure before Covid.\n",
    "plt.figure(figsize=(30,8))\n",
    "plt.plot(df_lyon_bc_ps['max'], color = 'pink')\n",
    "plt.xticks(rotation='vertical')\n",
    "plt.title('Evolution of the max pressure level for the city of Lyon before Covid')\n",
    "plt.xlabel('Days starting from July until December 2019')\n",
    "plt.ylabel('Pressure max level')\n",
    "plt.show()\n",
    "\n",
    "#Final graph showing the evolution of the max level of the pressure during Covid.\n",
    "plt.figure(figsize= (30,8))\n",
    "plt.plot(df_lyon_dc_ps['max'],color = 'pink')\n",
    "plt.xticks(rotation='vertical')\n",
    "plt.title('Evolution of the max pressure level for the city of Lyon during Covid')\n",
    "plt.xlabel('Days starting from January 2020 until July 2021')\n",
    "plt.ylabel('Pressure max level')\n",
    "plt.show()\n",
    "\n",
    "#Final graph showing the evolution of the variance level of the pressure before Covid.\n",
    "plt.figure(figsize=(30,8))\n",
    "plt.plot(df_lyon_bc_ps['variance'], color = 'pink')\n",
    "plt.xticks(rotation='vertical')\n",
    "plt.title('Evolution of the pressure level\\'s for the city of Lyon before Covid')\n",
    "plt.xlabel('Days starting from July until December 2019')\n",
    "plt.ylabel('Pressure variance level')\n",
    "plt.show()\n",
    "\n",
    "#Final graph showing the evolution of the variance level of the pressure during Covid.\n",
    "plt.figure(figsize= (30,8))\n",
    "plt.plot(df_lyon_dc_ps['variance'],color = 'pink')\n",
    "plt.xticks(rotation='vertical')\n",
    "plt.title('Evolution of the pressure level\\'s for the city of lyon during Covid')\n",
    "plt.xlabel('Days starting from January 2020 until July 2021')\n",
    "plt.ylabel('Pressure variance level')\n",
    "plt.show()"
   ]
  },
  {
   "cell_type": "markdown",
   "metadata": {},
   "source": [
    "## Relationship between different species affecting air quality."
   ]
  },
  {
   "cell_type": "markdown",
   "metadata": {},
   "source": [
    "### Relationship between the maximum values of the different Specie."
   ]
  },
  {
   "cell_type": "code",
   "execution_count": null,
   "metadata": {},
   "outputs": [],
   "source": [
    "#No2 Max\n",
    "cond_=(df_lyon['Specie']==\"no2\")\n",
    "da2 = df_lyon.loc[cond_,:]\n",
    "no2_max = pd.DataFrame(da2[['Date','max']])\n",
    "no2_max.head()"
   ]
  },
  {
   "cell_type": "code",
   "execution_count": null,
   "metadata": {},
   "outputs": [],
   "source": [
    "df_cd_l = pd.merge(no2_max, co_max, how='inner', left_on = 'Date', right_on = 'Date')\n",
    "df_cd_l = df_cd.rename(columns={'max_x': 'no2_max', 'max_y': 'co_max'})\n",
    "df_cd_l.head()"
   ]
  },
  {
   "cell_type": "code",
   "execution_count": null,
   "metadata": {},
   "outputs": [],
   "source": [
    "df_cd_l.pop('co_max')\n",
    "df_cd_l.head()"
   ]
  },
  {
   "cell_type": "code",
   "execution_count": null,
   "metadata": {},
   "outputs": [],
   "source": [
    "#o3 max\n",
    "cond_2 =(df_lyon['Specie']== 'o3')\n",
    "da4 = df_lyon.loc[cond_2,:]\n",
    "o3_max = pd.DataFrame(da4[['Date','max']])\n",
    "o3_max.head()"
   ]
  },
  {
   "cell_type": "code",
   "execution_count": null,
   "metadata": {},
   "outputs": [],
   "source": [
    "df_cd1_l = pd.merge(df_cd_l,o3_max, how = 'inner', left_on = 'Date', right_on = 'Date')\n",
    "df_cd1_l = df_cd1_l.rename(columns={'max': 'o3_max'})\n",
    "df_cd1_l.head()"
   ]
  },
  {
   "cell_type": "code",
   "execution_count": null,
   "metadata": {},
   "outputs": [],
   "source": [
    "#pressure max \n",
    "cond_3 =(df_lyon['Specie']==\"pressure\")\n",
    "da5 = df_lyon.loc[cond_3,:]\n",
    "pressure_max = pd.DataFrame(da5[['Date','max']])\n",
    "pressure_max.head()"
   ]
  },
  {
   "cell_type": "code",
   "execution_count": null,
   "metadata": {},
   "outputs": [],
   "source": [
    "df_cd2_l = pd.merge(df_cd1_l, pressure_max, how = 'inner', left_on = 'Date', right_on = 'Date')\n",
    "df_cd2_l = df_cd2_l.rename(columns= {'max': 'pressure_max'})\n",
    "df_cd2_l.head()"
   ]
  },
  {
   "cell_type": "code",
   "execution_count": null,
   "metadata": {},
   "outputs": [],
   "source": [
    "#humidity max\n",
    "cond_4 =(df_lyon['Specie']==\"humidity\")\n",
    "da6 = df_lyon.loc[cond_4,:]\n",
    "hu_max = pd.DataFrame(da6[['Date','max']])\n",
    "hu_max.head()"
   ]
  },
  {
   "cell_type": "code",
   "execution_count": null,
   "metadata": {},
   "outputs": [],
   "source": [
    "df_cd3_l = pd.merge(df_cd2_l, hu_max, how = 'inner', left_on = 'Date', right_on = 'Date')\n",
    "df_cd3_l = df_cd3_l.rename(columns={'max': 'humidity_max'})\n",
    "df_cd3_l.head()"
   ]
  },
  {
   "cell_type": "code",
   "execution_count": null,
   "metadata": {},
   "outputs": [],
   "source": [
    "#pm25 max \n",
    "cond_5 =(df_lyon['Specie']==\"pm25\")\n",
    "da7 = df_lyon.loc[cond_5,:]\n",
    "pm25_max = pd.DataFrame(da7[['Date','max']])\n",
    "pm25_max.head()"
   ]
  },
  {
   "cell_type": "code",
   "execution_count": null,
   "metadata": {},
   "outputs": [],
   "source": [
    "df_cd4_l = pd.merge(df_cd3_l, pm25_max, how = 'inner', left_on = 'Date', right_on = 'Date')\n",
    "df_cd4_l = df_cd4_l.rename(columns={'max': 'pm25_max'})\n",
    "df_cd4_l.head()"
   ]
  },
  {
   "cell_type": "code",
   "execution_count": null,
   "metadata": {},
   "outputs": [],
   "source": [
    "#Dew max\n",
    "cond_6 =(df_lyon['Specie'] == \"dew\")\n",
    "da8 = df_lyon.loc[cond_6,:]\n",
    "dew_max = pd.DataFrame(da8[['Date','max']])\n",
    "dew_max.head()"
   ]
  },
  {
   "cell_type": "code",
   "execution_count": null,
   "metadata": {},
   "outputs": [],
   "source": [
    "df_cd5_l = pd.merge(df_cd4_l, dew_max, how = 'inner', left_on = 'Date', right_on = 'Date')\n",
    "df_cd5_l = df_cd5_l.rename(columns={'max': 'dew_max'})\n",
    "df_cd5_l.head()"
   ]
  },
  {
   "cell_type": "code",
   "execution_count": null,
   "metadata": {},
   "outputs": [],
   "source": [
    "#Temperature max\n",
    "cond_7 =(df_lyon['Specie']==\"temperature\")\n",
    "da9 = df_lyon.loc[cond_7,:]\n",
    "tp_max = pd.DataFrame(da9[['Date','max']])\n",
    "tp_max.head()"
   ]
  },
  {
   "cell_type": "code",
   "execution_count": null,
   "metadata": {},
   "outputs": [],
   "source": [
    "df_cd6_l = pd.merge(df_cd5_l,tp_max, how = 'inner', left_on = 'Date', right_on = 'Date')\n",
    "df_cd6_l = df_cd6_l.rename(columns={'max': 'temperature_max'})\n",
    "df_cd6_l.head()"
   ]
  },
  {
   "cell_type": "code",
   "execution_count": null,
   "metadata": {},
   "outputs": [],
   "source": [
    "#Wind-Speed\n",
    "cond_8 =(df_lyon['Specie']==\"wind speed\")\n",
    "da10 = df_lyon.loc[cond_8,:]\n",
    "ws_max = pd.DataFrame(da10[['Date','max']])\n",
    "ws_max.head()"
   ]
  },
  {
   "cell_type": "code",
   "execution_count": null,
   "metadata": {},
   "outputs": [],
   "source": [
    "df_cd7_l = pd.merge(df_cd6_l, ws_max, how = 'inner', left_on = 'Date', right_on = 'Date')\n",
    "df_cd7_l = df_cd7_l.rename(columns={'max': 'wind_speed_max'})\n",
    "df_cd7_l.head()"
   ]
  },
  {
   "cell_type": "code",
   "execution_count": null,
   "metadata": {},
   "outputs": [],
   "source": [
    "#Wind-gust\n",
    "cond_9 =(df_lyon['Specie']== \"wind gust\")\n",
    "da11 = df_lyon.loc[cond_9,:]\n",
    "wg_max = pd.DataFrame(da11[['Date','max']])\n",
    "wg_max.head()"
   ]
  },
  {
   "cell_type": "code",
   "execution_count": null,
   "metadata": {},
   "outputs": [],
   "source": [
    "df_cd8_l = pd.merge(df_cd7_l, wg_max, how = 'inner', left_on = 'Date', right_on = 'Date')\n",
    "df_cd8_l = df_cd8_l.rename(columns={'max': 'wind_gust_max'})\n",
    "df_specie_max_l = df_cd8_l #Final DataFrame\n",
    "df_specie_max_l.head()"
   ]
  },
  {
   "cell_type": "code",
   "execution_count": null,
   "metadata": {},
   "outputs": [],
   "source": [
    "#correlation matrix\n",
    "correlation_matrix_l = df_specie_max_l.corr()\n",
    "correlation_matrix_l"
   ]
  },
  {
   "cell_type": "code",
   "execution_count": null,
   "metadata": {},
   "outputs": [],
   "source": [
    "#Heatmap\n",
    "sns.heatmap(correlation_matrix_l, annot = True)\n",
    "plt.title(\"Correlation Matrix between the factors affecting air quality concerning their max value\")\n",
    "plt.xlabel(\"Factors affecting air quality\")\n",
    "plt.ylabel(\"Factors affecting air quality\")\n",
    "plt.show()"
   ]
  },
  {
   "cell_type": "markdown",
   "metadata": {},
   "source": [
    "### Relationship between the minimum values of the different Specie."
   ]
  },
  {
   "cell_type": "code",
   "execution_count": null,
   "metadata": {},
   "outputs": [],
   "source": [
    "#No2 Min\n",
    "co_ =(df_lyon['Specie']==\"no2\")\n",
    "dt1 = df_lyon.loc[co_,:]\n",
    "no2_min = pd.DataFrame(dt1[['Date','min']])\n",
    "no2_min.head()"
   ]
  },
  {
   "cell_type": "code",
   "execution_count": null,
   "metadata": {},
   "outputs": [],
   "source": [
    "df_mg_l = no2_min\n",
    "df_mg_l = df_mg_l.rename(columns={'min': 'no2_min'})\n",
    "df_mg_l.head()"
   ]
  },
  {
   "cell_type": "code",
   "execution_count": null,
   "metadata": {},
   "outputs": [],
   "source": [
    "#o3 max\n",
    "co_2 =(df_lyon['Specie']== 'o3')\n",
    "dt3 = df_lyon.loc[co_2,:]\n",
    "o3_min = pd.DataFrame(dt3[['Date','min']])\n",
    "o3_min.head()"
   ]
  },
  {
   "cell_type": "code",
   "execution_count": null,
   "metadata": {},
   "outputs": [],
   "source": [
    "df_mg1_l1 = pd.merge(df_mg_l,o3_min, how = 'inner', left_on = 'Date', right_on = 'Date')\n",
    "df_mg1_l1 = df_mg1_l1.rename(columns={'min': 'o3_min'})\n",
    "df_mg1_l1.head()"
   ]
  },
  {
   "cell_type": "code",
   "execution_count": null,
   "metadata": {},
   "outputs": [],
   "source": [
    "#pressure min \n",
    "co_3 =(df_lyon['Specie']==\"pressure\")\n",
    "dt4 = df_lyon.loc[co_3,:]\n",
    "pressure_min = pd.DataFrame(dt4[['Date','min']])\n",
    "pressure_min.head()"
   ]
  },
  {
   "cell_type": "code",
   "execution_count": null,
   "metadata": {},
   "outputs": [],
   "source": [
    "df_mg2_l = pd.merge(df_mg1_l1, pressure_min, how = 'inner', left_on = 'Date', right_on = 'Date')\n",
    "df_mg2_l = df_mg2_l.rename(columns={'min': 'pressure_min'})\n",
    "df_mg2_l.head()"
   ]
  },
  {
   "cell_type": "code",
   "execution_count": null,
   "metadata": {},
   "outputs": [],
   "source": [
    "#humidity min\n",
    "co_4 =(df_lyon['Specie']==\"humidity\")\n",
    "dt5 = df_lyon.loc[co_4,:]\n",
    "hu_min = pd.DataFrame(dt5[['Date','min']])\n",
    "hu_min.head()"
   ]
  },
  {
   "cell_type": "code",
   "execution_count": null,
   "metadata": {},
   "outputs": [],
   "source": [
    "df_mg3_l = pd.merge(df_mg2_l, hu_min, how = 'inner', left_on = 'Date', right_on = 'Date')\n",
    "df_mg3_l = df_mg3_l.rename(columns={'min': 'humidity_min'})\n",
    "df_mg3_l.head()"
   ]
  },
  {
   "cell_type": "code",
   "execution_count": null,
   "metadata": {},
   "outputs": [],
   "source": [
    "#pm25 min \n",
    "co_5 =(df_lyon['Specie']==\"pm25\")\n",
    "dt6 = df_lyon.loc[co_5,:]\n",
    "pm25_min = pd.DataFrame(dt6[['Date','min']])\n",
    "pm25_min.head()"
   ]
  },
  {
   "cell_type": "code",
   "execution_count": null,
   "metadata": {},
   "outputs": [],
   "source": [
    "df_mg4_l = pd.merge(df_mg3_l, pm25_min, how = 'inner', left_on = 'Date', right_on = 'Date')\n",
    "df_mg4_l = df_mg4_l.rename(columns={'min': 'pm25_min'})\n",
    "df_mg4_l.head()"
   ]
  },
  {
   "cell_type": "code",
   "execution_count": null,
   "metadata": {},
   "outputs": [],
   "source": [
    "#Dew min\n",
    "co_6 =(df_lyon['Specie'] == \"dew\")\n",
    "dt7 = df_lyon.loc[co_6,:]\n",
    "dew_min = pd.DataFrame(dt7[['Date','min']])\n",
    "dew_min.head()"
   ]
  },
  {
   "cell_type": "code",
   "execution_count": null,
   "metadata": {},
   "outputs": [],
   "source": [
    "df_mg5_l = pd.merge(df_mg4_l, dew_min, how = 'inner', left_on = 'Date', right_on = 'Date')\n",
    "df_mg5_l = df_mg5_l.rename(columns={'min': 'dew_min'})\n",
    "df_mg5_l.head()"
   ]
  },
  {
   "cell_type": "code",
   "execution_count": null,
   "metadata": {},
   "outputs": [],
   "source": [
    "#Temperature min\n",
    "co_7 =(df_lyon['Specie']==\"temperature\")\n",
    "dt8 = df_lyon.loc[co_7,:]\n",
    "tp_min = pd.DataFrame(dt8[['Date','min']])\n",
    "tp_min.head()"
   ]
  },
  {
   "cell_type": "code",
   "execution_count": null,
   "metadata": {},
   "outputs": [],
   "source": [
    "df_mg6_l = pd.merge(df_mg5_l,tp_min, how = 'inner', left_on = 'Date', right_on = 'Date')\n",
    "df_mg6_l = df_mg6_l.rename(columns={'min': 'temperature_min'})\n",
    "df_mg6_l.head()"
   ]
  },
  {
   "cell_type": "code",
   "execution_count": null,
   "metadata": {},
   "outputs": [],
   "source": [
    "#Wind-Speed min\n",
    "co_8 =(df_lyon['Specie']==\"wind speed\")\n",
    "dt9 = df_lyon.loc[co_8,:]\n",
    "ws_min = pd.DataFrame(dt9[['Date','min']])\n",
    "ws_min.head()"
   ]
  },
  {
   "cell_type": "code",
   "execution_count": null,
   "metadata": {},
   "outputs": [],
   "source": [
    "df_mg7_l = pd.merge(df_mg6_l, ws_min, how = 'inner', left_on = 'Date', right_on = 'Date')\n",
    "df_mg7_l = df_mg7_l.rename(columns={'min': 'wind_speed_min'})\n",
    "df_mg7_l.head()"
   ]
  },
  {
   "cell_type": "code",
   "execution_count": null,
   "metadata": {},
   "outputs": [],
   "source": [
    "#Wind-gust min\n",
    "co_9 =(df_lyon['Specie']== \"wind gust\")\n",
    "dt10 = df_lyon.loc[co_9,:]\n",
    "wg_min = pd.DataFrame(dt10[['Date','min']])\n",
    "wg_min.head()"
   ]
  },
  {
   "cell_type": "code",
   "execution_count": null,
   "metadata": {},
   "outputs": [],
   "source": [
    "df_mg8_l = pd.merge(df_mg7_l, wg_min, how = 'inner', left_on = 'Date', right_on = 'Date')\n",
    "df_mg8_l = df_mg8_l.rename(columns={'min': 'wind_gust_min'})\n",
    "df_specie_min_l = df_mg8_l #Final DataFrame\n",
    "df_specie_min_l.head()"
   ]
  },
  {
   "cell_type": "code",
   "execution_count": null,
   "metadata": {},
   "outputs": [],
   "source": [
    "#correlation matrix\n",
    "correlation_matrix1_l = df_specie_min_l.corr()\n",
    "correlation_matrix1_l"
   ]
  },
  {
   "cell_type": "code",
   "execution_count": null,
   "metadata": {},
   "outputs": [],
   "source": [
    "#Heatmap\n",
    "sns.heatmap(correlation_matrix1_l, annot = True)\n",
    "plt.title(\"Correlation Matrix between the factors affecting air quality concerning their min value\")\n",
    "plt.xlabel(\"Factors affecting air quality\")\n",
    "plt.ylabel(\"Factors affecting air quality\")\n",
    "plt.show()"
   ]
  },
  {
   "cell_type": "markdown",
   "metadata": {},
   "source": [
    "## Plots between Species."
   ]
  },
  {
   "cell_type": "markdown",
   "metadata": {},
   "source": [
    "### Correlation between the maximum value of each specie before COVID."
   ]
  },
  {
   "cell_type": "code",
   "execution_count": null,
   "metadata": {},
   "outputs": [],
   "source": [
    "#pm10\n",
    "df_lyon_pm10_bc = df_lyon_bc[df_lyon_bc['Specie'] == 'pm10'].sort_values(by='Date', ascending = True)\n",
    "df_lyon_pm10_bc.head()"
   ]
  },
  {
   "cell_type": "code",
   "execution_count": null,
   "metadata": {},
   "outputs": [],
   "source": [
    "#o3\n",
    "df_lyon_o3_bc = df_lyon_bc[df_lyon_bc['Specie'] == 'o3'].sort_values(by='Date', ascending = True)\n",
    "df_lyon_o3_bc.head()"
   ]
  },
  {
   "cell_type": "code",
   "execution_count": null,
   "metadata": {},
   "outputs": [],
   "source": [
    "#no2\n",
    "df_lyon_no2_bc = df_lyon_bc[df_lyon_bc['Specie'] == 'no2'].sort_values(by='Date', ascending = True)\n",
    "df_lyon_no2_bc.head()"
   ]
  },
  {
   "cell_type": "code",
   "execution_count": null,
   "metadata": {},
   "outputs": [],
   "source": [
    "#pm25 over time \n",
    "df_lyon_pm25_bc = df_lyon_bc[df_lyon_bc['Specie'] == 'pm25'].sort_values(by='Date', ascending = True)\n",
    "df_lyon_pm25_bc.head()"
   ]
  },
  {
   "cell_type": "code",
   "execution_count": null,
   "metadata": {},
   "outputs": [],
   "source": [
    "#temperature\n",
    "df_lyon_temp_bc = df_lyon_bc[df_lyon_bc['Specie'] == 'temperature'].sort_values(by='Date', ascending = True)\n",
    "df_lyon_temp_bc.head()"
   ]
  },
  {
   "cell_type": "code",
   "execution_count": null,
   "metadata": {},
   "outputs": [],
   "source": [
    "#humidity\n",
    "df_lyon_hum_bc = df_lyon_bc[df_lyon_bc['Specie'] == 'humidity'].sort_values(by='Date', ascending = True)\n",
    "df_lyon_hum_bc.head()"
   ]
  },
  {
   "cell_type": "code",
   "execution_count": null,
   "metadata": {},
   "outputs": [],
   "source": [
    "#wind_speed\n",
    "df_lyon_ws_bc = df_lyon_bc[df_lyon_bc['Specie'] == 'wind speed'].sort_values(by='Date', ascending = True)\n",
    "df_lyon_ws_bc.head()"
   ]
  },
  {
   "cell_type": "code",
   "execution_count": null,
   "metadata": {},
   "outputs": [],
   "source": [
    "#dew \n",
    "df_lyon_dew_bc = df_lyon_bc[df_lyon_bc['Specie'] == 'dew'].sort_values(by='Date', ascending = True)\n",
    "df_lyon_dew_bc.head()"
   ]
  },
  {
   "cell_type": "code",
   "execution_count": null,
   "metadata": {},
   "outputs": [],
   "source": [
    "#wind-gust\n",
    "df_lyon_wg_bc = df_lyon_bc[df_lyon_bc['Specie'] == 'wind gust'].sort_values(by='Date', ascending = True)\n",
    "df_lyon_wg_bc.head()"
   ]
  },
  {
   "cell_type": "markdown",
   "metadata": {},
   "source": [
    "### Correlation between the maximum value of each specie during COVID."
   ]
  },
  {
   "cell_type": "code",
   "execution_count": null,
   "metadata": {},
   "outputs": [],
   "source": [
    "#pm10\n",
    "df_lyon_pm10_dc = df_lyon_dc[df_lyon_dc['Specie'] == 'pm10'].sort_values(by='Date', ascending = True)\n",
    "df_lyon_pm10_dc.head()"
   ]
  },
  {
   "cell_type": "code",
   "execution_count": null,
   "metadata": {},
   "outputs": [],
   "source": [
    "#o3\n",
    "df_lyon_o3_dc = df_lyon_dc[df_lyon_dc['Specie'] == 'o3'].sort_values(by='Date', ascending = True)\n",
    "df_lyon_o3_dc.head()"
   ]
  },
  {
   "cell_type": "code",
   "execution_count": null,
   "metadata": {},
   "outputs": [],
   "source": [
    "#pm25\n",
    "df_lyon_pm25_dc = df_lyon_dc[df_lyon_dc['Specie'] == 'pm25'].sort_values(by='Date', ascending = True)\n",
    "df_lyon_pm25_dc.head()"
   ]
  },
  {
   "cell_type": "code",
   "execution_count": null,
   "metadata": {},
   "outputs": [],
   "source": [
    "#no2\n",
    "df_lyon_no2_dc = df_lyon_dc[df_lyon_dc['Specie'] == 'no2'].sort_values(by='Date', ascending = True)\n",
    "df_lyon_no2_dc.head()"
   ]
  },
  {
   "cell_type": "code",
   "execution_count": null,
   "metadata": {},
   "outputs": [],
   "source": [
    "#wind gust\n",
    "df_lyon_wg_dc = df_lyon_dc[df_lyon_dc['Specie'] == 'wind gust'].sort_values(by='Date', ascending = True)\n",
    "df_lyon_wg_dc.head()"
   ]
  },
  {
   "cell_type": "code",
   "execution_count": null,
   "metadata": {},
   "outputs": [],
   "source": [
    "#wind speed \n",
    "df_lyon_ws_dc = df_lyon_dc[df_lyon_dc['Specie'] == 'wind speed'].sort_values(by='Date', ascending = True)\n",
    "df_lyon_ws_dc.head()"
   ]
  },
  {
   "cell_type": "code",
   "execution_count": null,
   "metadata": {},
   "outputs": [],
   "source": [
    "#dew\n",
    "df_lyon_dew_dc = df_lyon_dc[df_lyon_dc['Specie'] == 'dew'].sort_values(by='Date', ascending = True)\n",
    "df_lyon_dew_dc.head()"
   ]
  },
  {
   "cell_type": "code",
   "execution_count": null,
   "metadata": {},
   "outputs": [],
   "source": [
    "#pressure\n",
    "df_lyon_ps_dc = df_lyon_dc[df_lyon_dc['Specie'] == 'pressure'].sort_values(by='Date', ascending = True)\n",
    "df_lyon_ps_dc.head()"
   ]
  },
  {
   "cell_type": "code",
   "execution_count": null,
   "metadata": {},
   "outputs": [],
   "source": [
    "#humidity \n",
    "df_lyon_hum_dc = df_lyon_dc[df_lyon_dc['Specie'] == 'humidity'].sort_values(by='Date', ascending = True)\n",
    "df_lyon_hum_dc.head()"
   ]
  },
  {
   "cell_type": "code",
   "execution_count": null,
   "metadata": {},
   "outputs": [],
   "source": [
    "#temperature\n",
    "df_lyon_temp_dc = df_lyon_dc[df_lyon_dc['Specie'] == 'temperature'].sort_values(by='Date', ascending = True)\n",
    "df_lyon_temp_dc.head()"
   ]
  },
  {
   "cell_type": "markdown",
   "metadata": {},
   "source": [
    "### Correlation between the maximum value of each specie before and during COVID."
   ]
  },
  {
   "cell_type": "code",
   "execution_count": null,
   "metadata": {},
   "outputs": [],
   "source": [
    "#correlation with temperature\n",
    "fig = plt.figure(figsize=(250, 20))\n",
    "\n",
    "\n",
    "#correlation with pm25\n",
    "plt.subplot(1,2,1)\n",
    "plt.plot(df_lyon_pm25_bc['Date'], df_lyon_pm25_bc['max'], label = 'pm25 before covid')\n",
    "plt.xticks(rotation='vertical')\n",
    "\n",
    "\n",
    "#correlation with no2 \n",
    "plt.subplot(1,2,1)\n",
    "plt.plot(df_lyon_no2_bc['Date'], df_lyon_no2_bc['max'], label = 'no2 before covid')\n",
    "plt.xticks(rotation='vertical')\n",
    "\n",
    "#correlation with pm10\n",
    "plt.subplot(1,2,1)\n",
    "plt.plot(df_lyon_pm10_bc['Date'], df_lyon_pm10_bc['max'], label = 'pm10 before covid')\n",
    "plt.xticks(rotation='vertical')\n",
    "\n",
    "#correlation with pm25\n",
    "plt.subplot(1,2,1)\n",
    "plt.plot(df_lyon_pm25_dc['Date'], df_lyon_pm25_dc['max'], label = 'pm25 during covid')\n",
    "plt.xticks(rotation='vertical')\n",
    "\n",
    "\n",
    "#correlation with no2 \n",
    "plt.subplot(1,2,1)\n",
    "plt.plot(df_lyon_no2_dc['Date'], df_lyon_no2_dc['max'], label = 'no2 during covid')\n",
    "plt.xticks(rotation='vertical')\n",
    "\n",
    "#correlation with pm10\n",
    "plt.subplot(1,2,1)\n",
    "plt.plot(df_lyon_pm10_dc['Date'], df_lyon_pm10_dc['max'], label = 'pm10 during covid')\n",
    "plt.xticks(rotation='vertical')\n",
    "\n",
    "\n",
    "\n",
    "plt.xlabel('Period before and during COVID')\n",
    "plt.ylabel('Maximum level')\n",
    "plt.legend(loc=2, prop={'size': 8})\n",
    "plt.title('Correlation between the max values of all the species before and during covid in Lyon')"
   ]
  },
  {
   "cell_type": "code",
   "execution_count": null,
   "metadata": {},
   "outputs": [],
   "source": [
    "#correlation with temperature\n",
    "fig = plt.figure(figsize=(250, 20))\n",
    "plt.subplot(1,2,1)\n",
    "plt.plot(df_lyon_temp_bc['Date'], df_lyon_temp_bc['max'], label = 'temperature before covid')\n",
    "plt.xticks(rotation='vertical')\n",
    "           \n",
    "\n",
    "#correlation with dew\n",
    "plt.subplot(1,2,1)\n",
    "plt.plot(df_lyon_dew_bc['Date'], df_lyon_dew_bc['max'], label = 'dew before covid')\n",
    "plt.xticks(rotation='vertical')\n",
    "\n",
    "#correlation with temp\n",
    "plt.subplot(1,2,1)\n",
    "plt.plot(df_lyon_temp_dc['Date'], df_lyon_temp_dc['max'], label = 'temperature during covid')\n",
    "plt.xticks(rotation='vertical')\n",
    "           \n",
    "\n",
    "#correlation with dew\n",
    "plt.subplot(1,2,1)\n",
    "plt.plot(df_lyon_dew_dc['Date'], df_lyon_dew_dc['max'], label = 'dew during covid')\n",
    "plt.xticks(rotation='vertical')\n",
    "\n",
    "\n",
    "plt.xlabel('Period before and during COVID')\n",
    "plt.ylabel('Maximum level')\n",
    "plt.legend(loc=2, prop={'size': 8})\n",
    "plt.title('Correlation between the max values of the species temperature and dew before and during covid in Lyon')"
   ]
  },
  {
   "cell_type": "code",
   "execution_count": null,
   "metadata": {},
   "outputs": [],
   "source": [
    "#correlation with temperature\n",
    "fig = plt.figure(figsize=(250, 20))\n",
    "\n",
    "\n",
    "#correlation with wind speed\n",
    "plt.subplot(1,2,1)\n",
    "plt.plot(df_lyon_ws_bc['Date'], df_lyon_ws_bc['max'], label = 'wind-speed before covid')\n",
    "plt.xticks(rotation='vertical')\n",
    "\n",
    "\n",
    "#correlation with wind-gust\n",
    "plt.subplot(1,2,1)\n",
    "plt.plot(df_lyon_wg_bc['Date'], df_lyon_wg_bc['max'], label = 'wind-gust before covid')\n",
    "plt.xticks(rotation='vertical')\n",
    "\n",
    "plt.subplot(1,2,1)\n",
    "plt.plot(df_lyon_ws_dc['Date'], df_lyon_ws_dc['max'], label = 'wind-speed during covid')\n",
    "plt.xticks(rotation='vertical')\n",
    "           \n",
    "\n",
    "#correlation with dew\n",
    "plt.subplot(1,2,1)\n",
    "plt.plot(df_lyon_wg_dc['Date'], df_lyon_wg_dc['max'], label = 'wind-gust during covid')\n",
    "plt.xticks(rotation='vertical')\n",
    "\n",
    "plt.xlabel('Period before and during COVID')\n",
    "plt.ylabel('Maximum level')\n",
    "plt.legend(loc=2, prop={'size': 8})\n",
    "plt.title('Correlation between the max values of the species wind-speed and wind-gust before and during covid in Lyon')"
   ]
  },
  {
   "cell_type": "markdown",
   "metadata": {},
   "source": [
    "### Correlation between the minimum value of each specie before and during COVID."
   ]
  },
  {
   "cell_type": "code",
   "execution_count": null,
   "metadata": {},
   "outputs": [],
   "source": [
    "#correlation with temperature\n",
    "fig = plt.figure(figsize=(250, 20))          \n",
    "\n",
    "#correlation with pm25\n",
    "plt.subplot(1,2,1)\n",
    "plt.plot(df_lyon_pm25_bc['Date'], df_lyon_pm25_bc['min'], label = 'pm25 before covid')\n",
    "plt.xticks(rotation='vertical')\n",
    "\n",
    "\n",
    "#correlation with no2 \n",
    "plt.subplot(1,2,1)\n",
    "plt.plot(df_lyon_no2_bc['Date'], df_lyon_no2_bc['min'], label = 'no2 before covid')\n",
    "plt.xticks(rotation='vertical')\n",
    "\n",
    "\n",
    "#correlation with pm10\n",
    "plt.subplot(1,2,1)\n",
    "plt.plot(df_lyon_pm10_bc['Date'], df_lyon_pm10_bc['min'], label = 'pm10 before covid')\n",
    "plt.xticks(rotation='vertical')\n",
    "\n",
    "\n",
    "#correlation with pm25\n",
    "plt.subplot(1,2,1)\n",
    "plt.plot(df_lyon_pm25_dc['Date'], df_lyon_pm25_dc['min'], label = 'pm25 during covid')\n",
    "plt.xticks(rotation='vertical')\n",
    "\n",
    "\n",
    "#correlation with no2 \n",
    "plt.subplot(1,2,1)\n",
    "plt.plot(df_lyon_no2_dc['Date'], df_lyon_no2_dc['min'], label = 'no2 during covid')\n",
    "plt.xticks(rotation='vertical')\n",
    "\n",
    "\n",
    "#correlation with pm10\n",
    "plt.subplot(1,2,1)\n",
    "plt.plot(df_lyon_pm10_dc['Date'], df_lyon_pm10_dc['min'], label = 'pm10 during covid')\n",
    "plt.xticks(rotation='vertical')\n",
    "\n",
    "plt.xlabel('Period before and during COVID')\n",
    "plt.ylabel('Minimum level')\n",
    "plt.legend(loc=2, prop={'size': 8})\n",
    "plt.title('Correlation between the min values of the species pm25, no2 and pm10 before and during covid in Lyon')"
   ]
  },
  {
   "cell_type": "code",
   "execution_count": null,
   "metadata": {},
   "outputs": [],
   "source": [
    "#correlation with temperature\n",
    "fig = plt.figure(figsize=(250, 20))\n",
    "plt.subplot(1,2,1)\n",
    "plt.plot(df_lyon_temp_bc['Date'], df_lyon_temp_bc['min'], label = 'temperature before covid')\n",
    "plt.xticks(rotation='vertical')\n",
    "\n",
    "#correlation with dew\n",
    "plt.subplot(1,2,1)\n",
    "plt.plot(df_lyon_dew_bc['Date'], df_lyon_dew_bc['min'], label = 'dew before covid')\n",
    "plt.xticks(rotation='vertical')\n",
    "\n",
    "plt.subplot(1,2,1)\n",
    "plt.plot(df_lyon_temp_dc['Date'], df_lyon_temp_dc['min'], label = 'temperature during covid')\n",
    "plt.xticks(rotation='vertical')\n",
    "           \n",
    "\n",
    "#correlation with dew\n",
    "plt.subplot(1,2,1)\n",
    "plt.plot(df_lyon_dew_dc['Date'], df_lyon_dew_dc['min'], label = 'dew during covid')\n",
    "plt.xticks(rotation='vertical')\n",
    "\n",
    "\n",
    "plt.xlabel('Period before COVID')\n",
    "plt.ylabel('Minimum level')\n",
    "plt.legend(loc=2, prop={'size': 8})\n",
    "plt.title('Correlation between the minimum values of the species temperature and dew before covid in Lyon')"
   ]
  },
  {
   "cell_type": "code",
   "execution_count": null,
   "metadata": {},
   "outputs": [],
   "source": [
    "#correlation with temperature\n",
    "fig = plt.figure(figsize=(250, 20))\n",
    "\n",
    "#correlation with wind speed\n",
    "plt.subplot(1,2,1)\n",
    "plt.plot(df_lyon_ws_bc['Date'], df_lyon_ws_bc['min'], label = 'wind-speed before covid')\n",
    "plt.xticks(rotation='vertical')\n",
    "\n",
    "\n",
    "#correlation with wind-gust\n",
    "plt.subplot(1,2,1)\n",
    "plt.plot(df_lyon_wg_bc['Date'], df_lyon_wg_bc['min'], label = 'wind-gust before covid')\n",
    "plt.xticks(rotation='vertical')\n",
    "\n",
    "                 \n",
    "#correlation with wind speed\n",
    "plt.subplot(1,2,1)\n",
    "plt.plot(df_lyon_ws_dc['Date'], df_lyon_ws_dc['min'], label = 'wind-speed during covid')\n",
    "plt.xticks(rotation='vertical')\n",
    "\n",
    "\n",
    "#correlation with wind-gust\n",
    "plt.subplot(1,2,1)\n",
    "plt.plot(df_lyon_wg_dc['Date'], df_lyon_wg_dc['min'], label = 'wind gust during covid')\n",
    "plt.xticks(rotation='vertical')\n",
    "\n",
    "plt.xlabel('Period before and during COVID')\n",
    "plt.ylabel('Minimum level')\n",
    "plt.legend(loc=2, prop={'size': 8})\n",
    "plt.title('Correlation between the min values of the species wind-gust and wind-speed before and during covid in Lyon')"
   ]
  },
  {
   "cell_type": "markdown",
   "metadata": {},
   "source": [
    "# Exploratory analysis on the city of Marseille."
   ]
  },
  {
   "cell_type": "code",
   "execution_count": null,
   "metadata": {},
   "outputs": [],
   "source": [
    "#Marseille\n",
    "df_marseille.head()"
   ]
  },
  {
   "cell_type": "markdown",
   "metadata": {},
   "source": [
    "## Evolution of the min, max and variance values accross time for different Species. "
   ]
  },
  {
   "cell_type": "markdown",
   "metadata": {},
   "source": [
    "### Before Covid: July 2019 - December 2019| During Covid: January 2020 - July 2021."
   ]
  },
  {
   "cell_type": "markdown",
   "metadata": {},
   "source": [
    "#### PM10"
   ]
  },
  {
   "cell_type": "code",
   "execution_count": null,
   "metadata": {},
   "outputs": [],
   "source": [
    "#DataFrame for the city of Marseille before Covid.\n",
    "mask = (df_marseille['Date'] >= '2019-07-01') & (df_marseille['Date'] <= '2019-12-28')\n",
    "df_marseille_bc = df_marseille.loc[mask] #dataframe for the city of Marseille before Covid.\n",
    "df_marseille_bc.tail(5)"
   ]
  },
  {
   "cell_type": "code",
   "execution_count": null,
   "metadata": {},
   "outputs": [],
   "source": [
    "df_marseille_bc_pm10 = df_marseille_bc[df_marseille_bc['Specie'] == 'pm10']\n",
    "df_marseille_bc_pm10 = df_marseille_bc_pm10.reset_index()\n",
    "df_marseille_bc_pm10 #dataframe for the city of Marseille before Covid with regards to the PM10 level."
   ]
  },
  {
   "cell_type": "code",
   "execution_count": null,
   "metadata": {},
   "outputs": [],
   "source": [
    "#DataFrame during the Covid period for the city of Marseille.\n",
    "mask1 = (df_marseille['Date'] > '2019-12-28') & (df_marseille['Date'] <= '2021-07-25')\n",
    "df_marseille_dc = df_marseille.loc[mask1] #dataframe for the city of Marseille during Covid.\n",
    "df_marseille_dc.head(5)"
   ]
  },
  {
   "cell_type": "code",
   "execution_count": null,
   "metadata": {},
   "outputs": [],
   "source": [
    "df_marseille_dc.reset_index()"
   ]
  },
  {
   "cell_type": "code",
   "execution_count": null,
   "metadata": {},
   "outputs": [],
   "source": [
    "df_marseille_dc_pm10 = df_marseille_dc[df_marseille_dc['Specie'] == 'pm10']\n",
    "df_marseille_dc_pm10 = df_marseille_dc_pm10.reset_index()\n",
    "df_marseille_dc_pm10 #dataframe for the city of Marseille during Covid with regards to the PM10 level."
   ]
  },
  {
   "cell_type": "code",
   "execution_count": null,
   "metadata": {},
   "outputs": [],
   "source": [
    "#Final graph showing the evolution of the min level of PM10 before Covid.\n",
    "plt.figure(figsize=(30,8))\n",
    "plt.plot(df_marseille_bc_pm10['min'])\n",
    "plt.xticks(rotation='vertical')\n",
    "plt.title('Evolution of the min PM10 level for the city of Marseille before Covid')\n",
    "plt.xlabel('Days starting from July until December 2019')\n",
    "plt.ylabel('PM10 min level')\n",
    "plt.show()\n",
    "\n",
    "#Final graph showing the evolution of the min level of PM10 during Covid.\n",
    "plt.figure(figsize=(30,8))\n",
    "plt.plot(df_marseille_dc_pm10['min'])\n",
    "plt.xticks(rotation='vertical')\n",
    "plt.title('Evolution of the min PM10 level for the city of Marseille during Covid')\n",
    "plt.xlabel('Days starting from January 2020 until July 2021')\n",
    "plt.ylabel('PM10 min level')\n",
    "plt.show()\n",
    "\n",
    "#Final graph showing the evolution of the max level of PM10 before Covid.\n",
    "plt.figure(figsize=(30,8))\n",
    "plt.plot(df_marseille_bc_pm10['max'])\n",
    "plt.xticks(rotation='vertical')\n",
    "plt.title('Evolution of the max PM10 level for the city of Marseille before Covid')\n",
    "plt.xlabel('Days starting from July until December 2019')\n",
    "plt.ylabel('PM10 max level')\n",
    "plt.show()\n",
    "\n",
    "#Final graph showing the evolution of the max level of PM10 during Covid.\n",
    "plt.figure(figsize=(30,8))\n",
    "plt.plot(df_marseille_dc_pm10['max'])\n",
    "plt.xticks(rotation='vertical')\n",
    "plt.title('Evolution of the max PM10 level for the city of Marseille during Covid')\n",
    "plt.xlabel('Days starting from January 2020 until July 2021')\n",
    "plt.ylabel('PM10 max level')\n",
    "plt.show()\n",
    "\n",
    "#Final graph showing the evolution of the variance level of PM10 before Covid.\n",
    "plt.figure(figsize=(30,8))\n",
    "plt.plot(df_marseille_bc_pm10['variance'])\n",
    "plt.xticks(rotation='vertical')\n",
    "plt.title('Evolution of the PM10 level\\'s for the city of Marseille before Covid')\n",
    "plt.xlabel('Days starting from July until December 2019')\n",
    "plt.ylabel('PM10 variance level')\n",
    "plt.show()\n",
    "\n",
    "#Final graph showing the evolution of the variance level of PM10 during Covid.\n",
    "plt.figure(figsize=(30,8))\n",
    "plt.plot(df_marseille_dc_pm10['variance'])\n",
    "plt.xticks(rotation='vertical')\n",
    "plt.title('Evolution of the PM10 level\\'s variance for the city of Marseille during Covid')\n",
    "plt.xlabel('Days starting from January 2020 until July 2021')\n",
    "plt.ylabel('PM10 variance level')\n",
    "plt.show()"
   ]
  },
  {
   "cell_type": "markdown",
   "metadata": {},
   "source": [
    "#### o3"
   ]
  },
  {
   "cell_type": "code",
   "execution_count": null,
   "metadata": {},
   "outputs": [],
   "source": [
    "df_marseille_bc_o3 = df_marseille_bc[df_marseille_bc['Specie'] == 'o3']\n",
    "df_marseille_bc_o3 = df_marseille_bc_o3.reset_index()\n",
    "df_marseille_bc_o3 #dataframe for the city of Marseille before Covid with regards to the o3 level."
   ]
  },
  {
   "cell_type": "code",
   "execution_count": null,
   "metadata": {},
   "outputs": [],
   "source": [
    "df_marseille_dc_o3 = df_marseille_dc[df_marseille_dc['Specie'] == 'o3']\n",
    "df_marseille_dc_o3 = df_marseille_dc_o3.reset_index()\n",
    "df_marseille_dc_o3 #dataframe for the city of Marseille during Covid with regards to the o3 level."
   ]
  },
  {
   "cell_type": "code",
   "execution_count": null,
   "metadata": {},
   "outputs": [],
   "source": [
    "#Final graph showing the evolution of the min level of o3 before Covid.\n",
    "plt.figure(figsize=(30,8))\n",
    "plt.plot(df_marseille_bc_o3['min'], color = 'green')\n",
    "plt.xticks(rotation='vertical')\n",
    "plt.title('Evolution of the min o3 level for the city of Marseille before Covid')\n",
    "plt.xlabel('Days starting from July until December 2019')\n",
    "plt.ylabel('o3 min level')\n",
    "plt.show()\n",
    "\n",
    "#Final graph showing the evolution of the min level of o3 during Covid.\n",
    "plt.figure(figsize= (30,8))\n",
    "plt.plot(df_marseille_dc_o3['min'],color = 'green')\n",
    "plt.xticks(rotation='vertical')\n",
    "plt.title('Evolution of the min o3 level for the city of Marseille during Covid')\n",
    "plt.xlabel('Days starting from January 2020 until July 2021')\n",
    "plt.ylabel('o3 min level')\n",
    "plt.show()\n",
    "\n",
    "#Final graph showing the evolution of the max level of o3 before Covid.\n",
    "plt.figure(figsize=(30,8))\n",
    "plt.plot(df_marseille_bc_o3['max'], color = 'green')\n",
    "plt.xticks(rotation='vertical')\n",
    "plt.title('Evolution of the max o3 level for the city of Marseille before Covid')\n",
    "plt.xlabel('Days starting from July until December 2019')\n",
    "plt.ylabel('o3 max level')\n",
    "plt.show()\n",
    "\n",
    "#Final graph showing the evolution of the min level of o3 during Covid.\n",
    "plt.figure(figsize= (30,8))\n",
    "plt.plot(df_marseille_dc_o3['max'],color = 'green')\n",
    "plt.xticks(rotation='vertical')\n",
    "plt.title('Evolution of the max o3 level for the city of Marseille during Covid')\n",
    "plt.xlabel('Days starting from January 2020 until July 2021')\n",
    "plt.ylabel('o3 max level')\n",
    "plt.show()\n",
    "\n",
    "#Final graph showing the evolution of the variance level of o3 before Covid.\n",
    "plt.figure(figsize=(30,8))\n",
    "plt.plot(df_marseille_bc_o3['variance'], color = 'green')\n",
    "plt.xticks(rotation='vertical')\n",
    "plt.title('Evolution of the o3 level\\'s variance for the city of Marseille before Covid')\n",
    "plt.xlabel('Days starting from July until December 2019')\n",
    "plt.ylabel('o3 variance level')\n",
    "plt.show()\n",
    "\n",
    "#Final graph showing the evolution of the variance level of o3 during Covid.\n",
    "plt.figure(figsize= (30,8))\n",
    "plt.plot(df_marseille_dc_o3['variance'],color = 'green')\n",
    "plt.xticks(rotation='vertical')\n",
    "plt.title('Evolution of the o3 level\\'s variance for the city of Marseille during Covid')\n",
    "plt.xlabel('Days starting from January 2020 until July 2021')\n",
    "plt.ylabel('o3 variance level')\n",
    "plt.show()"
   ]
  },
  {
   "cell_type": "markdown",
   "metadata": {},
   "source": [
    "#### PM25"
   ]
  },
  {
   "cell_type": "code",
   "execution_count": null,
   "metadata": {},
   "outputs": [],
   "source": [
    "df_marseille_bc_pm25 = df_marseille_bc[df_marseille_bc['Specie'] == 'pm25']\n",
    "df_marseille_bc_pm25 = df_marseille_bc_pm25.reset_index()\n",
    "df_marseille_bc_pm25 #dataframe for the city of Marseille before Covid with regards to the pm25 level."
   ]
  },
  {
   "cell_type": "code",
   "execution_count": null,
   "metadata": {},
   "outputs": [],
   "source": [
    "df_marseille_dc_pm25 = df_marseille_dc[df_marseille_dc['Specie'] == 'pm25']\n",
    "df_marseille_dc_pm25 = df_marseille_dc_pm25.reset_index()\n",
    "df_marseille_dc_pm25 #dataframe for the city of Marseille during Covid with regards to the pm25 level."
   ]
  },
  {
   "cell_type": "code",
   "execution_count": null,
   "metadata": {},
   "outputs": [],
   "source": [
    "#Final graph showing the evolution of the min level of pm25 before Covid.\n",
    "plt.figure(figsize=(30,8))\n",
    "plt.plot(df_marseille_bc_pm25['min'], color = 'purple')\n",
    "plt.xticks(rotation='vertical')\n",
    "plt.title('Evolution of the min pm25 level for the city of Marseille before Covid')\n",
    "plt.xlabel('Days starting from July until December 2019')\n",
    "plt.ylabel('pm25 min level')\n",
    "plt.show()\n",
    "\n",
    "#Final graph showing the evolution of the min level of pm25 during Covid.\n",
    "plt.figure(figsize= (30,8))\n",
    "plt.plot(df_marseille_dc_pm25['min'],color = 'purple')\n",
    "plt.xticks(rotation='vertical')\n",
    "plt.title('Evolution of the min pm25 level for the city of Marseille during Covid')\n",
    "plt.xlabel('Days starting from January 2020 until July 2021')\n",
    "plt.ylabel('pm25 min level')\n",
    "plt.show()\n",
    "\n",
    "#Final graph showing the evolution of the max level of pm25 before Covid.\n",
    "plt.figure(figsize=(30,8))\n",
    "plt.plot(df_marseille_bc_pm25['max'], color = 'purple')\n",
    "plt.xticks(rotation='vertical')\n",
    "plt.title('Evolution of the max pm25 level for the city of Marseille before Covid')\n",
    "plt.xlabel('Days starting from July until December 2019')\n",
    "plt.ylabel('pm25 max level')\n",
    "plt.show()\n",
    "\n",
    "#Final graph showing the evolution of the max level of pm25 during Covid.\n",
    "plt.figure(figsize= (30,8))\n",
    "plt.plot(df_marseille_dc_pm25['max'],color = 'purple')\n",
    "plt.xticks(rotation='vertical')\n",
    "plt.title('Evolution of the max pm25 level for the city of Marseille during Covid')\n",
    "plt.xlabel('Days starting from January 2020 until July 2021')\n",
    "plt.ylabel('pm25 max level')\n",
    "plt.show()\n",
    "\n",
    "#Final graph showing the evolution of the variance's level of pm25 before Covid.\n",
    "plt.figure(figsize=(30,8))\n",
    "plt.plot(df_marseille_bc_pm25['variance'], color = 'purple')\n",
    "plt.xticks(rotation='vertical')\n",
    "plt.title('Evolution of the pm25 level\\'s variance for the city of Marseille before Covid')\n",
    "plt.xlabel('Days starting from July until December 2019')\n",
    "plt.ylabel('pm25 variance level')\n",
    "plt.show()\n",
    "\n",
    "#Final graph showing the evolution of the variance's level of pm25 during Covid.\n",
    "plt.figure(figsize= (30,8))\n",
    "plt.plot(df_marseille_dc_pm25['variance'],color = 'purple')\n",
    "plt.xticks(rotation='vertical')\n",
    "plt.title('Evolution of the max pm25 level\\'s variance for the city of Marseille during Covid')\n",
    "plt.xlabel('Days starting from January 2020 until July 2021')\n",
    "plt.ylabel('pm25 variance level')\n",
    "plt.show()"
   ]
  },
  {
   "cell_type": "markdown",
   "metadata": {},
   "source": [
    "#### No2"
   ]
  },
  {
   "cell_type": "code",
   "execution_count": null,
   "metadata": {},
   "outputs": [],
   "source": [
    "df_marseille_bc_no2 = df_marseille_bc[df_marseille_bc['Specie'] == 'no2']\n",
    "df_marseille_bc_no2 = df_marseille_bc_no2.reset_index()\n",
    "df_marseille_bc_no2 #dataframe for the city of Marseille before Covid with regards to the no2 level."
   ]
  },
  {
   "cell_type": "code",
   "execution_count": null,
   "metadata": {},
   "outputs": [],
   "source": [
    "df_marseille_dc_no2 = df_marseille_dc[df_marseille_dc['Specie'] == 'no2']\n",
    "df_marseille_dc_no2 = df_marseille_dc_no2.reset_index()\n",
    "df_marseille_dc_no2 #dataframe for the city of Marseille during Covid with regards to the no2 level."
   ]
  },
  {
   "cell_type": "code",
   "execution_count": null,
   "metadata": {},
   "outputs": [],
   "source": [
    "#Final graph showing the evolution of the min level of no2 before Covid.\n",
    "plt.figure(figsize=(30,8))\n",
    "plt.plot(df_marseille_bc_no2['min'], color = 'orange')\n",
    "plt.xticks(rotation='vertical')\n",
    "plt.title('Evolution of the min no2 level for the city of Marseille before Covid')\n",
    "plt.xlabel('Days starting from July until December 2019')\n",
    "plt.ylabel('no2 min level')\n",
    "plt.show()\n",
    "\n",
    "#Final graph showing the evolution of the min level of no2 during Covid.\n",
    "plt.figure(figsize= (30,8))\n",
    "plt.plot(df_marseille_dc_no2['min'],color = 'orange')\n",
    "plt.xticks(rotation='vertical')\n",
    "plt.title('Evolution of the min no2 level for the city of Marseille during Covid')\n",
    "plt.xlabel('Days starting from January 2020 until July 2021')\n",
    "plt.ylabel('no2 min level')\n",
    "plt.show()\n",
    "\n",
    "#Final graph showing the evolution of the max level of no2 before Covid.\n",
    "plt.figure(figsize=(30,8))\n",
    "plt.plot(df_marseille_bc_no2['max'], color = 'orange')\n",
    "plt.xticks(rotation='vertical')\n",
    "plt.title('Evolution of the max no2 level for the city of Marseille before Covid')\n",
    "plt.xlabel('Days starting from July until December 2019')\n",
    "plt.ylabel('no2 max level')\n",
    "plt.show()\n",
    "\n",
    "#Final graph showing the evolution of the max level of no2 during Covid.\n",
    "plt.figure(figsize= (30,8))\n",
    "plt.plot(df_marseille_dc_no2['max'],color = 'orange')\n",
    "plt.xticks(rotation='vertical')\n",
    "plt.title('Evolution of the max no2 level for the city of Marseille during Covid')\n",
    "plt.xlabel('Days starting from January 2020 until July 2021')\n",
    "plt.ylabel('no2 max level')\n",
    "plt.show()\n",
    "\n",
    "#Final graph showing the evolution of the variance level of no2 before Covid.\n",
    "plt.figure(figsize=(30,8))\n",
    "plt.plot(df_marseille_bc_no2['variance'], color = 'orange')\n",
    "plt.xticks(rotation='vertical')\n",
    "plt.title('Evolution of the no2 level\\'s variance for the city of Marseille before Covid')\n",
    "plt.xlabel('Days starting from July until December 2019')\n",
    "plt.ylabel('no2 variance level')\n",
    "plt.show()\n",
    "\n",
    "#Final graph showing the evolution of the variance level of no2 during Covid.\n",
    "plt.figure(figsize= (30,8))\n",
    "plt.plot(df_marseille_dc_no2['variance'],color = 'orange')\n",
    "plt.xticks(rotation='vertical')\n",
    "plt.title('Evolution of the no2 level\\'s variance for the city of Marseille during Covid')\n",
    "plt.xlabel('Days starting from January 2020 until July 2021')\n",
    "plt.ylabel('no2 variance level')\n",
    "plt.show()"
   ]
  },
  {
   "cell_type": "markdown",
   "metadata": {},
   "source": [
    "#### Temperature"
   ]
  },
  {
   "cell_type": "code",
   "execution_count": null,
   "metadata": {},
   "outputs": [],
   "source": [
    "df_marseille_bc_temp = df_marseille_bc[df_marseille_bc['Specie'] == 'temperature']\n",
    "df_marseille_bc_temp = df_marseille_bc_temp.reset_index()\n",
    "df_marseille_bc_temp #dataframe for the city of Marseille before Covid with regards to the temperature level."
   ]
  },
  {
   "cell_type": "code",
   "execution_count": null,
   "metadata": {},
   "outputs": [],
   "source": [
    "df_marseille_dc_temp = df_marseille_dc[df_marseille_dc['Specie'] == 'temperature']\n",
    "df_marseille_dc_temp = df_marseille_dc_temp.reset_index()\n",
    "df_marseille_dc_temp #dataframe for the city of Marseille during Covid with regards to the temperature level."
   ]
  },
  {
   "cell_type": "code",
   "execution_count": null,
   "metadata": {},
   "outputs": [],
   "source": [
    "#Final graph showing the evolution of the min level of the temperature before Covid.\n",
    "plt.figure(figsize=(30,8))\n",
    "plt.plot(df_marseille_bc_temp['min'], color = 'grey')\n",
    "plt.xticks(rotation='vertical')\n",
    "plt.title('Evolution of the min temperature level for the city of Marseille before Covid')\n",
    "plt.xlabel('Days starting from July until December 2019')\n",
    "plt.ylabel('Temperature min level')\n",
    "plt.show()\n",
    "\n",
    "#Final graph showing the evolution of the min level of the temperature during Covid.\n",
    "plt.figure(figsize= (30,8))\n",
    "plt.plot(df_marseille_dc_temp['min'],color = 'grey')\n",
    "plt.xticks(rotation='vertical')\n",
    "plt.title('Evolution of the min temperature level for the city of Marseille during Covid')\n",
    "plt.xlabel('Days starting from January 2020 until July 2021')\n",
    "plt.ylabel('Temperature min level')\n",
    "plt.show()\n",
    "\n",
    "#Final graph showing the evolution of the max level of the temperature before Covid.\n",
    "plt.figure(figsize=(30,8))\n",
    "plt.plot(df_marseille_bc_temp['max'], color = 'grey')\n",
    "plt.xticks(rotation='vertical')\n",
    "plt.title('Evolution of the max temperature level for the city of Marseille before Covid')\n",
    "plt.xlabel('Days starting from July until December 2019')\n",
    "plt.ylabel('Temperature max level')\n",
    "plt.show()\n",
    "\n",
    "#Final graph showing the evolution of the max level of the temperature during Covid.\n",
    "plt.figure(figsize= (30,8))\n",
    "plt.plot(df_marseille_dc_temp['max'],color = 'grey')\n",
    "plt.xticks(rotation='vertical')\n",
    "plt.title('Evolution of the max temperature level for the city of Marseille during Covid')\n",
    "plt.xlabel('Days starting from January 2020 until July 2021')\n",
    "plt.ylabel('Temperature max level')\n",
    "plt.show()\n",
    "\n",
    "\n",
    "#Final graph showing the evolution of the variance level of the temperature before Covid.\n",
    "plt.figure(figsize=(30,8))\n",
    "plt.plot(df_marseille_bc_temp['variance'], color = 'grey')\n",
    "plt.xticks(rotation='vertical')\n",
    "plt.title('Evolution of the temperature level\\'s variance for the city of Marseille before Covid')\n",
    "plt.xlabel('Days starting from July until December 2019')\n",
    "plt.ylabel('Temperature variance level')\n",
    "plt.show()\n",
    "\n",
    "#Final graph showing the evolution of the variance level of the temperature during Covid.\n",
    "plt.figure(figsize= (30,8))\n",
    "plt.plot(df_marseille_dc_temp['variance'],color = 'grey')\n",
    "plt.xticks(rotation='vertical')\n",
    "plt.title('Evolution of the temperature level\\'s variance for the city of Marseille during Covid')\n",
    "plt.xlabel('Days starting from January 2020 until July 2021')\n",
    "plt.ylabel('Temperature variance level')\n",
    "plt.show()"
   ]
  },
  {
   "cell_type": "markdown",
   "metadata": {},
   "source": [
    "#### Humidity"
   ]
  },
  {
   "cell_type": "code",
   "execution_count": null,
   "metadata": {},
   "outputs": [],
   "source": [
    "df_marseille_bc_hum = df_marseille_bc[df_marseille_bc['Specie'] == 'humidity']\n",
    "df_marseille_bc_hum = df_marseille_bc_hum.reset_index()\n",
    "df_marseille_bc_hum #dataframe for the city of Lyon before Covid with regards to the humidity level."
   ]
  },
  {
   "cell_type": "code",
   "execution_count": null,
   "metadata": {},
   "outputs": [],
   "source": [
    "df_marseille_dc_hum = df_marseille_dc[df_marseille_dc['Specie'] == 'humidity']\n",
    "df_marseille_dc_hum = df_marseille_dc_hum.reset_index()\n",
    "df_marseille_dc_hum #dataframe for the city of Marseille during Covid with regards to the humidity level."
   ]
  },
  {
   "cell_type": "code",
   "execution_count": null,
   "metadata": {},
   "outputs": [],
   "source": [
    "#Final graph showing the evolution of the min level of the humidity before Covid.\n",
    "plt.figure(figsize=(30,8))\n",
    "plt.plot(df_marseille_bc_hum['min'], color = 'black')\n",
    "plt.xticks(rotation='vertical')\n",
    "plt.title('Evolution of the min humidity level for the city of Marseille before Covid')\n",
    "plt.xlabel('Days starting from July until December 2019')\n",
    "plt.ylabel('Humidity min level')\n",
    "plt.show()\n",
    "\n",
    "#Final graph showing the evolution of the min level of the humidity during Covid.\n",
    "plt.figure(figsize= (30,8))\n",
    "plt.plot(df_marseille_dc_hum['min'],color = 'black')\n",
    "plt.xticks(rotation='vertical')\n",
    "plt.title('Evolution of the min humidity level for the city of Marseille during Covid')\n",
    "plt.xlabel('Days starting from January 2020 until July 2021')\n",
    "plt.ylabel('Humidity min level')\n",
    "plt.show()\n",
    "\n",
    "#Final graph showing the evolution of the max level of the humidity before Covid.\n",
    "plt.figure(figsize=(30,8))\n",
    "plt.plot(df_marseille_bc_hum['max'], color = 'black')\n",
    "plt.xticks(rotation='vertical')\n",
    "plt.title('Evolution of the max humidity level for the city of Marseille before Covid')\n",
    "plt.xlabel('Days starting from July until December 2019')\n",
    "plt.ylabel('Humidity max level')\n",
    "plt.show()\n",
    "\n",
    "#Final graph showing the evolution of the max level of the humidity during Covid.\n",
    "plt.figure(figsize= (30,8))\n",
    "plt.plot(df_marseille_dc_hum['max'],color = 'black')\n",
    "plt.xticks(rotation='vertical')\n",
    "plt.title('Evolution of the max humidity level for the city of Marseille during Covid')\n",
    "plt.xlabel('Days starting from January 2020 until July 2021')\n",
    "plt.ylabel('Humidity max level')\n",
    "plt.show()\n",
    "\n",
    "#Final graph showing the evolution of the variance level of the humidity before Covid.\n",
    "plt.figure(figsize=(30,8))\n",
    "plt.plot(df_marseille_bc_hum['variance'], color = 'black')\n",
    "plt.xticks(rotation='vertical')\n",
    "plt.title('Evolution of the humidity level\\'s variance for the city of Marseille before Covid')\n",
    "plt.xlabel('Days starting from July until December 2019')\n",
    "plt.ylabel('Humidity variance level')\n",
    "plt.show()\n",
    "\n",
    "#Final graph showing the evolution of the variance level of the humidity during Covid.\n",
    "plt.figure(figsize= (30,8))\n",
    "plt.plot(df_marseille_dc_hum['variance'],color = 'black')\n",
    "plt.xticks(rotation='vertical')\n",
    "plt.title('Evolution of the humidity level\\'s variance for the city of Marseille during Covid')\n",
    "plt.xlabel('Days starting from January 2020 until July 2021')\n",
    "plt.ylabel('Humidity variance level')\n",
    "plt.show()"
   ]
  },
  {
   "cell_type": "markdown",
   "metadata": {},
   "source": [
    "#### Dew"
   ]
  },
  {
   "cell_type": "code",
   "execution_count": null,
   "metadata": {},
   "outputs": [],
   "source": [
    "df_marseille_bc_dew = df_marseille_bc[df_marseille_bc['Specie'] == 'dew']\n",
    "df_marseille_bc_dew = df_marseille_bc_dew.reset_index()\n",
    "df_marseille_bc_dew #dataframe for the city of Marseille before Covid with regards to the dew level."
   ]
  },
  {
   "cell_type": "code",
   "execution_count": null,
   "metadata": {},
   "outputs": [],
   "source": [
    "df_marseille_dc_dew = df_marseille_dc[df_marseille_dc['Specie'] == 'dew']\n",
    "df_marseille_dc_dew = df_marseille_dc_dew.reset_index()\n",
    "df_marseille_dc_dew #dataframe for the city of Marseille during Covid with regards to the dew level."
   ]
  },
  {
   "cell_type": "code",
   "execution_count": null,
   "metadata": {},
   "outputs": [],
   "source": [
    "#Final graph showing the evolution of the min level of the Dew before Covid.\n",
    "plt.figure(figsize=(30,8))\n",
    "plt.plot(df_marseille_bc_dew['min'], color = 'brown')\n",
    "plt.xticks(rotation='vertical')\n",
    "plt.title('Evolution of the min Dew level for the city of Marseille before Covid')\n",
    "plt.xlabel('Days starting from July until December 2019')\n",
    "plt.ylabel('Dew min level')\n",
    "plt.show()\n",
    "\n",
    "#Final graph showing the evolution of the min level of the Dew during Covid.\n",
    "plt.figure(figsize= (30,8))\n",
    "plt.plot(df_marseille_dc_dew['min'],color = 'brown')\n",
    "plt.xticks(rotation='vertical')\n",
    "plt.title('Evolution of the min Dew level for the city of Marseille during Covid')\n",
    "plt.xlabel('Days starting from January 2020 until July 2021')\n",
    "plt.ylabel('Dew min level')\n",
    "plt.show()\n",
    "\n",
    "#Final graph showing the evolution of the max level of the Dew before Covid.\n",
    "plt.figure(figsize=(30,8))\n",
    "plt.plot(df_marseille_bc_dew['max'], color = 'brown')\n",
    "plt.xticks(rotation='vertical')\n",
    "plt.title('Evolution of the max Dew level for the city of Marseille before Covid')\n",
    "plt.xlabel('Days starting from July until December 2019')\n",
    "plt.ylabel('Dew max level')\n",
    "plt.show()\n",
    "\n",
    "#Final graph showing the evolution of the max level of the Dew during Covid.\n",
    "plt.figure(figsize= (30,8))\n",
    "plt.plot(df_marseille_dc_dew['max'],color = 'brown')\n",
    "plt.xticks(rotation='vertical')\n",
    "plt.title('Evolution of the max Dew level for the city of Marseille during Covid')\n",
    "plt.xlabel('Days starting from January 2020 until July 2021')\n",
    "plt.ylabel('Dew max level')\n",
    "plt.show()\n",
    "\n",
    "#Final graph showing the evolution of the variance level of the Dew before Covid.\n",
    "plt.figure(figsize=(30,8))\n",
    "plt.plot(df_marseille_bc_dew['variance'], color = 'brown')\n",
    "plt.xticks(rotation='vertical')\n",
    "plt.title('Evolution of the dew level\\'s for the city of Marseille before Covid')\n",
    "plt.xlabel('Days starting from July until December 2019')\n",
    "plt.ylabel('Dew variance level')\n",
    "plt.show()\n",
    "\n",
    "#Final graph showing the evolution of the variance level of the Dew during Covid.\n",
    "plt.figure(figsize= (30,8))\n",
    "plt.plot(df_marseille_dc_dew['variance'],color = 'brown')\n",
    "plt.xticks(rotation='vertical')\n",
    "plt.title('Evolution of the Dew level\\'s for the city of Marseille during Covid')\n",
    "plt.xlabel('Days starting from January 2020 until July 2021')\n",
    "plt.ylabel('Dew variance level')\n",
    "plt.show()"
   ]
  },
  {
   "cell_type": "markdown",
   "metadata": {},
   "source": [
    "#### Pressure"
   ]
  },
  {
   "cell_type": "code",
   "execution_count": null,
   "metadata": {},
   "outputs": [],
   "source": [
    "df_marseille_bc_ps = df_marseille_bc[df_marseille_bc['Specie'] == 'pressure']\n",
    "df_marseille_bc_ps = df_marseille_bc_ps.reset_index()\n",
    "df_marseille_bc_ps #dataframe for the city of Marseille before Covid with regards to the pressure level."
   ]
  },
  {
   "cell_type": "code",
   "execution_count": null,
   "metadata": {},
   "outputs": [],
   "source": [
    "df_marseille_dc_ps = df_marseille_dc[df_marseille_dc['Specie'] == 'pressure']\n",
    "df_marseille_dc_ps = df_marseille_dc_ps.reset_index()\n",
    "df_marseille_dc_ps #dataframe for the city of Marseille during Covid with regards to the pressure level."
   ]
  },
  {
   "cell_type": "code",
   "execution_count": null,
   "metadata": {},
   "outputs": [],
   "source": [
    "#Final graph showing the evolution of the min level of the pressure before Covid.\n",
    "plt.figure(figsize=(30,8))\n",
    "plt.plot(df_marseille_bc_ps['min'], color = 'pink')\n",
    "plt.xticks(rotation='vertical')\n",
    "plt.title('Evolution of the min pressure level for the city of Marseille before Covid')\n",
    "plt.xlabel('Days starting from July until December 2019')\n",
    "plt.ylabel('Pressure min level')\n",
    "plt.show()\n",
    "\n",
    "#Final graph showing the evolution of the min level of the pressure during Covid.\n",
    "plt.figure(figsize= (30,8))\n",
    "plt.plot(df_marseille_dc_ps['min'],color = 'pink')\n",
    "plt.xticks(rotation='vertical')\n",
    "plt.title('Evolution of the min pressure level for the city of Marseille during Covid')\n",
    "plt.xlabel('Days starting from January 2020 until July 2021')\n",
    "plt.ylabel('Pressure min level')\n",
    "plt.show()\n",
    "\n",
    "#Final graph showing the evolution of the max level of the pressure before Covid.\n",
    "plt.figure(figsize=(30,8))\n",
    "plt.plot(df_marseille_bc_ps['max'], color = 'pink')\n",
    "plt.xticks(rotation='vertical')\n",
    "plt.title('Evolution of the max pressure level for the city of Marseille before Covid')\n",
    "plt.xlabel('Days starting from July until December 2019')\n",
    "plt.ylabel('Pressure max level')\n",
    "plt.show()\n",
    "\n",
    "#Final graph showing the evolution of the max level of the pressure during Covid.\n",
    "plt.figure(figsize= (30,8))\n",
    "plt.plot(df_marseille_dc_ps['max'],color = 'pink')\n",
    "plt.xticks(rotation='vertical')\n",
    "plt.title('Evolution of the max pressure level for the city of Marseille during Covid')\n",
    "plt.xlabel('Days starting from January 2020 until July 2021')\n",
    "plt.ylabel('Pressure max level')\n",
    "plt.show()\n",
    "\n",
    "#Final graph showing the evolution of the variance level of the pressure before Covid.\n",
    "plt.figure(figsize=(30,8))\n",
    "plt.plot(df_marseille_bc_ps['variance'], color = 'pink')\n",
    "plt.xticks(rotation='vertical')\n",
    "plt.title('Evolution of the pressure level\\'s for the city of Marseille before Covid')\n",
    "plt.xlabel('Days starting from July until December 2019')\n",
    "plt.ylabel('Pressure variance level')\n",
    "plt.show()\n",
    "\n",
    "#Final graph showing the evolution of the variance level of the pressure during Covid.\n",
    "plt.figure(figsize= (30,8))\n",
    "plt.plot(df_marseille_dc_ps['variance'],color = 'pink')\n",
    "plt.xticks(rotation='vertical')\n",
    "plt.title('Evolution of the pressure level\\'s for the city of Marseille during Covid')\n",
    "plt.xlabel('Days starting from January 2020 until July 2021')\n",
    "plt.ylabel('Pressure variance level')\n",
    "plt.show()"
   ]
  },
  {
   "cell_type": "markdown",
   "metadata": {},
   "source": [
    "## Relationship between different species affecting air quality."
   ]
  },
  {
   "cell_type": "markdown",
   "metadata": {},
   "source": [
    "### Relationship between the maximum values of the different Specie."
   ]
  },
  {
   "cell_type": "code",
   "execution_count": null,
   "metadata": {},
   "outputs": [],
   "source": [
    "#No2 Max\n",
    "cond_=(df_marseille['Specie']==\"no2\")\n",
    "d2 = df_marseille.loc[cond_,:]\n",
    "no2_max = pd.DataFrame(d2[['Date','max']])\n",
    "no2_max.head()"
   ]
  },
  {
   "cell_type": "code",
   "execution_count": null,
   "metadata": {},
   "outputs": [],
   "source": [
    "#co Max\n",
    "cond_=(df_marseille['Specie']==\"co\")\n",
    "d3 = df_marseille.loc[cond_,:]\n",
    "co_max = pd.DataFrame(d3[['Date','max']])\n",
    "co_max.head()"
   ]
  },
  {
   "cell_type": "code",
   "execution_count": null,
   "metadata": {},
   "outputs": [],
   "source": [
    "df_cd_m = pd.merge(no2_max, co_max, how='inner', left_on = 'Date', right_on = 'Date')\n",
    "df_cd_m = df_cd.rename(columns={'max_x': 'no2_max', 'max_y': 'co_max'})\n",
    "df_cd_m.head()"
   ]
  },
  {
   "cell_type": "code",
   "execution_count": null,
   "metadata": {},
   "outputs": [],
   "source": [
    "#o3 max\n",
    "cond_2 =(df_marseille['Specie']== 'o3')\n",
    "d4 = df_marseille.loc[cond_2,:]\n",
    "o3_max = pd.DataFrame(d4[['Date','max']])\n",
    "o3_max.head()"
   ]
  },
  {
   "cell_type": "code",
   "execution_count": null,
   "metadata": {},
   "outputs": [],
   "source": [
    "df_cd1_m = pd.merge(df_cd_m,o3_max, how = 'inner', left_on = 'Date', right_on = 'Date')\n",
    "df_cd1_m = df_cd1_m.rename(columns={'max': 'o3_max'})\n",
    "df_cd1_m.head()"
   ]
  },
  {
   "cell_type": "code",
   "execution_count": null,
   "metadata": {},
   "outputs": [],
   "source": [
    "#pressure max \n",
    "cond_3 = (df_marseille['Specie']==\"pressure\")\n",
    "d5 = df_marseille.loc[cond_3,:]\n",
    "pressure_max = pd.DataFrame(d5[['Date','max']])\n",
    "pressure_max.head()"
   ]
  },
  {
   "cell_type": "code",
   "execution_count": null,
   "metadata": {},
   "outputs": [],
   "source": [
    "df_cd2_m = pd.merge(df_cd1_m, pressure_max, how = 'inner', left_on = 'Date', right_on = 'Date')\n",
    "df_cd2_m = df_cd2_m.rename(columns= {'max': 'pressure_max'})\n",
    "df_cd2_m.head()"
   ]
  },
  {
   "cell_type": "code",
   "execution_count": null,
   "metadata": {},
   "outputs": [],
   "source": [
    "#humidity max\n",
    "cond_4 =(df_marseille['Specie']==\"humidity\")\n",
    "d6 = df_marseille.loc[cond_4,:]\n",
    "hu_max = pd.DataFrame(d6[['Date','max']])\n",
    "hu_max.head()"
   ]
  },
  {
   "cell_type": "code",
   "execution_count": null,
   "metadata": {},
   "outputs": [],
   "source": [
    "df_cd3_m = pd.merge(df_cd2_m, hu_max, how = 'inner', left_on = 'Date', right_on = 'Date')\n",
    "df_cd3_m = df_cd3_m.rename(columns={'max': 'humidity_max'})\n",
    "df_cd3_m.head()"
   ]
  },
  {
   "cell_type": "code",
   "execution_count": null,
   "metadata": {},
   "outputs": [],
   "source": [
    "#pm25 max \n",
    "cond_5 =(df_marseille['Specie']==\"pm25\")\n",
    "d7 = df_marseille.loc[cond_5,:]\n",
    "pm25_max = pd.DataFrame(d7[['Date','max']])\n",
    "pm25_max.head()"
   ]
  },
  {
   "cell_type": "code",
   "execution_count": null,
   "metadata": {},
   "outputs": [],
   "source": [
    "df_cd4_m = pd.merge(df_cd3_m, pm25_max, how = 'inner', left_on = 'Date', right_on = 'Date')\n",
    "df_cd4_m = df_cd4_m.rename(columns={'max': 'pm25_max'})\n",
    "df_cd4_m.head()"
   ]
  },
  {
   "cell_type": "code",
   "execution_count": null,
   "metadata": {},
   "outputs": [],
   "source": [
    "#Dew max\n",
    "cond_6 =(df_marseille['Specie'] == \"dew\")\n",
    "d8 = df_marseille.loc[cond_6,:]\n",
    "dew_max = pd.DataFrame(d8[['Date','max']])\n",
    "dew_max.head()"
   ]
  },
  {
   "cell_type": "code",
   "execution_count": null,
   "metadata": {},
   "outputs": [],
   "source": [
    "df_cd5_m = pd.merge(df_cd4_m, dew_max, how = 'inner', left_on = 'Date', right_on = 'Date')\n",
    "df_cd5_m = df_cd5_m.rename(columns={'max': 'dew_max'})\n",
    "df_cd5_m.head()"
   ]
  },
  {
   "cell_type": "code",
   "execution_count": null,
   "metadata": {},
   "outputs": [],
   "source": [
    "#Temperature max\n",
    "cond_7 =(df_marseille['Specie']== \"temperature\")\n",
    "d9 = df_marseille.loc[cond_7,:]\n",
    "tp_max = pd.DataFrame(d9[['Date','max']])\n",
    "tp_max.head()"
   ]
  },
  {
   "cell_type": "code",
   "execution_count": null,
   "metadata": {},
   "outputs": [],
   "source": [
    "df_cd6_m = pd.merge(df_cd5_m,tp_max, how = 'inner', left_on = 'Date', right_on = 'Date')\n",
    "df_cd6_m = df_cd6_m.rename(columns={'max': 'temperature_max'})\n",
    "df_cd6_m.head()"
   ]
  },
  {
   "cell_type": "code",
   "execution_count": null,
   "metadata": {},
   "outputs": [],
   "source": [
    "#Wind-Speed\n",
    "cond_8 =(df_marseille['Specie']==\"wind speed\")\n",
    "d10 = df_marseille.loc[cond_8,:]\n",
    "ws_max = pd.DataFrame(d10[['Date','max']])\n",
    "ws_max.head()"
   ]
  },
  {
   "cell_type": "code",
   "execution_count": null,
   "metadata": {},
   "outputs": [],
   "source": [
    "df_cd7_m = pd.merge(df_cd6_m, ws_max, how = 'inner', left_on = 'Date', right_on = 'Date')\n",
    "df_cd7_m = df_cd7_m.rename(columns={'max': 'wind_speed_max'})\n",
    "df_cd7_m.head()"
   ]
  },
  {
   "cell_type": "code",
   "execution_count": null,
   "metadata": {},
   "outputs": [],
   "source": [
    "#Wind-gust\n",
    "cond_9 =(df_marseille['Specie']== \"wind gust\")\n",
    "d11 = df_marseille.loc[cond_9,:]\n",
    "wg_max = pd.DataFrame(d11[['Date','max']])\n",
    "wg_max.head()"
   ]
  },
  {
   "cell_type": "code",
   "execution_count": null,
   "metadata": {},
   "outputs": [],
   "source": [
    "df_cd8_m = pd.merge(df_cd7_m, wg_max, how = 'inner', left_on = 'Date', right_on = 'Date')\n",
    "df_cd8_m = df_cd8_m.rename(columns={'max': 'wind_gust_max'})\n",
    "df_specie_max_m = df_cd8_m #Final DataFrame\n",
    "df_specie_max_m.head()"
   ]
  },
  {
   "cell_type": "code",
   "execution_count": null,
   "metadata": {},
   "outputs": [],
   "source": [
    "#correlation matrix\n",
    "correlation_matrix_m = df_specie_max_m.corr()\n",
    "correlation_matrix_m"
   ]
  },
  {
   "cell_type": "code",
   "execution_count": null,
   "metadata": {},
   "outputs": [],
   "source": [
    "#Heatmap\n",
    "sns.heatmap(correlation_matrix_m, annot = True)\n",
    "plt.title(\"Correlation Matrix between the factors affecting air quality concerning their max value\")\n",
    "plt.xlabel(\"Factors affecting air quality\")\n",
    "plt.ylabel(\"Factors affecting air quality\")\n",
    "plt.show()"
   ]
  },
  {
   "cell_type": "markdown",
   "metadata": {},
   "source": [
    "### Relationship between the minimum values of the different Specie."
   ]
  },
  {
   "cell_type": "code",
   "execution_count": null,
   "metadata": {},
   "outputs": [],
   "source": [
    "#No2 Min\n",
    "co_ =(df_marseille['Specie']==\"no2\")\n",
    "dm1 = df_marseille.loc[co_,:]\n",
    "no2_min = pd.DataFrame(dm1[['Date','min']])\n",
    "no2_min.head()"
   ]
  },
  {
   "cell_type": "code",
   "execution_count": null,
   "metadata": {},
   "outputs": [],
   "source": [
    "df_mg_m = no2_min\n",
    "df_mg_m = df_mg_m.rename(columns={'min': 'no2_min'})\n",
    "df_mg_m.head()"
   ]
  },
  {
   "cell_type": "code",
   "execution_count": null,
   "metadata": {},
   "outputs": [],
   "source": [
    "#o3 max\n",
    "co_2 =(df_marseille['Specie']== 'o3')\n",
    "dm3 = df_marseille.loc[co_2,:]\n",
    "o3_min = pd.DataFrame(dm3[['Date','min']])\n",
    "o3_min.head()"
   ]
  },
  {
   "cell_type": "code",
   "execution_count": null,
   "metadata": {},
   "outputs": [],
   "source": [
    "df_mg1_m1 = pd.merge(df_mg_m,o3_min, how = 'inner', left_on = 'Date', right_on = 'Date')\n",
    "df_mg1_m1 = df_mg1_m1.rename(columns={'min': 'o3_min'})\n",
    "df_mg1_m1.head()"
   ]
  },
  {
   "cell_type": "code",
   "execution_count": null,
   "metadata": {},
   "outputs": [],
   "source": [
    "#pressure min \n",
    "co_3 =(df_marseille['Specie']==\"pressure\")\n",
    "dm4 = df_marseille.loc[co_3,:]\n",
    "pressure_min = pd.DataFrame(dm4[['Date','min']])\n",
    "pressure_min.head()"
   ]
  },
  {
   "cell_type": "code",
   "execution_count": null,
   "metadata": {},
   "outputs": [],
   "source": [
    "df_mg2_m = pd.merge(df_mg1_m1, pressure_min, how = 'inner', left_on = 'Date', right_on = 'Date')\n",
    "df_mg2_m = df_mg2_m.rename(columns={'min': 'pressure_min'})\n",
    "df_mg2_m.head()"
   ]
  },
  {
   "cell_type": "code",
   "execution_count": null,
   "metadata": {},
   "outputs": [],
   "source": [
    "#humidity min\n",
    "co_4 =(df_marseille['Specie']==\"humidity\")\n",
    "dm5 = df_marseille.loc[co_4,:]\n",
    "hu_min = pd.DataFrame(dm5[['Date','min']])\n",
    "hu_min.head()"
   ]
  },
  {
   "cell_type": "code",
   "execution_count": null,
   "metadata": {},
   "outputs": [],
   "source": [
    "df_mg3_m = pd.merge(df_mg2_m, hu_min, how = 'inner', left_on = 'Date', right_on = 'Date')\n",
    "df_mg3_m = df_mg3_m.rename(columns={'min': 'humidity_min'})\n",
    "df_mg3_m.head()"
   ]
  },
  {
   "cell_type": "code",
   "execution_count": null,
   "metadata": {},
   "outputs": [],
   "source": [
    "#pm25 min \n",
    "co_5 =(df_marseille['Specie']==\"pm25\")\n",
    "dm6 = df_marseille.loc[co_5,:]\n",
    "pm25_min = pd.DataFrame(dm6[['Date','min']])\n",
    "pm25_min.head()"
   ]
  },
  {
   "cell_type": "code",
   "execution_count": null,
   "metadata": {},
   "outputs": [],
   "source": [
    "df_mg4_m = pd.merge(df_mg3_m, pm25_min, how = 'inner', left_on = 'Date', right_on = 'Date')\n",
    "df_mg4_m = df_mg4_m.rename(columns={'min': 'pm25_min'})\n",
    "df_mg4_m.head()"
   ]
  },
  {
   "cell_type": "code",
   "execution_count": null,
   "metadata": {},
   "outputs": [],
   "source": [
    "#Dew min\n",
    "co_6 =(df_marseille['Specie'] == \"dew\")\n",
    "dm7 = df_marseille.loc[co_6,:]\n",
    "dew_min = pd.DataFrame(dm7[['Date','min']])\n",
    "dew_min.head()"
   ]
  },
  {
   "cell_type": "code",
   "execution_count": null,
   "metadata": {},
   "outputs": [],
   "source": [
    "df_mg5_m = pd.merge(df_mg4_m, dew_min, how = 'inner', left_on = 'Date', right_on = 'Date')\n",
    "df_mg5_m = df_mg5_m.rename(columns={'min': 'dew_min'})\n",
    "df_mg5_m.head()"
   ]
  },
  {
   "cell_type": "code",
   "execution_count": null,
   "metadata": {},
   "outputs": [],
   "source": [
    "#Temperature min\n",
    "co_7 =(df_marseille['Specie']==\"temperature\")\n",
    "dm8 = df_marseille.loc[co_7,:]\n",
    "tp_min = pd.DataFrame(dm8[['Date','min']])\n",
    "tp_min.head()"
   ]
  },
  {
   "cell_type": "code",
   "execution_count": null,
   "metadata": {},
   "outputs": [],
   "source": [
    "df_mg6_m = pd.merge(df_mg5_m,tp_min, how = 'inner', left_on = 'Date', right_on = 'Date')\n",
    "df_mg6_m = df_mg6_m.rename(columns={'min': 'temperature_min'})\n",
    "df_mg6_m.head()"
   ]
  },
  {
   "cell_type": "code",
   "execution_count": null,
   "metadata": {},
   "outputs": [],
   "source": [
    "#Wind-Speed min\n",
    "co_8 =(df_marseille['Specie']==\"wind speed\")\n",
    "dm9 = df_marseille.loc[co_8,:]\n",
    "ws_min = pd.DataFrame(dm9[['Date','min']])\n",
    "ws_min.head()"
   ]
  },
  {
   "cell_type": "code",
   "execution_count": null,
   "metadata": {},
   "outputs": [],
   "source": [
    "df_mg7_m = pd.merge(df_mg6_m, ws_min, how = 'inner', left_on = 'Date', right_on = 'Date')\n",
    "df_mg7_m = df_mg7_m.rename(columns={'min': 'wind_speed_min'})\n",
    "df_mg7_m.head()"
   ]
  },
  {
   "cell_type": "code",
   "execution_count": null,
   "metadata": {},
   "outputs": [],
   "source": [
    "#Wind-gust min\n",
    "co_9 =(df_marseille['Specie']== \"wind gust\")\n",
    "dm10 = df_marseille.loc[co_9,:]\n",
    "wg_min = pd.DataFrame(dm10[['Date','min']])\n",
    "wg_min.head()"
   ]
  },
  {
   "cell_type": "code",
   "execution_count": null,
   "metadata": {},
   "outputs": [],
   "source": [
    "df_mg8_m = pd.merge(df_mg7_m, wg_min, how = 'inner', left_on = 'Date', right_on = 'Date')\n",
    "df_mg8_m = df_mg8_m.rename(columns={'min': 'wind_gust_min'})\n",
    "df_specie_min_m = df_mg8_m #Final DataFrame\n",
    "df_specie_min_m.head()"
   ]
  },
  {
   "cell_type": "code",
   "execution_count": null,
   "metadata": {},
   "outputs": [],
   "source": [
    "#correlation matrix\n",
    "correlation_matrix1_m1 = df_specie_min_m.corr()\n",
    "correlation_matrix1_m1"
   ]
  },
  {
   "cell_type": "code",
   "execution_count": null,
   "metadata": {},
   "outputs": [],
   "source": [
    "#Heatmap\n",
    "sns.heatmap(correlation_matrix1_m1, annot = True)\n",
    "plt.title(\"Correlation Matrix between the factors affecting air quality concerning their min value\")\n",
    "plt.xlabel(\"Factors affecting air quality\")\n",
    "plt.ylabel(\"Factors affecting air quality\")\n",
    "plt.show()"
   ]
  },
  {
   "cell_type": "markdown",
   "metadata": {},
   "source": [
    "## Plots between related Species."
   ]
  },
  {
   "cell_type": "markdown",
   "metadata": {},
   "source": [
    "### Correlation between the maximum value of each specie before and during COVID."
   ]
  },
  {
   "cell_type": "code",
   "execution_count": null,
   "metadata": {},
   "outputs": [],
   "source": [
    "#pm10\n",
    "df_marseille_pm10_bc = df_marseille_bc[df_marseille_bc['Specie'] == 'pm10'].sort_values(by='Date', ascending = True)\n",
    "df_marseille_pm10_bc.head()"
   ]
  },
  {
   "cell_type": "code",
   "execution_count": null,
   "metadata": {},
   "outputs": [],
   "source": [
    "#o3\n",
    "df_marseille_o3_bc = df_marseille_bc[df_marseille_bc['Specie'] == 'o3'].sort_values(by='Date', ascending = True)\n",
    "df_marseille_o3_bc.head()"
   ]
  },
  {
   "cell_type": "code",
   "execution_count": null,
   "metadata": {},
   "outputs": [],
   "source": [
    "#no2\n",
    "df_marseille_no2_bc = df_marseille_bc[df_marseille_bc['Specie'] == 'no2'].sort_values(by='Date', ascending = True)\n",
    "df_marseille_no2_bc.head()"
   ]
  },
  {
   "cell_type": "code",
   "execution_count": null,
   "metadata": {},
   "outputs": [],
   "source": [
    "#pm25 over time \n",
    "df_marseille_pm25_bc = df_marseille_bc[df_marseille_bc['Specie'] == 'pm25'].sort_values(by='Date', ascending = True)\n",
    "df_marseille_pm25_bc.head()"
   ]
  },
  {
   "cell_type": "code",
   "execution_count": null,
   "metadata": {},
   "outputs": [],
   "source": [
    "#temperature\n",
    "df_marseille_temp_bc = df_marseille_bc[df_marseille_bc['Specie'] == 'temperature'].sort_values(by='Date', ascending = True)\n",
    "df_marseille_temp_bc.head()"
   ]
  },
  {
   "cell_type": "code",
   "execution_count": null,
   "metadata": {},
   "outputs": [],
   "source": [
    "#humidity\n",
    "df_marseille_hum_bc = df_marseille_bc[df_marseille_bc['Specie'] == 'humidity'].sort_values(by='Date', ascending = True)\n",
    "df_marseille_hum_bc.head()"
   ]
  },
  {
   "cell_type": "code",
   "execution_count": null,
   "metadata": {},
   "outputs": [],
   "source": [
    "#wind_speed\n",
    "df_marseille_ws_bc = df_marseille_bc[df_marseille_bc['Specie'] == 'wind speed'].sort_values(by='Date', ascending = True)\n",
    "df_marseille_ws_bc.head()"
   ]
  },
  {
   "cell_type": "code",
   "execution_count": null,
   "metadata": {},
   "outputs": [],
   "source": [
    "#dew \n",
    "df_marseille_dew_bc = df_marseille_bc[df_marseille_bc['Specie'] == 'dew'].sort_values(by='Date', ascending = True)\n",
    "df_marseille_dew_bc.head()"
   ]
  },
  {
   "cell_type": "code",
   "execution_count": null,
   "metadata": {},
   "outputs": [],
   "source": [
    "#wind-gust\n",
    "df_marseille_wg_bc = df_marseille_bc[df_marseille_bc['Specie'] == 'wind gust'].sort_values(by='Date', ascending = True)\n",
    "df_marseille_wg_bc.head()"
   ]
  },
  {
   "cell_type": "code",
   "execution_count": null,
   "metadata": {},
   "outputs": [],
   "source": [
    "#correlation with temperature\n",
    "fig = plt.figure(figsize=(250, 20))\n",
    "          \n",
    "\n",
    "#correlation with pm25\n",
    "plt.subplot(1,2,1)\n",
    "plt.plot(df_marseille_pm25_bc['Date'], df_marseille_pm25_bc['max'], label = 'pm25 before covid')\n",
    "plt.xticks(rotation='vertical')\n",
    "\n",
    "\n",
    "#correlation with no2 \n",
    "plt.subplot(1,2,1)\n",
    "plt.plot(df_marseille_no2_bc['Date'], df_marseille_no2_bc['max'], label = 'no2 before covid')\n",
    "plt.xticks(rotation='vertical')\n",
    "\n",
    "\n",
    "#correlation with pm10\n",
    "plt.subplot(1,2,1)\n",
    "plt.plot(df_marseille_pm10_bc['Date'], df_marseille_pm10_bc['max'], label = 'pm10 before covid')\n",
    "plt.xticks(rotation='vertical')\n",
    "\n",
    "\n",
    "          \n",
    "#correlation with pm25\n",
    "plt.subplot(1,2,1)\n",
    "plt.plot(df_marseille_pm25_dc['Date'], df_marseille_pm25_dc['max'], label = 'pm25 during covid')\n",
    "plt.xticks(rotation='vertical')\n",
    "\n",
    "\n",
    "#correlation with no2 \n",
    "plt.subplot(1,2,1)\n",
    "plt.plot(df_marseille_no2_dc['Date'], df_marseille_no2_dc['max'], label = 'no2 during covid')\n",
    "plt.xticks(rotation='vertical')\n",
    "\n",
    "\n",
    "#correlation with pm10\n",
    "plt.subplot(1,2,1)\n",
    "plt.plot(df_marseille_pm10_dc['Date'], df_marseille_pm10_dc['max'], label = 'pm10 during covid')\n",
    "plt.xticks(rotation='vertical')\n",
    "\n",
    "\n",
    "plt.xlabel('Period before and during COVID')\n",
    "plt.ylabel('Maximum level')\n",
    "plt.legend(loc=2, prop={'size': 8})\n",
    "plt.title('Correlation between the max values of the species pm25, no2 and pm10 before and during covid in marseille')"
   ]
  },
  {
   "cell_type": "code",
   "execution_count": null,
   "metadata": {},
   "outputs": [],
   "source": [
    "#correlation with temperature\n",
    "fig = plt.figure(figsize=(250, 20))\n",
    "plt.subplot(1,2,1)\n",
    "plt.plot(df_marseille_temp_bc['Date'], df_marseille_temp_bc['max'], label = 'temperature before covid')\n",
    "plt.xticks(rotation='vertical')\n",
    "           \n",
    "\n",
    "#correlation with dew\n",
    "plt.subplot(1,2,1)\n",
    "plt.plot(df_marseille_dew_bc['Date'], df_marseille_dew_bc['max'], label = 'dew before covid')\n",
    "plt.xticks(rotation='vertical')\n",
    "\n",
    "plt.subplot(1,2,1)\n",
    "plt.plot(df_marseille_temp_dc['Date'], df_marseille_temp_dc['max'], label = 'temperature during covid')\n",
    "plt.xticks(rotation='vertical')\n",
    "           \n",
    "#correlation with dew\n",
    "plt.subplot(1,2,1)\n",
    "plt.plot(df_marseille_dew_dc['Date'], df_marseille_dew_dc['max'], label = 'dew during covid')\n",
    "plt.xticks(rotation='vertical')\n",
    "\n",
    "\n",
    "plt.xlabel('Period before and during COVID')\n",
    "plt.ylabel('Maximum level')\n",
    "plt.legend(loc=2, prop={'size': 8})\n",
    "plt.title('Correlation between the max values of the species temperature and dew before and during covid in marseille')"
   ]
  },
  {
   "cell_type": "code",
   "execution_count": null,
   "metadata": {},
   "outputs": [],
   "source": [
    "#correlation with temperature\n",
    "fig = plt.figure(figsize=(130, 20))\n",
    "\n",
    "\n",
    "#correlation with wind speed\n",
    "plt.subplot(1,2,1)\n",
    "plt.plot(df_marseille_ws_bc['Date'], df_marseille_ws_bc['max'], label = 'wind-speed before covid')\n",
    "plt.xticks(rotation='vertical')\n",
    "\n",
    "#correlation with wind-gust\n",
    "plt.subplot(1,2,1)\n",
    "plt.plot(df_marseille_wg_bc['Date'], df_marseille_wg_bc['max'], label = 'wind-gust before covid')\n",
    "plt.xticks(rotation='vertical')\n",
    "\n",
    "\n",
    "#correlation with wind speed\n",
    "plt.subplot(1,2,1)\n",
    "plt.plot(df_marseille_ws_dc['Date'], df_marseille_ws_dc['max'], label = 'wind-speed during covid')\n",
    "plt.xticks(rotation='vertical')\n",
    "\n",
    "\n",
    "#correlation with wind-gust\n",
    "plt.subplot(1,2,1)\n",
    "plt.plot(df_marseille_wg_dc['Date'], df_marseille_wg_dc['max'], label = 'wind-gust during covid')\n",
    "plt.xticks(rotation='vertical')\n",
    "\n",
    "\n",
    "plt.xlabel('Period before and during  COVID')\n",
    "plt.ylabel('Maximum level')\n",
    "plt.legend(loc=2, prop={'size': 8})\n",
    "plt.title('Correlation between the max values of the species wind-speed and wind-gust before and during covid in marseille')"
   ]
  },
  {
   "cell_type": "markdown",
   "metadata": {},
   "source": [
    "### Correlation between the maximum value of each specie during COVID."
   ]
  },
  {
   "cell_type": "code",
   "execution_count": null,
   "metadata": {},
   "outputs": [],
   "source": [
    "#pm10\n",
    "df_marseille_pm10_dc = df_marseille_dc[df_marseille_dc['Specie'] == 'pm10'].sort_values(by='Date', ascending = True)\n",
    "df_marseille_pm10_dc.head()"
   ]
  },
  {
   "cell_type": "code",
   "execution_count": null,
   "metadata": {},
   "outputs": [],
   "source": [
    "#o3\n",
    "df_marseille_o3_dc = df_marseille_dc[df_marseille_dc['Specie'] == 'o3'].sort_values(by='Date', ascending = True)\n",
    "df_marseille_o3_dc.head()"
   ]
  },
  {
   "cell_type": "code",
   "execution_count": null,
   "metadata": {},
   "outputs": [],
   "source": [
    "#pm25\n",
    "df_marseille_pm25_dc = df_marseille_dc[df_marseille_dc['Specie'] == 'pm25'].sort_values(by='Date', ascending = True)\n",
    "df_marseille_pm25_dc.head()"
   ]
  },
  {
   "cell_type": "code",
   "execution_count": null,
   "metadata": {},
   "outputs": [],
   "source": [
    "#no2\n",
    "df_marseille_no2_dc = df_marseille_dc[df_marseille_dc['Specie'] == 'no2'].sort_values(by='Date', ascending = True)\n",
    "df_marseille_no2_dc.head()"
   ]
  },
  {
   "cell_type": "code",
   "execution_count": null,
   "metadata": {},
   "outputs": [],
   "source": [
    "#wind gust\n",
    "df_marseille_wg_dc = df_marseille_dc[df_marseille_dc['Specie'] == 'wind gust'].sort_values(by='Date', ascending = True)\n",
    "df_marseille_wg_dc.head()"
   ]
  },
  {
   "cell_type": "code",
   "execution_count": null,
   "metadata": {},
   "outputs": [],
   "source": [
    "#wind speed \n",
    "df_marseille_ws_dc = df_marseille_dc[df_marseille_dc['Specie'] == 'wind speed'].sort_values(by='Date', ascending = True)\n",
    "df_marseille_ws_dc.head()"
   ]
  },
  {
   "cell_type": "code",
   "execution_count": null,
   "metadata": {},
   "outputs": [],
   "source": [
    "#dew\n",
    "df_marseille_dew_dc = df_marseille_dc[df_marseille_dc['Specie'] == 'dew'].sort_values(by='Date', ascending = True)\n",
    "df_marseille_dew_dc.head()"
   ]
  },
  {
   "cell_type": "code",
   "execution_count": null,
   "metadata": {},
   "outputs": [],
   "source": [
    "#pressure\n",
    "df_marseille_ps_dc = df_marseille_dc[df_marseille_dc['Specie'] == 'pressure'].sort_values(by='Date', ascending = True)\n",
    "df_marseille_ps_dc.head()"
   ]
  },
  {
   "cell_type": "code",
   "execution_count": null,
   "metadata": {},
   "outputs": [],
   "source": [
    "#humidity \n",
    "df_marseille_hum_dc = df_marseille_dc[df_marseille_dc['Specie'] == 'humidity'].sort_values(by='Date', ascending = True)\n",
    "df_marseille_hum_dc.head()"
   ]
  },
  {
   "cell_type": "code",
   "execution_count": null,
   "metadata": {},
   "outputs": [],
   "source": [
    "#temperature\n",
    "df_marseille_temp_dc = df_marseille_dc[df_marseille_dc['Specie'] == 'temperature'].sort_values(by='Date', ascending = True)\n",
    "df_marseille_temp_dc.head()"
   ]
  },
  {
   "cell_type": "markdown",
   "metadata": {},
   "source": [
    "### Correlation between the minimum value of each specie before and during COVID."
   ]
  },
  {
   "cell_type": "code",
   "execution_count": null,
   "metadata": {},
   "outputs": [],
   "source": [
    "#correlation with temperature\n",
    "fig = plt.figure(figsize=(250, 20))\n",
    "\n",
    "#correlation with pm25\n",
    "plt.subplot(1,2,1)\n",
    "plt.plot(df_marseille_pm25_bc['Date'], df_marseille_pm25_bc['min'], label = 'pm25 before covid')\n",
    "plt.xticks(rotation='vertical')\n",
    "\n",
    "\n",
    "#correlation with no2 \n",
    "plt.subplot(1,2,1)\n",
    "plt.plot(df_marseille_no2_bc['Date'], df_marseille_no2_bc['min'], label = 'no2 before covid')\n",
    "plt.xticks(rotation='vertical')\n",
    "\n",
    "#correlation with pm10\n",
    "plt.subplot(1,2,1)\n",
    "plt.plot(df_marseille_pm10_bc['Date'], df_marseille_pm10_bc['min'], label = 'pm10 before covid')\n",
    "plt.xticks(rotation='vertical')\n",
    "\n",
    "#correlation with pm25\n",
    "plt.subplot(1,2,1)\n",
    "plt.plot(df_marseille_pm25_dc['Date'], df_marseille_pm25_dc['min'], label = 'pm25 during covid')\n",
    "plt.xticks(rotation='vertical')\n",
    "\n",
    "\n",
    "#correlation with no2 \n",
    "plt.subplot(1,2,1)\n",
    "plt.plot(df_marseille_no2_dc['Date'], df_marseille_no2_dc['min'], label = 'no2 during covid')\n",
    "plt.xticks(rotation='vertical')\n",
    "\n",
    "\n",
    "#correlation with pm10\n",
    "plt.subplot(1,2,1)\n",
    "plt.plot(df_marseille_pm10_dc['Date'], df_marseille_pm10_dc['min'], label = 'pm10 during covid')\n",
    "plt.xticks(rotation='vertical')\n",
    "\n",
    "\n",
    "plt.xlabel('Period before and during COVID')\n",
    "plt.ylabel('Minimum level')\n",
    "plt.legend(loc=2, prop={'size': 8})\n",
    "plt.title('Correlation between the min values of the species pm25, no2 and pm10 before and during covid in marseille')"
   ]
  },
  {
   "cell_type": "code",
   "execution_count": null,
   "metadata": {},
   "outputs": [],
   "source": [
    "#correlation with temperature\n",
    "fig = plt.figure(figsize=(250, 20))\n",
    "plt.subplot(1,2,1)\n",
    "plt.plot(df_marseille_temp_bc['Date'], df_marseille_temp_bc['min'], label = 'temperature before covid')\n",
    "plt.xticks(rotation='vertical')\n",
    "\n",
    "#correlation with dew\n",
    "plt.subplot(1,2,1)\n",
    "plt.plot(df_marseille_dew_bc['Date'], df_marseille_dew_bc['min'], label = 'dew before covid')\n",
    "plt.xticks(rotation='vertical')\n",
    "\n",
    "plt.subplot(1,2,1)\n",
    "plt.plot(df_marseille_temp_dc['Date'], df_marseille_temp_dc['min'], label = 'temperature during covid')\n",
    "plt.xticks(rotation='vertical')\n",
    "           \n",
    "#correlation with dew\n",
    "plt.subplot(1,2,1)\n",
    "plt.plot(df_marseille_dew_dc['Date'], df_marseille_dew_dc['min'], label = 'dew during covid')\n",
    "plt.xticks(rotation='vertical')\n",
    "\n",
    "\n",
    "plt.xlabel('Period before and during COVID')\n",
    "plt.ylabel('Minimum level')\n",
    "plt.legend(loc=2, prop={'size': 8})\n",
    "plt.title('Correlation between the min values of the species temperature and dew before and during covid in marseille')"
   ]
  },
  {
   "cell_type": "code",
   "execution_count": null,
   "metadata": {},
   "outputs": [],
   "source": [
    "#correlation with temperature\n",
    "fig = plt.figure(figsize=(250, 20))\n",
    "\n",
    "#correlation with wind speed\n",
    "plt.subplot(1,2,1)\n",
    "plt.plot(df_marseille_ws_bc['Date'], df_marseille_ws_bc['min'], label = 'wind-speed before covid')\n",
    "plt.xticks(rotation='vertical')\n",
    "\n",
    "\n",
    "#correlation with wind-gust\n",
    "plt.subplot(1,2,1)\n",
    "plt.plot(df_marseille_wg_bc['Date'], df_marseille_wg_bc['min'], label = 'wind-gust before covid')\n",
    "plt.xticks(rotation='vertical')\n",
    "\n",
    "#correlation with wind speed\n",
    "plt.subplot(1,2,1)\n",
    "plt.plot(df_marseille_ws_dc['Date'], df_marseille_ws_dc['min'], label = 'wind-speed during covid')\n",
    "plt.xticks(rotation='vertical')\n",
    "\n",
    "\n",
    "#correlation with wind-gust\n",
    "plt.subplot(1,2,1)\n",
    "plt.plot(df_marseille_wg_dc['Date'], df_marseille_wg_dc['min'], label = 'wind-gust during covid')\n",
    "plt.xticks(rotation='vertical')\n",
    "\n",
    "plt.xlabel('Period before and during COVID')\n",
    "plt.ylabel('Minimum level')\n",
    "plt.legend(loc=2, prop={'size': 8})\n",
    "plt.title('Correlation between the min values of the species wind-speed and wind-gust before and duringcovid in marseille')"
   ]
  }
 ],
 "metadata": {
  "kernelspec": {
   "display_name": "Python 3",
   "language": "python",
   "name": "python3"
  },
  "language_info": {
   "codemirror_mode": {
    "name": "ipython",
    "version": 3
   },
   "file_extension": ".py",
   "mimetype": "text/x-python",
   "name": "python",
   "nbconvert_exporter": "python",
   "pygments_lexer": "ipython3",
   "version": "3.7.4"
  }
 },
 "nbformat": 4,
 "nbformat_minor": 4
}
